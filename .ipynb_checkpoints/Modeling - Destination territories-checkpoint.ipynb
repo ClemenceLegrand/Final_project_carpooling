{
 "cells": [
  {
   "cell_type": "markdown",
   "id": "2586e0c3",
   "metadata": {},
   "source": [
    "# Predict the number of carpooling around you"
   ]
  },
  {
   "cell_type": "markdown",
   "id": "17ff9bc5",
   "metadata": {},
   "source": [
    "## Preparing the data"
   ]
  },
  {
   "cell_type": "code",
   "execution_count": 1,
   "id": "9ef342ea",
   "metadata": {},
   "outputs": [],
   "source": [
    "#2022 on Ile-de-France region"
   ]
  },
  {
   "cell_type": "code",
   "execution_count": 103,
   "id": "954fd944",
   "metadata": {},
   "outputs": [],
   "source": [
    "import pandas as pd\n",
    "import warnings\n",
    "warnings.filterwarnings('ignore')"
   ]
  },
  {
   "cell_type": "code",
   "execution_count": 107,
   "id": "a0dcf96a",
   "metadata": {},
   "outputs": [],
   "source": [
    "df_2022=pd.read_csv(\"/Users/clemence/IRONHACK/Final_project/Main data set clean/df2022_clean.csv\")"
   ]
  },
  {
   "cell_type": "code",
   "execution_count": 22,
   "id": "d5eb8a94",
   "metadata": {},
   "outputs": [
    {
     "data": {
      "text/html": [
       "<div>\n",
       "<style scoped>\n",
       "    .dataframe tbody tr th:only-of-type {\n",
       "        vertical-align: middle;\n",
       "    }\n",
       "\n",
       "    .dataframe tbody tr th {\n",
       "        vertical-align: top;\n",
       "    }\n",
       "\n",
       "    .dataframe thead th {\n",
       "        text-align: right;\n",
       "    }\n",
       "</style>\n",
       "<table border=\"1\" class=\"dataframe\">\n",
       "  <thead>\n",
       "    <tr style=\"text-align: right;\">\n",
       "      <th></th>\n",
       "      <th>Unnamed: 0</th>\n",
       "      <th>journey_id</th>\n",
       "      <th>trip_id</th>\n",
       "      <th>journey_start_datetime</th>\n",
       "      <th>journey_start_date</th>\n",
       "      <th>journey_start_time</th>\n",
       "      <th>journey_start_lon</th>\n",
       "      <th>journey_start_lat</th>\n",
       "      <th>journey_start_insee</th>\n",
       "      <th>journey_start_department</th>\n",
       "      <th>...</th>\n",
       "      <th>journey_end_lon</th>\n",
       "      <th>journey_end_lat</th>\n",
       "      <th>journey_end_insee</th>\n",
       "      <th>journey_end_department</th>\n",
       "      <th>journey_end_towngroup</th>\n",
       "      <th>journey_distance</th>\n",
       "      <th>journey_duration</th>\n",
       "      <th>has_incentive</th>\n",
       "      <th>nb_passengers</th>\n",
       "      <th>year</th>\n",
       "    </tr>\n",
       "  </thead>\n",
       "  <tbody>\n",
       "    <tr>\n",
       "      <th>0</th>\n",
       "      <td>401044</td>\n",
       "      <td>7668840</td>\n",
       "      <td>fecae00f-6bfe-46a2-b59d-5571b1723740</td>\n",
       "      <td>2022-07-01T00:00:00+02:00</td>\n",
       "      <td>2022-07-01</td>\n",
       "      <td>00:00:00</td>\n",
       "      <td>2.784</td>\n",
       "      <td>48.866</td>\n",
       "      <td>77111</td>\n",
       "      <td>77.0</td>\n",
       "      <td>...</td>\n",
       "      <td>2.817</td>\n",
       "      <td>48.850</td>\n",
       "      <td>77018</td>\n",
       "      <td>77.0</td>\n",
       "      <td>CA Val d'Europe Agglomération</td>\n",
       "      <td>4993</td>\n",
       "      <td>11</td>\n",
       "      <td>OUI</td>\n",
       "      <td>4</td>\n",
       "      <td>2022</td>\n",
       "    </tr>\n",
       "    <tr>\n",
       "      <th>1</th>\n",
       "      <td>401045</td>\n",
       "      <td>7689879</td>\n",
       "      <td>f358cd4d-010e-4952-89be-b9b882b7c580</td>\n",
       "      <td>2022-07-01T00:00:00+02:00</td>\n",
       "      <td>2022-07-01</td>\n",
       "      <td>00:00:00</td>\n",
       "      <td>2.562</td>\n",
       "      <td>48.530</td>\n",
       "      <td>77040</td>\n",
       "      <td>77.0</td>\n",
       "      <td>...</td>\n",
       "      <td>2.612</td>\n",
       "      <td>48.565</td>\n",
       "      <td>77495</td>\n",
       "      <td>77.0</td>\n",
       "      <td>CA Grand Paris Sud Seine Essonne Sénart</td>\n",
       "      <td>8876</td>\n",
       "      <td>16</td>\n",
       "      <td>OUI</td>\n",
       "      <td>2</td>\n",
       "      <td>2022</td>\n",
       "    </tr>\n",
       "    <tr>\n",
       "      <th>2</th>\n",
       "      <td>401046</td>\n",
       "      <td>7689880</td>\n",
       "      <td>290e9d12-329f-4cc7-b78b-16d86eec506a</td>\n",
       "      <td>2022-07-01T00:00:00+02:00</td>\n",
       "      <td>2022-07-01</td>\n",
       "      <td>00:00:00</td>\n",
       "      <td>1.964</td>\n",
       "      <td>48.773</td>\n",
       "      <td>78208</td>\n",
       "      <td>78.0</td>\n",
       "      <td>...</td>\n",
       "      <td>2.450</td>\n",
       "      <td>48.843</td>\n",
       "      <td>75056</td>\n",
       "      <td>75.0</td>\n",
       "      <td>Métropole du Grand Paris</td>\n",
       "      <td>43666</td>\n",
       "      <td>63</td>\n",
       "      <td>OUI</td>\n",
       "      <td>3</td>\n",
       "      <td>2022</td>\n",
       "    </tr>\n",
       "    <tr>\n",
       "      <th>3</th>\n",
       "      <td>401047</td>\n",
       "      <td>7689873</td>\n",
       "      <td>290e9d12-329f-4cc7-b78b-16d86eec506a</td>\n",
       "      <td>2022-07-01T00:00:00+02:00</td>\n",
       "      <td>2022-07-01</td>\n",
       "      <td>00:00:00</td>\n",
       "      <td>1.964</td>\n",
       "      <td>48.773</td>\n",
       "      <td>78208</td>\n",
       "      <td>78.0</td>\n",
       "      <td>...</td>\n",
       "      <td>2.450</td>\n",
       "      <td>48.843</td>\n",
       "      <td>75056</td>\n",
       "      <td>75.0</td>\n",
       "      <td>Métropole du Grand Paris</td>\n",
       "      <td>43666</td>\n",
       "      <td>63</td>\n",
       "      <td>OUI</td>\n",
       "      <td>3</td>\n",
       "      <td>2022</td>\n",
       "    </tr>\n",
       "    <tr>\n",
       "      <th>4</th>\n",
       "      <td>401048</td>\n",
       "      <td>7689877</td>\n",
       "      <td>428275c2-237a-4344-9f93-97eeced40c49</td>\n",
       "      <td>2022-07-01T00:00:00+02:00</td>\n",
       "      <td>2022-07-01</td>\n",
       "      <td>00:00:00</td>\n",
       "      <td>2.325</td>\n",
       "      <td>48.805</td>\n",
       "      <td>92007</td>\n",
       "      <td>92.0</td>\n",
       "      <td>...</td>\n",
       "      <td>2.107</td>\n",
       "      <td>48.703</td>\n",
       "      <td>91272</td>\n",
       "      <td>91.0</td>\n",
       "      <td>CA Communauté Paris-Saclay</td>\n",
       "      <td>23144</td>\n",
       "      <td>41</td>\n",
       "      <td>OUI</td>\n",
       "      <td>2</td>\n",
       "      <td>2022</td>\n",
       "    </tr>\n",
       "  </tbody>\n",
       "</table>\n",
       "<p>5 rows × 24 columns</p>\n",
       "</div>"
      ],
      "text/plain": [
       "   Unnamed: 0  journey_id                               trip_id  \\\n",
       "0      401044     7668840  fecae00f-6bfe-46a2-b59d-5571b1723740   \n",
       "1      401045     7689879  f358cd4d-010e-4952-89be-b9b882b7c580   \n",
       "2      401046     7689880  290e9d12-329f-4cc7-b78b-16d86eec506a   \n",
       "3      401047     7689873  290e9d12-329f-4cc7-b78b-16d86eec506a   \n",
       "4      401048     7689877  428275c2-237a-4344-9f93-97eeced40c49   \n",
       "\n",
       "      journey_start_datetime journey_start_date journey_start_time  \\\n",
       "0  2022-07-01T00:00:00+02:00         2022-07-01           00:00:00   \n",
       "1  2022-07-01T00:00:00+02:00         2022-07-01           00:00:00   \n",
       "2  2022-07-01T00:00:00+02:00         2022-07-01           00:00:00   \n",
       "3  2022-07-01T00:00:00+02:00         2022-07-01           00:00:00   \n",
       "4  2022-07-01T00:00:00+02:00         2022-07-01           00:00:00   \n",
       "\n",
       "   journey_start_lon  journey_start_lat journey_start_insee  \\\n",
       "0              2.784             48.866               77111   \n",
       "1              2.562             48.530               77040   \n",
       "2              1.964             48.773               78208   \n",
       "3              1.964             48.773               78208   \n",
       "4              2.325             48.805               92007   \n",
       "\n",
       "  journey_start_department  ... journey_end_lon journey_end_lat  \\\n",
       "0                     77.0  ...           2.817          48.850   \n",
       "1                     77.0  ...           2.612          48.565   \n",
       "2                     78.0  ...           2.450          48.843   \n",
       "3                     78.0  ...           2.450          48.843   \n",
       "4                     92.0  ...           2.107          48.703   \n",
       "\n",
       "  journey_end_insee journey_end_department  \\\n",
       "0             77018                   77.0   \n",
       "1             77495                   77.0   \n",
       "2             75056                   75.0   \n",
       "3             75056                   75.0   \n",
       "4             91272                   91.0   \n",
       "\n",
       "                     journey_end_towngroup  journey_distance journey_duration  \\\n",
       "0            CA Val d'Europe Agglomération              4993               11   \n",
       "1  CA Grand Paris Sud Seine Essonne Sénart              8876               16   \n",
       "2                 Métropole du Grand Paris             43666               63   \n",
       "3                 Métropole du Grand Paris             43666               63   \n",
       "4               CA Communauté Paris-Saclay             23144               41   \n",
       "\n",
       "  has_incentive nb_passengers  year  \n",
       "0           OUI             4  2022  \n",
       "1           OUI             2  2022  \n",
       "2           OUI             3  2022  \n",
       "3           OUI             3  2022  \n",
       "4           OUI             2  2022  \n",
       "\n",
       "[5 rows x 24 columns]"
      ]
     },
     "execution_count": 22,
     "metadata": {},
     "output_type": "execute_result"
    }
   ],
   "source": [
    "df_2022.head()"
   ]
  },
  {
   "cell_type": "code",
   "execution_count": 108,
   "id": "b6d2e6b5",
   "metadata": {},
   "outputs": [],
   "source": [
    "df_2022_IDF=df_2022[df_2022[\"journey_start_department\"].isin([\"75\",\"75.0\",\"77\",\"77.0\",\"78\",\"78.0\",\"92\",\"92.0\",\"93\",\"93.0\",\"94\",\"94.0\",\"95\",\"95.0\"])]"
   ]
  },
  {
   "cell_type": "code",
   "execution_count": 109,
   "id": "02995826",
   "metadata": {},
   "outputs": [
    {
     "data": {
      "text/plain": [
       "(107651, 24)"
      ]
     },
     "execution_count": 109,
     "metadata": {},
     "output_type": "execute_result"
    }
   ],
   "source": [
    "df_2022_IDF.shape"
   ]
  },
  {
   "cell_type": "code",
   "execution_count": 110,
   "id": "881140ec",
   "metadata": {},
   "outputs": [],
   "source": [
    "#it seems to be a good number of rows for modeling"
   ]
  },
  {
   "cell_type": "code",
   "execution_count": 111,
   "id": "9bec89af",
   "metadata": {},
   "outputs": [
    {
     "data": {
      "text/plain": [
       "Index(['Unnamed: 0', 'journey_id', 'trip_id', 'journey_start_datetime',\n",
       "       'journey_start_date', 'journey_start_time', 'journey_start_lon',\n",
       "       'journey_start_lat', 'journey_start_insee', 'journey_start_department',\n",
       "       'journey_start_towngroup', 'journey_end_datetime', 'journey_end_date',\n",
       "       'journey_end_time', 'journey_end_lon', 'journey_end_lat',\n",
       "       'journey_end_insee', 'journey_end_department', 'journey_end_towngroup',\n",
       "       'journey_distance', 'journey_duration', 'has_incentive',\n",
       "       'nb_passengers', 'year'],\n",
       "      dtype='object')"
      ]
     },
     "execution_count": 111,
     "metadata": {},
     "output_type": "execute_result"
    }
   ],
   "source": [
    "df_2022_IDF.columns"
   ]
  },
  {
   "cell_type": "code",
   "execution_count": 112,
   "id": "f48fa6a0",
   "metadata": {},
   "outputs": [],
   "source": [
    "df_2022_IDF.drop([\"Unnamed: 0\",\"journey_distance\",\"journey_duration\",\"has_incentive\",\"nb_passengers\",\"year\"],axis=1,inplace=True)"
   ]
  },
  {
   "cell_type": "code",
   "execution_count": 113,
   "id": "d8056c95",
   "metadata": {},
   "outputs": [
    {
     "data": {
      "text/plain": [
       "(107651, 18)"
      ]
     },
     "execution_count": 113,
     "metadata": {},
     "output_type": "execute_result"
    }
   ],
   "source": [
    "df_2022_IDF.shape"
   ]
  },
  {
   "cell_type": "code",
   "execution_count": 16,
   "id": "3877f467",
   "metadata": {},
   "outputs": [
    {
     "data": {
      "text/plain": [
       "Index(['journey_id', 'trip_id', 'journey_start_datetime', 'journey_start_date',\n",
       "       'journey_start_time', 'journey_start_lon', 'journey_start_lat',\n",
       "       'journey_start_insee', 'journey_start_department',\n",
       "       'journey_start_towngroup', 'journey_end_datetime', 'journey_end_date',\n",
       "       'journey_end_time', 'journey_end_lon', 'journey_end_lat',\n",
       "       'journey_end_insee', 'journey_end_department', 'journey_end_towngroup'],\n",
       "      dtype='object')"
      ]
     },
     "execution_count": 16,
     "metadata": {},
     "output_type": "execute_result"
    }
   ],
   "source": [
    "df_2022_IDF.columns"
   ]
  },
  {
   "cell_type": "code",
   "execution_count": 114,
   "id": "8c953659",
   "metadata": {},
   "outputs": [],
   "source": [
    "df_2022_IDF.drop([\"trip_id\",\"journey_start_datetime\",\"journey_start_date\",\"journey_start_insee\",\"journey_start_department\",\"journey_start_towngroup\",\"journey_end_datetime\",\"journey_end_date\",\"journey_end_time\",\"journey_end_insee\",\"journey_end_department\",\"journey_end_towngroup\"],axis=1,inplace=True)"
   ]
  },
  {
   "cell_type": "code",
   "execution_count": 29,
   "id": "d5a66ed4",
   "metadata": {},
   "outputs": [
    {
     "data": {
      "text/html": [
       "<div>\n",
       "<style scoped>\n",
       "    .dataframe tbody tr th:only-of-type {\n",
       "        vertical-align: middle;\n",
       "    }\n",
       "\n",
       "    .dataframe tbody tr th {\n",
       "        vertical-align: top;\n",
       "    }\n",
       "\n",
       "    .dataframe thead th {\n",
       "        text-align: right;\n",
       "    }\n",
       "</style>\n",
       "<table border=\"1\" class=\"dataframe\">\n",
       "  <thead>\n",
       "    <tr style=\"text-align: right;\">\n",
       "      <th></th>\n",
       "      <th>journey_id</th>\n",
       "      <th>journey_start_time</th>\n",
       "      <th>journey_start_lon</th>\n",
       "      <th>journey_start_lat</th>\n",
       "      <th>journey_end_lon</th>\n",
       "      <th>journey_end_lat</th>\n",
       "    </tr>\n",
       "  </thead>\n",
       "  <tbody>\n",
       "    <tr>\n",
       "      <th>32768</th>\n",
       "      <td>7745334</td>\n",
       "      <td>14:30:00</td>\n",
       "      <td>2.403</td>\n",
       "      <td>48.771</td>\n",
       "      <td>2.206</td>\n",
       "      <td>48.688</td>\n",
       "    </tr>\n",
       "    <tr>\n",
       "      <th>32769</th>\n",
       "      <td>7745475</td>\n",
       "      <td>14:30:00</td>\n",
       "      <td>2.565</td>\n",
       "      <td>48.945</td>\n",
       "      <td>2.525</td>\n",
       "      <td>48.975</td>\n",
       "    </tr>\n",
       "    <tr>\n",
       "      <th>32770</th>\n",
       "      <td>7721587</td>\n",
       "      <td>14:30:00</td>\n",
       "      <td>2.456</td>\n",
       "      <td>48.816</td>\n",
       "      <td>2.479</td>\n",
       "      <td>48.806</td>\n",
       "    </tr>\n",
       "    <tr>\n",
       "      <th>32772</th>\n",
       "      <td>7721613</td>\n",
       "      <td>14:30:00</td>\n",
       "      <td>2.437</td>\n",
       "      <td>48.944</td>\n",
       "      <td>2.477</td>\n",
       "      <td>48.905</td>\n",
       "    </tr>\n",
       "    <tr>\n",
       "      <th>32773</th>\n",
       "      <td>7721564</td>\n",
       "      <td>14:30:00</td>\n",
       "      <td>2.771</td>\n",
       "      <td>48.857</td>\n",
       "      <td>2.797</td>\n",
       "      <td>48.871</td>\n",
       "    </tr>\n",
       "  </tbody>\n",
       "</table>\n",
       "</div>"
      ],
      "text/plain": [
       "       journey_id journey_start_time  journey_start_lon  journey_start_lat  \\\n",
       "32768     7745334           14:30:00              2.403             48.771   \n",
       "32769     7745475           14:30:00              2.565             48.945   \n",
       "32770     7721587           14:30:00              2.456             48.816   \n",
       "32772     7721613           14:30:00              2.437             48.944   \n",
       "32773     7721564           14:30:00              2.771             48.857   \n",
       "\n",
       "       journey_end_lon  journey_end_lat  \n",
       "32768            2.206           48.688  \n",
       "32769            2.525           48.975  \n",
       "32770            2.479           48.806  \n",
       "32772            2.477           48.905  \n",
       "32773            2.797           48.871  "
      ]
     },
     "execution_count": 29,
     "metadata": {},
     "output_type": "execute_result"
    }
   ],
   "source": [
    "df_2022_IDF.head()"
   ]
  },
  {
   "cell_type": "code",
   "execution_count": 115,
   "id": "e409c523",
   "metadata": {},
   "outputs": [],
   "source": [
    "df_2022_IDF.drop([\"journey_end_lon\",\"journey_end_lat\"],axis=1,inplace=True)"
   ]
  },
  {
   "cell_type": "code",
   "execution_count": 116,
   "id": "827f63c4",
   "metadata": {},
   "outputs": [],
   "source": [
    "df_2022_IDF.set_index(\"journey_id\",inplace=True)"
   ]
  },
  {
   "cell_type": "code",
   "execution_count": 117,
   "id": "0b693435",
   "metadata": {},
   "outputs": [
    {
     "data": {
      "text/html": [
       "<div>\n",
       "<style scoped>\n",
       "    .dataframe tbody tr th:only-of-type {\n",
       "        vertical-align: middle;\n",
       "    }\n",
       "\n",
       "    .dataframe tbody tr th {\n",
       "        vertical-align: top;\n",
       "    }\n",
       "\n",
       "    .dataframe thead th {\n",
       "        text-align: right;\n",
       "    }\n",
       "</style>\n",
       "<table border=\"1\" class=\"dataframe\">\n",
       "  <thead>\n",
       "    <tr style=\"text-align: right;\">\n",
       "      <th></th>\n",
       "      <th>journey_start_time</th>\n",
       "      <th>journey_start_lon</th>\n",
       "      <th>journey_start_lat</th>\n",
       "    </tr>\n",
       "    <tr>\n",
       "      <th>journey_id</th>\n",
       "      <th></th>\n",
       "      <th></th>\n",
       "      <th></th>\n",
       "    </tr>\n",
       "  </thead>\n",
       "  <tbody>\n",
       "    <tr>\n",
       "      <th>7745334</th>\n",
       "      <td>14:30:00</td>\n",
       "      <td>2.403</td>\n",
       "      <td>48.771</td>\n",
       "    </tr>\n",
       "    <tr>\n",
       "      <th>7745475</th>\n",
       "      <td>14:30:00</td>\n",
       "      <td>2.565</td>\n",
       "      <td>48.945</td>\n",
       "    </tr>\n",
       "    <tr>\n",
       "      <th>7721587</th>\n",
       "      <td>14:30:00</td>\n",
       "      <td>2.456</td>\n",
       "      <td>48.816</td>\n",
       "    </tr>\n",
       "    <tr>\n",
       "      <th>7721613</th>\n",
       "      <td>14:30:00</td>\n",
       "      <td>2.437</td>\n",
       "      <td>48.944</td>\n",
       "    </tr>\n",
       "    <tr>\n",
       "      <th>7721564</th>\n",
       "      <td>14:30:00</td>\n",
       "      <td>2.771</td>\n",
       "      <td>48.857</td>\n",
       "    </tr>\n",
       "  </tbody>\n",
       "</table>\n",
       "</div>"
      ],
      "text/plain": [
       "           journey_start_time  journey_start_lon  journey_start_lat\n",
       "journey_id                                                         \n",
       "7745334              14:30:00              2.403             48.771\n",
       "7745475              14:30:00              2.565             48.945\n",
       "7721587              14:30:00              2.456             48.816\n",
       "7721613              14:30:00              2.437             48.944\n",
       "7721564              14:30:00              2.771             48.857"
      ]
     },
     "execution_count": 117,
     "metadata": {},
     "output_type": "execute_result"
    }
   ],
   "source": [
    "df_2022_IDF.head()"
   ]
  },
  {
   "cell_type": "code",
   "execution_count": 300,
   "id": "ec28810d",
   "metadata": {},
   "outputs": [],
   "source": [
    "df_2022_IDF.to_csv(\"/Users/clemence/IRONHACK/Final_project_carpool/Final_project_carpooling/data_model.csv\")"
   ]
  },
  {
   "cell_type": "code",
   "execution_count": 20,
   "id": "e2a4931c",
   "metadata": {},
   "outputs": [],
   "source": [
    "#I keep only the necessary columns for the model"
   ]
  },
  {
   "cell_type": "code",
   "execution_count": 33,
   "id": "fe0d9827",
   "metadata": {},
   "outputs": [
    {
     "data": {
      "text/html": [
       "<div>\n",
       "<style scoped>\n",
       "    .dataframe tbody tr th:only-of-type {\n",
       "        vertical-align: middle;\n",
       "    }\n",
       "\n",
       "    .dataframe tbody tr th {\n",
       "        vertical-align: top;\n",
       "    }\n",
       "\n",
       "    .dataframe thead th {\n",
       "        text-align: right;\n",
       "    }\n",
       "</style>\n",
       "<table border=\"1\" class=\"dataframe\">\n",
       "  <thead>\n",
       "    <tr style=\"text-align: right;\">\n",
       "      <th></th>\n",
       "      <th>journey_start_lon</th>\n",
       "      <th>journey_start_lat</th>\n",
       "    </tr>\n",
       "  </thead>\n",
       "  <tbody>\n",
       "    <tr>\n",
       "      <th>count</th>\n",
       "      <td>107651.000000</td>\n",
       "      <td>107651.000000</td>\n",
       "    </tr>\n",
       "    <tr>\n",
       "      <th>mean</th>\n",
       "      <td>2.359058</td>\n",
       "      <td>48.845382</td>\n",
       "    </tr>\n",
       "    <tr>\n",
       "      <th>std</th>\n",
       "      <td>0.253471</td>\n",
       "      <td>0.122624</td>\n",
       "    </tr>\n",
       "    <tr>\n",
       "      <th>min</th>\n",
       "      <td>1.450000</td>\n",
       "      <td>48.125000</td>\n",
       "    </tr>\n",
       "    <tr>\n",
       "      <th>25%</th>\n",
       "      <td>2.218000</td>\n",
       "      <td>48.787000</td>\n",
       "    </tr>\n",
       "    <tr>\n",
       "      <th>50%</th>\n",
       "      <td>2.361000</td>\n",
       "      <td>48.845000</td>\n",
       "    </tr>\n",
       "    <tr>\n",
       "      <th>75%</th>\n",
       "      <td>2.532000</td>\n",
       "      <td>48.927000</td>\n",
       "    </tr>\n",
       "    <tr>\n",
       "      <th>max</th>\n",
       "      <td>3.478000</td>\n",
       "      <td>49.204000</td>\n",
       "    </tr>\n",
       "  </tbody>\n",
       "</table>\n",
       "</div>"
      ],
      "text/plain": [
       "       journey_start_lon  journey_start_lat\n",
       "count      107651.000000      107651.000000\n",
       "mean            2.359058          48.845382\n",
       "std             0.253471           0.122624\n",
       "min             1.450000          48.125000\n",
       "25%             2.218000          48.787000\n",
       "50%             2.361000          48.845000\n",
       "75%             2.532000          48.927000\n",
       "max             3.478000          49.204000"
      ]
     },
     "execution_count": 33,
     "metadata": {},
     "output_type": "execute_result"
    }
   ],
   "source": [
    "df_2022_IDF.describe()"
   ]
  },
  {
   "cell_type": "code",
   "execution_count": 118,
   "id": "e3bc6c68",
   "metadata": {},
   "outputs": [],
   "source": [
    "#I keep the max and min in a dict for later\n",
    "importantValuesMax = df_2022_IDF.max().to_dict()\n",
    "importantValuesMin = df_2022_IDF.min().to_dict()"
   ]
  },
  {
   "cell_type": "code",
   "execution_count": 119,
   "id": "ebfe311d",
   "metadata": {},
   "outputs": [],
   "source": [
    "df_2022_IDF[\"journey_start_time\"] = pd.to_datetime(df_2022_IDF[\"journey_start_time\"])"
   ]
  },
  {
   "cell_type": "code",
   "execution_count": 120,
   "id": "34995a97",
   "metadata": {},
   "outputs": [],
   "source": [
    "from matplotlib import pyplot as plt"
   ]
  },
  {
   "cell_type": "code",
   "execution_count": 121,
   "id": "0bbe2978",
   "metadata": {},
   "outputs": [
    {
     "data": {
      "text/plain": [
       "<matplotlib.collections.PathCollection at 0x7fc35957f910>"
      ]
     },
     "execution_count": 121,
     "metadata": {},
     "output_type": "execute_result"
    },
    {
     "data": {
      "image/png": "[encoded data removed]",
      "text/plain": [
       "<Figure size 640x480 with 1 Axes>"
      ]
     },
     "metadata": {},
     "output_type": "display_data"
    }
   ],
   "source": [
    "plt.scatter(df_2022_IDF['journey_start_lon'],df_2022_IDF['journey_start_lat'])"
   ]
  },
  {
   "cell_type": "markdown",
   "id": "1f7fdb0c",
   "metadata": {},
   "source": [
    "## Clustering"
   ]
  },
  {
   "cell_type": "code",
   "execution_count": 122,
   "id": "5beb7984",
   "metadata": {},
   "outputs": [],
   "source": [
    "clusters_df = df_2022_IDF[['journey_start_lat', 'journey_start_lon']]"
   ]
  },
  {
   "cell_type": "code",
   "execution_count": 123,
   "id": "88fce56e",
   "metadata": {},
   "outputs": [],
   "source": [
    "from sklearn.cluster import KMeans \n",
    "from sklearn import metrics \n",
    "from scipy.spatial.distance import cdist "
   ]
  },
  {
   "cell_type": "code",
   "execution_count": 124,
   "id": "9c131636",
   "metadata": {},
   "outputs": [],
   "source": [
    "Y_axis = clusters_df[['journey_start_lat']]\n",
    "X_axis = clusters_df[['journey_start_lon']]"
   ]
  },
  {
   "cell_type": "code",
   "execution_count": 167,
   "id": "efedb89d",
   "metadata": {},
   "outputs": [],
   "source": [
    "import numpy as np\n",
    "#Building and fitting the model\n",
    "distortions = [] \n",
    "inertias = [] \n",
    "mapping1 = {} \n",
    "mapping2 = {} \n",
    "K = range(6,100) \n",
    "X = clusters_df.sample(n=10000)\n",
    "  \n",
    "for k in K:  \n",
    "    kmeanModel = KMeans(n_clusters=k)\n",
    "    kmeanModel.fit(X)     \n",
    "      \n",
    "    distortions.append(sum(np.min(cdist(X, kmeanModel.cluster_centers_, \n",
    "                      'euclidean'),axis=1)) / X.shape[0]) \n",
    "    inertias.append(kmeanModel.inertia_) \n",
    "  \n",
    "    mapping1[k] = sum(np.min(cdist(X, kmeanModel.cluster_centers_, \n",
    "                 'euclidean'),axis=1)) / X.shape[0] \n",
    "    mapping2[k] = kmeanModel.inertia_ "
   ]
  },
  {
   "cell_type": "code",
   "execution_count": 168,
   "id": "52709012",
   "metadata": {},
   "outputs": [
    {
     "data": {
      "image/png": "[encoded data removed]",
      "text/plain": [
       "<Figure size 640x480 with 1 Axes>"
      ]
     },
     "metadata": {},
     "output_type": "display_data"
    }
   ],
   "source": [
    "plt.plot(K, distortions, 'bx-') \n",
    "plt.xlabel('Values of K') \n",
    "plt.ylabel('Distortion') \n",
    "plt.title('The Elbow Method using Distortion') \n",
    "plt.show() "
   ]
  },
  {
   "cell_type": "code",
   "execution_count": 166,
   "id": "0e1591d2",
   "metadata": {},
   "outputs": [],
   "source": [
    "#We can choose 30 k"
   ]
  },
  {
   "cell_type": "code",
   "execution_count": 201,
   "id": "eb51f295",
   "metadata": {},
   "outputs": [],
   "source": [
    "X = clusters_df\n",
    "kmeans = KMeans(n_clusters=30)\n",
    "kmeans.fit(X)\n",
    "y_kmeans = kmeans.predict(X)"
   ]
  },
  {
   "cell_type": "code",
   "execution_count": 202,
   "id": "a428042c",
   "metadata": {},
   "outputs": [],
   "source": [
    "import seaborn as sns"
   ]
  },
  {
   "cell_type": "code",
   "execution_count": 203,
   "id": "42714b43",
   "metadata": {},
   "outputs": [
    {
     "data": {
      "text/plain": [
       "<matplotlib.collections.PathCollection at 0x7fc3a9ae2370>"
      ]
     },
     "execution_count": 203,
     "metadata": {},
     "output_type": "execute_result"
    },
    {
     "data": {
      "image/png": "[encoded data removed]",
      "text/plain": [
       "<Figure size 640x480 with 1 Axes>"
      ]
     },
     "metadata": {},
     "output_type": "display_data"
    }
   ],
   "source": [
    "plt.scatter(X['journey_start_lon'],X['journey_start_lat'], c=y_kmeans, s=50, cmap='viridis')\n"
   ]
  },
  {
   "cell_type": "code",
   "execution_count": 204,
   "id": "fbd9f14b",
   "metadata": {},
   "outputs": [],
   "source": [
    "#now we save the model\n",
    "import pickle"
   ]
  },
  {
   "cell_type": "code",
   "execution_count": 205,
   "id": "d27b4ea1",
   "metadata": {},
   "outputs": [],
   "source": [
    "pickle.dump(kmeans, open('kmeansIDF.pickle', 'wb'))"
   ]
  },
  {
   "cell_type": "code",
   "execution_count": 206,
   "id": "923cc428",
   "metadata": {},
   "outputs": [],
   "source": [
    "df_2022_IDF['cluster'] = y_kmeans"
   ]
  },
  {
   "cell_type": "code",
   "execution_count": 207,
   "id": "87109c3f",
   "metadata": {},
   "outputs": [
    {
     "data": {
      "text/html": [
       "<div>\n",
       "<style scoped>\n",
       "    .dataframe tbody tr th:only-of-type {\n",
       "        vertical-align: middle;\n",
       "    }\n",
       "\n",
       "    .dataframe tbody tr th {\n",
       "        vertical-align: top;\n",
       "    }\n",
       "\n",
       "    .dataframe thead th {\n",
       "        text-align: right;\n",
       "    }\n",
       "</style>\n",
       "<table border=\"1\" class=\"dataframe\">\n",
       "  <thead>\n",
       "    <tr style=\"text-align: right;\">\n",
       "      <th></th>\n",
       "      <th>time</th>\n",
       "      <th>journey_start_lon</th>\n",
       "      <th>journey_start_lat</th>\n",
       "      <th>cluster</th>\n",
       "    </tr>\n",
       "    <tr>\n",
       "      <th>journey_id</th>\n",
       "      <th></th>\n",
       "      <th></th>\n",
       "      <th></th>\n",
       "      <th></th>\n",
       "    </tr>\n",
       "  </thead>\n",
       "  <tbody>\n",
       "    <tr>\n",
       "      <th>7745334</th>\n",
       "      <td>14:30:00</td>\n",
       "      <td>2.403</td>\n",
       "      <td>48.771</td>\n",
       "      <td>1</td>\n",
       "    </tr>\n",
       "    <tr>\n",
       "      <th>7745475</th>\n",
       "      <td>14:30:00</td>\n",
       "      <td>2.565</td>\n",
       "      <td>48.945</td>\n",
       "      <td>18</td>\n",
       "    </tr>\n",
       "    <tr>\n",
       "      <th>7721587</th>\n",
       "      <td>14:30:00</td>\n",
       "      <td>2.456</td>\n",
       "      <td>48.816</td>\n",
       "      <td>17</td>\n",
       "    </tr>\n",
       "    <tr>\n",
       "      <th>7721613</th>\n",
       "      <td>14:30:00</td>\n",
       "      <td>2.437</td>\n",
       "      <td>48.944</td>\n",
       "      <td>27</td>\n",
       "    </tr>\n",
       "    <tr>\n",
       "      <th>7721564</th>\n",
       "      <td>14:30:00</td>\n",
       "      <td>2.771</td>\n",
       "      <td>48.857</td>\n",
       "      <td>0</td>\n",
       "    </tr>\n",
       "    <tr>\n",
       "      <th>...</th>\n",
       "      <td>...</td>\n",
       "      <td>...</td>\n",
       "      <td>...</td>\n",
       "      <td>...</td>\n",
       "    </tr>\n",
       "    <tr>\n",
       "      <th>9119737</th>\n",
       "      <td>22:40:00</td>\n",
       "      <td>2.239</td>\n",
       "      <td>48.839</td>\n",
       "      <td>22</td>\n",
       "    </tr>\n",
       "    <tr>\n",
       "      <th>9182509</th>\n",
       "      <td>22:40:00</td>\n",
       "      <td>2.454</td>\n",
       "      <td>48.819</td>\n",
       "      <td>17</td>\n",
       "    </tr>\n",
       "    <tr>\n",
       "      <th>9095599</th>\n",
       "      <td>22:40:00</td>\n",
       "      <td>2.233</td>\n",
       "      <td>48.979</td>\n",
       "      <td>3</td>\n",
       "    </tr>\n",
       "    <tr>\n",
       "      <th>9119750</th>\n",
       "      <td>22:50:00</td>\n",
       "      <td>2.749</td>\n",
       "      <td>48.452</td>\n",
       "      <td>23</td>\n",
       "    </tr>\n",
       "    <tr>\n",
       "      <th>9119754</th>\n",
       "      <td>22:50:00</td>\n",
       "      <td>2.749</td>\n",
       "      <td>48.452</td>\n",
       "      <td>23</td>\n",
       "    </tr>\n",
       "  </tbody>\n",
       "</table>\n",
       "<p>107651 rows × 4 columns</p>\n",
       "</div>"
      ],
      "text/plain": [
       "                time  journey_start_lon  journey_start_lat  cluster\n",
       "journey_id                                                         \n",
       "7745334     14:30:00              2.403             48.771        1\n",
       "7745475     14:30:00              2.565             48.945       18\n",
       "7721587     14:30:00              2.456             48.816       17\n",
       "7721613     14:30:00              2.437             48.944       27\n",
       "7721564     14:30:00              2.771             48.857        0\n",
       "...              ...                ...                ...      ...\n",
       "9119737     22:40:00              2.239             48.839       22\n",
       "9182509     22:40:00              2.454             48.819       17\n",
       "9095599     22:40:00              2.233             48.979        3\n",
       "9119750     22:50:00              2.749             48.452       23\n",
       "9119754     22:50:00              2.749             48.452       23\n",
       "\n",
       "[107651 rows x 4 columns]"
      ]
     },
     "execution_count": 207,
     "metadata": {},
     "output_type": "execute_result"
    }
   ],
   "source": [
    "df_2022_IDF"
   ]
  },
  {
   "cell_type": "code",
   "execution_count": 66,
   "id": "3ce04002",
   "metadata": {},
   "outputs": [],
   "source": [
    "#Creating a linear regression model to predict the number of carpooling according to your location and the time"
   ]
  },
  {
   "cell_type": "code",
   "execution_count": 208,
   "id": "2426112e",
   "metadata": {},
   "outputs": [],
   "source": [
    "regressiondf= df_2022_IDF"
   ]
  },
  {
   "cell_type": "code",
   "execution_count": 209,
   "id": "3a0cf18b",
   "metadata": {},
   "outputs": [
    {
     "ename": "KeyError",
     "evalue": "'journey_start_time'",
     "output_type": "error",
     "traceback": [
      "\u001b[0;31m---------------------------------------------------------------------------\u001b[0m",
      "\u001b[0;31mKeyError\u001b[0m                                  Traceback (most recent call last)",
      "\u001b[0;32m~/opt/anaconda3/lib/python3.9/site-packages/pandas/core/indexes/base.py\u001b[0m in \u001b[0;36mget_loc\u001b[0;34m(self, key, method, tolerance)\u001b[0m\n\u001b[1;32m   3628\u001b[0m             \u001b[0;32mtry\u001b[0m\u001b[0;34m:\u001b[0m\u001b[0;34m\u001b[0m\u001b[0;34m\u001b[0m\u001b[0m\n\u001b[0;32m-> 3629\u001b[0;31m                 \u001b[0;32mreturn\u001b[0m \u001b[0mself\u001b[0m\u001b[0;34m.\u001b[0m\u001b[0m_engine\u001b[0m\u001b[0;34m.\u001b[0m\u001b[0mget_loc\u001b[0m\u001b[0;34m(\u001b[0m\u001b[0mcasted_key\u001b[0m\u001b[0;34m)\u001b[0m\u001b[0;34m\u001b[0m\u001b[0;34m\u001b[0m\u001b[0m\n\u001b[0m\u001b[1;32m   3630\u001b[0m             \u001b[0;32mexcept\u001b[0m \u001b[0mKeyError\u001b[0m \u001b[0;32mas\u001b[0m \u001b[0merr\u001b[0m\u001b[0;34m:\u001b[0m\u001b[0;34m\u001b[0m\u001b[0;34m\u001b[0m\u001b[0m\n",
      "\u001b[0;32m~/opt/anaconda3/lib/python3.9/site-packages/pandas/_libs/index.pyx\u001b[0m in \u001b[0;36mpandas._libs.index.IndexEngine.get_loc\u001b[0;34m()\u001b[0m\n",
      "\u001b[0;32m~/opt/anaconda3/lib/python3.9/site-packages/pandas/_libs/index.pyx\u001b[0m in \u001b[0;36mpandas._libs.index.IndexEngine.get_loc\u001b[0;34m()\u001b[0m\n",
      "\u001b[0;32mpandas/_libs/hashtable_class_helper.pxi\u001b[0m in \u001b[0;36mpandas._libs.hashtable.PyObjectHashTable.get_item\u001b[0;34m()\u001b[0m\n",
      "\u001b[0;32mpandas/_libs/hashtable_class_helper.pxi\u001b[0m in \u001b[0;36mpandas._libs.hashtable.PyObjectHashTable.get_item\u001b[0;34m()\u001b[0m\n",
      "\u001b[0;31mKeyError\u001b[0m: 'journey_start_time'",
      "\nThe above exception was the direct cause of the following exception:\n",
      "\u001b[0;31mKeyError\u001b[0m                                  Traceback (most recent call last)",
      "\u001b[0;32m/var/folders/54/4cl_lcsx2v3_cd3ntyrh62340000gn/T/ipykernel_68945/2621189297.py\u001b[0m in \u001b[0;36m<module>\u001b[0;34m\u001b[0m\n\u001b[0;32m----> 1\u001b[0;31m \u001b[0mregressiondf\u001b[0m\u001b[0;34m[\u001b[0m\u001b[0;34m\"journey_start_time\"\u001b[0m\u001b[0;34m]\u001b[0m \u001b[0;34m=\u001b[0m \u001b[0mregressiondf\u001b[0m\u001b[0;34m[\u001b[0m\u001b[0;34m\"journey_start_time\"\u001b[0m\u001b[0;34m]\u001b[0m\u001b[0;34m.\u001b[0m\u001b[0mdt\u001b[0m\u001b[0;34m.\u001b[0m\u001b[0mtime\u001b[0m\u001b[0;34m\u001b[0m\u001b[0;34m\u001b[0m\u001b[0m\n\u001b[0m\u001b[1;32m      2\u001b[0m \u001b[0mregressiondf\u001b[0m\u001b[0;34m.\u001b[0m\u001b[0mrename\u001b[0m\u001b[0;34m(\u001b[0m\u001b[0mcolumns\u001b[0m\u001b[0;34m=\u001b[0m\u001b[0;34m{\u001b[0m\u001b[0;34m'journey_start_time'\u001b[0m\u001b[0;34m:\u001b[0m\u001b[0;34m'time'\u001b[0m\u001b[0;34m}\u001b[0m\u001b[0;34m,\u001b[0m \u001b[0minplace\u001b[0m\u001b[0;34m=\u001b[0m\u001b[0;32mTrue\u001b[0m\u001b[0;34m)\u001b[0m\u001b[0;34m\u001b[0m\u001b[0;34m\u001b[0m\u001b[0m\n",
      "\u001b[0;32m~/opt/anaconda3/lib/python3.9/site-packages/pandas/core/frame.py\u001b[0m in \u001b[0;36m__getitem__\u001b[0;34m(self, key)\u001b[0m\n\u001b[1;32m   3503\u001b[0m             \u001b[0;32mif\u001b[0m \u001b[0mself\u001b[0m\u001b[0;34m.\u001b[0m\u001b[0mcolumns\u001b[0m\u001b[0;34m.\u001b[0m\u001b[0mnlevels\u001b[0m \u001b[0;34m>\u001b[0m \u001b[0;36m1\u001b[0m\u001b[0;34m:\u001b[0m\u001b[0;34m\u001b[0m\u001b[0;34m\u001b[0m\u001b[0m\n\u001b[1;32m   3504\u001b[0m                 \u001b[0;32mreturn\u001b[0m \u001b[0mself\u001b[0m\u001b[0;34m.\u001b[0m\u001b[0m_getitem_multilevel\u001b[0m\u001b[0;34m(\u001b[0m\u001b[0mkey\u001b[0m\u001b[0;34m)\u001b[0m\u001b[0;34m\u001b[0m\u001b[0;34m\u001b[0m\u001b[0m\n\u001b[0;32m-> 3505\u001b[0;31m             \u001b[0mindexer\u001b[0m \u001b[0;34m=\u001b[0m \u001b[0mself\u001b[0m\u001b[0;34m.\u001b[0m\u001b[0mcolumns\u001b[0m\u001b[0;34m.\u001b[0m\u001b[0mget_loc\u001b[0m\u001b[0;34m(\u001b[0m\u001b[0mkey\u001b[0m\u001b[0;34m)\u001b[0m\u001b[0;34m\u001b[0m\u001b[0;34m\u001b[0m\u001b[0m\n\u001b[0m\u001b[1;32m   3506\u001b[0m             \u001b[0;32mif\u001b[0m \u001b[0mis_integer\u001b[0m\u001b[0;34m(\u001b[0m\u001b[0mindexer\u001b[0m\u001b[0;34m)\u001b[0m\u001b[0;34m:\u001b[0m\u001b[0;34m\u001b[0m\u001b[0;34m\u001b[0m\u001b[0m\n\u001b[1;32m   3507\u001b[0m                 \u001b[0mindexer\u001b[0m \u001b[0;34m=\u001b[0m \u001b[0;34m[\u001b[0m\u001b[0mindexer\u001b[0m\u001b[0;34m]\u001b[0m\u001b[0;34m\u001b[0m\u001b[0;34m\u001b[0m\u001b[0m\n",
      "\u001b[0;32m~/opt/anaconda3/lib/python3.9/site-packages/pandas/core/indexes/base.py\u001b[0m in \u001b[0;36mget_loc\u001b[0;34m(self, key, method, tolerance)\u001b[0m\n\u001b[1;32m   3629\u001b[0m                 \u001b[0;32mreturn\u001b[0m \u001b[0mself\u001b[0m\u001b[0;34m.\u001b[0m\u001b[0m_engine\u001b[0m\u001b[0;34m.\u001b[0m\u001b[0mget_loc\u001b[0m\u001b[0;34m(\u001b[0m\u001b[0mcasted_key\u001b[0m\u001b[0;34m)\u001b[0m\u001b[0;34m\u001b[0m\u001b[0;34m\u001b[0m\u001b[0m\n\u001b[1;32m   3630\u001b[0m             \u001b[0;32mexcept\u001b[0m \u001b[0mKeyError\u001b[0m \u001b[0;32mas\u001b[0m \u001b[0merr\u001b[0m\u001b[0;34m:\u001b[0m\u001b[0;34m\u001b[0m\u001b[0;34m\u001b[0m\u001b[0m\n\u001b[0;32m-> 3631\u001b[0;31m                 \u001b[0;32mraise\u001b[0m \u001b[0mKeyError\u001b[0m\u001b[0;34m(\u001b[0m\u001b[0mkey\u001b[0m\u001b[0;34m)\u001b[0m \u001b[0;32mfrom\u001b[0m \u001b[0merr\u001b[0m\u001b[0;34m\u001b[0m\u001b[0;34m\u001b[0m\u001b[0m\n\u001b[0m\u001b[1;32m   3632\u001b[0m             \u001b[0;32mexcept\u001b[0m \u001b[0mTypeError\u001b[0m\u001b[0;34m:\u001b[0m\u001b[0;34m\u001b[0m\u001b[0;34m\u001b[0m\u001b[0m\n\u001b[1;32m   3633\u001b[0m                 \u001b[0;31m# If we have a listlike key, _check_indexing_error will raise\u001b[0m\u001b[0;34m\u001b[0m\u001b[0;34m\u001b[0m\u001b[0m\n",
      "\u001b[0;31mKeyError\u001b[0m: 'journey_start_time'"
     ]
    }
   ],
   "source": [
    "regressiondf[\"journey_start_time\"] = regressiondf[\"journey_start_time\"].dt.time\n",
    "regressiondf.rename(columns={'journey_start_time':'time'}, inplace=True)"
   ]
  },
  {
   "cell_type": "code",
   "execution_count": 210,
   "id": "b3b5aeba",
   "metadata": {},
   "outputs": [],
   "source": [
    "groupbyA = regressiondf.groupby(['cluster','time'])"
   ]
  },
  {
   "cell_type": "code",
   "execution_count": 241,
   "id": "b51ef700",
   "metadata": {},
   "outputs": [
    {
     "data": {
      "text/plain": [
       "<pandas.core.groupby.generic.DataFrameGroupBy object at 0x7fc3788cf7c0>"
      ]
     },
     "execution_count": 241,
     "metadata": {},
     "output_type": "execute_result"
    }
   ],
   "source": [
    "groupbyA"
   ]
  },
  {
   "cell_type": "code",
   "execution_count": 242,
   "id": "3230e11a",
   "metadata": {},
   "outputs": [
    {
     "data": {
      "text/html": [
       "<div>\n",
       "<style scoped>\n",
       "    .dataframe tbody tr th:only-of-type {\n",
       "        vertical-align: middle;\n",
       "    }\n",
       "\n",
       "    .dataframe tbody tr th {\n",
       "        vertical-align: top;\n",
       "    }\n",
       "\n",
       "    .dataframe thead th {\n",
       "        text-align: right;\n",
       "    }\n",
       "</style>\n",
       "<table border=\"1\" class=\"dataframe\">\n",
       "  <thead>\n",
       "    <tr style=\"text-align: right;\">\n",
       "      <th></th>\n",
       "      <th>time</th>\n",
       "      <th>journey_start_lon</th>\n",
       "      <th>journey_start_lat</th>\n",
       "      <th>cluster</th>\n",
       "    </tr>\n",
       "    <tr>\n",
       "      <th>journey_id</th>\n",
       "      <th></th>\n",
       "      <th></th>\n",
       "      <th></th>\n",
       "      <th></th>\n",
       "    </tr>\n",
       "  </thead>\n",
       "  <tbody>\n",
       "    <tr>\n",
       "      <th>7745334</th>\n",
       "      <td>14:30:00</td>\n",
       "      <td>2.403</td>\n",
       "      <td>48.771</td>\n",
       "      <td>1</td>\n",
       "    </tr>\n",
       "    <tr>\n",
       "      <th>7745475</th>\n",
       "      <td>14:30:00</td>\n",
       "      <td>2.565</td>\n",
       "      <td>48.945</td>\n",
       "      <td>18</td>\n",
       "    </tr>\n",
       "    <tr>\n",
       "      <th>7721587</th>\n",
       "      <td>14:30:00</td>\n",
       "      <td>2.456</td>\n",
       "      <td>48.816</td>\n",
       "      <td>17</td>\n",
       "    </tr>\n",
       "    <tr>\n",
       "      <th>7721613</th>\n",
       "      <td>14:30:00</td>\n",
       "      <td>2.437</td>\n",
       "      <td>48.944</td>\n",
       "      <td>27</td>\n",
       "    </tr>\n",
       "    <tr>\n",
       "      <th>7721564</th>\n",
       "      <td>14:30:00</td>\n",
       "      <td>2.771</td>\n",
       "      <td>48.857</td>\n",
       "      <td>0</td>\n",
       "    </tr>\n",
       "    <tr>\n",
       "      <th>...</th>\n",
       "      <td>...</td>\n",
       "      <td>...</td>\n",
       "      <td>...</td>\n",
       "      <td>...</td>\n",
       "    </tr>\n",
       "    <tr>\n",
       "      <th>9119737</th>\n",
       "      <td>22:40:00</td>\n",
       "      <td>2.239</td>\n",
       "      <td>48.839</td>\n",
       "      <td>22</td>\n",
       "    </tr>\n",
       "    <tr>\n",
       "      <th>9182509</th>\n",
       "      <td>22:40:00</td>\n",
       "      <td>2.454</td>\n",
       "      <td>48.819</td>\n",
       "      <td>17</td>\n",
       "    </tr>\n",
       "    <tr>\n",
       "      <th>9095599</th>\n",
       "      <td>22:40:00</td>\n",
       "      <td>2.233</td>\n",
       "      <td>48.979</td>\n",
       "      <td>3</td>\n",
       "    </tr>\n",
       "    <tr>\n",
       "      <th>9119750</th>\n",
       "      <td>22:50:00</td>\n",
       "      <td>2.749</td>\n",
       "      <td>48.452</td>\n",
       "      <td>23</td>\n",
       "    </tr>\n",
       "    <tr>\n",
       "      <th>9119754</th>\n",
       "      <td>22:50:00</td>\n",
       "      <td>2.749</td>\n",
       "      <td>48.452</td>\n",
       "      <td>23</td>\n",
       "    </tr>\n",
       "  </tbody>\n",
       "</table>\n",
       "<p>107651 rows × 4 columns</p>\n",
       "</div>"
      ],
      "text/plain": [
       "                time  journey_start_lon  journey_start_lat  cluster\n",
       "journey_id                                                         \n",
       "7745334     14:30:00              2.403             48.771        1\n",
       "7745475     14:30:00              2.565             48.945       18\n",
       "7721587     14:30:00              2.456             48.816       17\n",
       "7721613     14:30:00              2.437             48.944       27\n",
       "7721564     14:30:00              2.771             48.857        0\n",
       "...              ...                ...                ...      ...\n",
       "9119737     22:40:00              2.239             48.839       22\n",
       "9182509     22:40:00              2.454             48.819       17\n",
       "9095599     22:40:00              2.233             48.979        3\n",
       "9119750     22:50:00              2.749             48.452       23\n",
       "9119754     22:50:00              2.749             48.452       23\n",
       "\n",
       "[107651 rows x 4 columns]"
      ]
     },
     "execution_count": 242,
     "metadata": {},
     "output_type": "execute_result"
    }
   ],
   "source": [
    "regressiondf"
   ]
  },
  {
   "cell_type": "code",
   "execution_count": 211,
   "id": "8919d96c",
   "metadata": {},
   "outputs": [
    {
     "data": {
      "text/plain": [
       "cluster  time    \n",
       "0        00:00:00    20\n",
       "         00:10:00    27\n",
       "         00:20:00    23\n",
       "         00:30:00    14\n",
       "         00:40:00    19\n",
       "                     ..\n",
       "29       22:00:00     1\n",
       "         22:10:00     1\n",
       "         22:20:00     2\n",
       "         22:50:00     1\n",
       "         23:10:00     1\n",
       "Name: cluster, Length: 3809, dtype: int64"
      ]
     },
     "execution_count": 211,
     "metadata": {},
     "output_type": "execute_result"
    }
   ],
   "source": [
    "groupbyA['cluster'].count()"
   ]
  },
  {
   "cell_type": "code",
   "execution_count": 243,
   "id": "5f225fc5",
   "metadata": {},
   "outputs": [],
   "source": [
    "regressiondataset = groupbyA['cluster'].count()"
   ]
  },
  {
   "cell_type": "code",
   "execution_count": 244,
   "id": "6e11f069",
   "metadata": {},
   "outputs": [],
   "source": [
    "regressiondataset = regressiondataset.to_frame(name = 'nb_carpooling').reset_index()"
   ]
  },
  {
   "cell_type": "code",
   "execution_count": 245,
   "id": "1c553b92",
   "metadata": {},
   "outputs": [
    {
     "data": {
      "text/html": [
       "<div>\n",
       "<style scoped>\n",
       "    .dataframe tbody tr th:only-of-type {\n",
       "        vertical-align: middle;\n",
       "    }\n",
       "\n",
       "    .dataframe tbody tr th {\n",
       "        vertical-align: top;\n",
       "    }\n",
       "\n",
       "    .dataframe thead th {\n",
       "        text-align: right;\n",
       "    }\n",
       "</style>\n",
       "<table border=\"1\" class=\"dataframe\">\n",
       "  <thead>\n",
       "    <tr style=\"text-align: right;\">\n",
       "      <th></th>\n",
       "      <th>cluster</th>\n",
       "      <th>time</th>\n",
       "      <th>nb_carpooling</th>\n",
       "    </tr>\n",
       "  </thead>\n",
       "  <tbody>\n",
       "    <tr>\n",
       "      <th>0</th>\n",
       "      <td>0</td>\n",
       "      <td>00:00:00</td>\n",
       "      <td>20</td>\n",
       "    </tr>\n",
       "    <tr>\n",
       "      <th>1</th>\n",
       "      <td>0</td>\n",
       "      <td>00:10:00</td>\n",
       "      <td>27</td>\n",
       "    </tr>\n",
       "    <tr>\n",
       "      <th>2</th>\n",
       "      <td>0</td>\n",
       "      <td>00:20:00</td>\n",
       "      <td>23</td>\n",
       "    </tr>\n",
       "    <tr>\n",
       "      <th>3</th>\n",
       "      <td>0</td>\n",
       "      <td>00:30:00</td>\n",
       "      <td>14</td>\n",
       "    </tr>\n",
       "    <tr>\n",
       "      <th>4</th>\n",
       "      <td>0</td>\n",
       "      <td>00:40:00</td>\n",
       "      <td>19</td>\n",
       "    </tr>\n",
       "    <tr>\n",
       "      <th>...</th>\n",
       "      <td>...</td>\n",
       "      <td>...</td>\n",
       "      <td>...</td>\n",
       "    </tr>\n",
       "    <tr>\n",
       "      <th>3804</th>\n",
       "      <td>29</td>\n",
       "      <td>22:00:00</td>\n",
       "      <td>1</td>\n",
       "    </tr>\n",
       "    <tr>\n",
       "      <th>3805</th>\n",
       "      <td>29</td>\n",
       "      <td>22:10:00</td>\n",
       "      <td>1</td>\n",
       "    </tr>\n",
       "    <tr>\n",
       "      <th>3806</th>\n",
       "      <td>29</td>\n",
       "      <td>22:20:00</td>\n",
       "      <td>2</td>\n",
       "    </tr>\n",
       "    <tr>\n",
       "      <th>3807</th>\n",
       "      <td>29</td>\n",
       "      <td>22:50:00</td>\n",
       "      <td>1</td>\n",
       "    </tr>\n",
       "    <tr>\n",
       "      <th>3808</th>\n",
       "      <td>29</td>\n",
       "      <td>23:10:00</td>\n",
       "      <td>1</td>\n",
       "    </tr>\n",
       "  </tbody>\n",
       "</table>\n",
       "<p>3809 rows × 3 columns</p>\n",
       "</div>"
      ],
      "text/plain": [
       "      cluster      time  nb_carpooling\n",
       "0           0  00:00:00             20\n",
       "1           0  00:10:00             27\n",
       "2           0  00:20:00             23\n",
       "3           0  00:30:00             14\n",
       "4           0  00:40:00             19\n",
       "...       ...       ...            ...\n",
       "3804       29  22:00:00              1\n",
       "3805       29  22:10:00              1\n",
       "3806       29  22:20:00              2\n",
       "3807       29  22:50:00              1\n",
       "3808       29  23:10:00              1\n",
       "\n",
       "[3809 rows x 3 columns]"
      ]
     },
     "execution_count": 245,
     "metadata": {},
     "output_type": "execute_result"
    }
   ],
   "source": [
    "regressiondataset"
   ]
  },
  {
   "cell_type": "code",
   "execution_count": 261,
   "id": "43791ddc",
   "metadata": {},
   "outputs": [],
   "source": [
    "#Looking at the cluster 0\n",
    "cluster_zero= regressiondataset[regressiondataset['cluster']==3]"
   ]
  },
  {
   "cell_type": "code",
   "execution_count": 271,
   "id": "4f3b52b2",
   "metadata": {},
   "outputs": [
    {
     "data": {
      "text/html": [
       "<div>\n",
       "<style scoped>\n",
       "    .dataframe tbody tr th:only-of-type {\n",
       "        vertical-align: middle;\n",
       "    }\n",
       "\n",
       "    .dataframe tbody tr th {\n",
       "        vertical-align: top;\n",
       "    }\n",
       "\n",
       "    .dataframe thead th {\n",
       "        text-align: right;\n",
       "    }\n",
       "</style>\n",
       "<table border=\"1\" class=\"dataframe\">\n",
       "  <thead>\n",
       "    <tr style=\"text-align: right;\">\n",
       "      <th></th>\n",
       "      <th>cluster</th>\n",
       "      <th>time</th>\n",
       "      <th>nb_carpooling</th>\n",
       "    </tr>\n",
       "  </thead>\n",
       "  <tbody>\n",
       "    <tr>\n",
       "      <th>413</th>\n",
       "      <td>3</td>\n",
       "      <td>0</td>\n",
       "      <td>39</td>\n",
       "    </tr>\n",
       "    <tr>\n",
       "      <th>414</th>\n",
       "      <td>3</td>\n",
       "      <td>600</td>\n",
       "      <td>18</td>\n",
       "    </tr>\n",
       "    <tr>\n",
       "      <th>415</th>\n",
       "      <td>3</td>\n",
       "      <td>1200</td>\n",
       "      <td>1</td>\n",
       "    </tr>\n",
       "    <tr>\n",
       "      <th>416</th>\n",
       "      <td>3</td>\n",
       "      <td>1800</td>\n",
       "      <td>7</td>\n",
       "    </tr>\n",
       "    <tr>\n",
       "      <th>417</th>\n",
       "      <td>3</td>\n",
       "      <td>2400</td>\n",
       "      <td>15</td>\n",
       "    </tr>\n",
       "    <tr>\n",
       "      <th>...</th>\n",
       "      <td>...</td>\n",
       "      <td>...</td>\n",
       "      <td>...</td>\n",
       "    </tr>\n",
       "    <tr>\n",
       "      <th>546</th>\n",
       "      <td>3</td>\n",
       "      <td>83400</td>\n",
       "      <td>24</td>\n",
       "    </tr>\n",
       "    <tr>\n",
       "      <th>547</th>\n",
       "      <td>3</td>\n",
       "      <td>84000</td>\n",
       "      <td>7</td>\n",
       "    </tr>\n",
       "    <tr>\n",
       "      <th>548</th>\n",
       "      <td>3</td>\n",
       "      <td>84600</td>\n",
       "      <td>18</td>\n",
       "    </tr>\n",
       "    <tr>\n",
       "      <th>549</th>\n",
       "      <td>3</td>\n",
       "      <td>85200</td>\n",
       "      <td>17</td>\n",
       "    </tr>\n",
       "    <tr>\n",
       "      <th>550</th>\n",
       "      <td>3</td>\n",
       "      <td>85800</td>\n",
       "      <td>23</td>\n",
       "    </tr>\n",
       "  </tbody>\n",
       "</table>\n",
       "<p>138 rows × 3 columns</p>\n",
       "</div>"
      ],
      "text/plain": [
       "     cluster   time  nb_carpooling\n",
       "413        3      0             39\n",
       "414        3    600             18\n",
       "415        3   1200              1\n",
       "416        3   1800              7\n",
       "417        3   2400             15\n",
       "..       ...    ...            ...\n",
       "546        3  83400             24\n",
       "547        3  84000              7\n",
       "548        3  84600             18\n",
       "549        3  85200             17\n",
       "550        3  85800             23\n",
       "\n",
       "[138 rows x 3 columns]"
      ]
     },
     "execution_count": 271,
     "metadata": {},
     "output_type": "execute_result"
    }
   ],
   "source": [
    "cluster_zero"
   ]
  },
  {
   "cell_type": "code",
   "execution_count": 216,
   "id": "7edd103e",
   "metadata": {},
   "outputs": [],
   "source": [
    "#I can't plot if I don't transform time in numerical data\n",
    "import datetime\n",
    "timestamps = [datetime.datetime.combine(datetime.date.today(), t).timestamp() for t in cluster_zero['time']]"
   ]
  },
  {
   "cell_type": "code",
   "execution_count": 217,
   "id": "94a6e436",
   "metadata": {},
   "outputs": [
    {
     "data": {
      "text/plain": [
       "[<matplotlib.lines.Line2D at 0x7fc4511f3e50>]"
      ]
     },
     "execution_count": 217,
     "metadata": {},
     "output_type": "execute_result"
    },
    {
     "data": {
      "image/png": "[encoded data removed]",
      "text/plain": [
       "<Figure size 640x480 with 1 Axes>"
      ]
     },
     "metadata": {},
     "output_type": "display_data"
    }
   ],
   "source": [
    "plt.plot(timestamps, cluster_zero['nb_carpooling'])"
   ]
  },
  {
   "cell_type": "code",
   "execution_count": 218,
   "id": "a07353eb",
   "metadata": {},
   "outputs": [],
   "source": [
    "import datetime as dt"
   ]
  },
  {
   "cell_type": "code",
   "execution_count": 219,
   "id": "1cce730b",
   "metadata": {},
   "outputs": [],
   "source": [
    "def secondTime(t):\n",
    "    seconds = (t.hour * 60 + t.minute) * 60 + t.second\n",
    "    return seconds"
   ]
  },
  {
   "cell_type": "code",
   "execution_count": 220,
   "id": "1c3d9bec",
   "metadata": {},
   "outputs": [],
   "source": [
    "regressiondataset['time'] = regressiondataset['time'].map(lambda x:secondTime(x))"
   ]
  },
  {
   "cell_type": "code",
   "execution_count": 221,
   "id": "2e919208",
   "metadata": {},
   "outputs": [
    {
     "data": {
      "text/plain": [
       "[<matplotlib.lines.Line2D at 0x7fc4e05cdd90>]"
      ]
     },
     "execution_count": 221,
     "metadata": {},
     "output_type": "execute_result"
    },
    {
     "data": {
      "image/png": "[encoded data removed]",
      "text/plain": [
       "<Figure size 640x480 with 1 Axes>"
      ]
     },
     "metadata": {},
     "output_type": "display_data"
    }
   ],
   "source": [
    "cluster_2= regressiondataset[regressiondataset['cluster']==2]\n",
    "plt.plot(cluster_2['time'],cluster_2['nb_carpooling'])"
   ]
  },
  {
   "cell_type": "markdown",
   "id": "de19456d",
   "metadata": {},
   "source": [
    "## Construction of the model"
   ]
  },
  {
   "cell_type": "code",
   "execution_count": 222,
   "id": "c0f1f017",
   "metadata": {},
   "outputs": [],
   "source": [
    "X = regressiondataset[['time','cluster']]\n",
    "Y = regressiondataset['nb_carpooling']"
   ]
  },
  {
   "cell_type": "code",
   "execution_count": 223,
   "id": "acd694be",
   "metadata": {},
   "outputs": [
    {
     "name": "stdout",
     "output_type": "stream",
     "text": [
      "(3428, 2)\n",
      "(381, 2)\n",
      "(3428,)\n",
      "(381,)\n"
     ]
    }
   ],
   "source": [
    "from sklearn.model_selection import train_test_split\n",
    "from sklearn.model_selection import train_test_split\n",
    " \n",
    "X_train, X_test, Y_train, Y_test = train_test_split(X, Y, test_size = 0.1, random_state=5)\n",
    "print(X_train.shape)\n",
    "print(X_test.shape)\n",
    "print(Y_train.shape)\n",
    "print(Y_test.shape)"
   ]
  },
  {
   "cell_type": "code",
   "execution_count": 233,
   "id": "3a9f9825",
   "metadata": {},
   "outputs": [],
   "source": [
    "from sklearn.preprocessing import StandardScaler\n",
    "\n",
    "scaler = StandardScaler()\n",
    "X_train_scaled = scaler.fit_transform(X_train)\n",
    "X_test_scaled = scaler.transform(X_test)"
   ]
  },
  {
   "cell_type": "code",
   "execution_count": 234,
   "id": "17653b7a",
   "metadata": {},
   "outputs": [],
   "source": [
    "from sklearn.linear_model import LinearRegression\n",
    "from sklearn.metrics import mean_squared_error\n",
    " \n",
    "lr_model = LinearRegression()\n",
    "nb_carpoolModel = lr_model.fit(X_train_scaled, Y_train)"
   ]
  },
  {
   "cell_type": "code",
   "execution_count": 235,
   "id": "bf03520b",
   "metadata": {},
   "outputs": [
    {
     "data": {
      "text/plain": [
       "LinearRegression()"
      ]
     },
     "execution_count": 235,
     "metadata": {},
     "output_type": "execute_result"
    }
   ],
   "source": [
    "nb_carpoolModel"
   ]
  },
  {
   "cell_type": "code",
   "execution_count": 236,
   "id": "25805485",
   "metadata": {},
   "outputs": [],
   "source": [
    "y_train_predict = lr_model.predict(X_train_scaled)\n",
    "y_test_predict = lr_model.predict(X_test_scaled)"
   ]
  },
  {
   "cell_type": "code",
   "execution_count": 238,
   "id": "d46d4cf3",
   "metadata": {},
   "outputs": [
    {
     "name": "stdout",
     "output_type": "stream",
     "text": [
      "Evaluation of the model on the training data\n",
      "The root mean squared error is :  31.821140369044173\n",
      "The R2 score is:  0.04318150665445297\n",
      "Evaluation of the model on the testing data\n",
      "The root mean squared error is :  35.91049174971434\n",
      "The R2 score is:  0.027468120181530997\n"
     ]
    }
   ],
   "source": [
    "#Evaluation of the model\n",
    "from sklearn.metrics import r2_score\n",
    "rmse = (np.sqrt(mean_squared_error(Y_train, y_train_predict)))\n",
    "r2 = r2_score(Y_train, y_train_predict)\n",
    "print(\"Evaluation of the model on the training data\")\n",
    "print(\"The root mean squared error is : \",rmse)\n",
    "print(\"The R2 score is: \",r2)\n",
    "\n",
    "\n",
    "rmse = (np.sqrt(mean_squared_error(Y_test, y_test_predict)))\n",
    "r2 = r2_score(Y_test, y_test_predict)\n",
    "print(\"Evaluation of the model on the testing data\")\n",
    "print(\"The root mean squared error is : \",rmse)\n",
    "print(\"The R2 score is: \",r2)"
   ]
  },
  {
   "cell_type": "code",
   "execution_count": 228,
   "id": "a4b71847",
   "metadata": {},
   "outputs": [],
   "source": [
    "pickle.dump(nb_carpoolModel, open('nb_carpoolModel.pickle', 'wb'))"
   ]
  },
  {
   "cell_type": "code",
   "execution_count": 229,
   "id": "ad28061d",
   "metadata": {},
   "outputs": [
    {
     "data": {
      "text/plain": [
       "(29.940905898589804,\n",
       " 44852.25513289825,\n",
       " 0.011041538074255714,\n",
       " 0.49571409337682115,\n",
       " 43.94580742995049)"
      ]
     },
     "execution_count": 229,
     "metadata": {},
     "output_type": "execute_result"
    }
   ],
   "source": [
    "from scipy.stats import linregress\n",
    "slope, intercept, r_value, p_value, std_err = linregress(X.cluster, X.time)\n",
    "slope, intercept, r_value, p_value, std_err"
   ]
  },
  {
   "cell_type": "code",
   "execution_count": 230,
   "id": "91865520",
   "metadata": {},
   "outputs": [],
   "source": [
    "import statsmodels.api as sm\n",
    "X = sm.add_constant(X)\n",
    "model = sm.OLS(Y,X)\n",
    "results = model.fit()\n",
    "predictions = results.predict(X)"
   ]
  },
  {
   "cell_type": "code",
   "execution_count": 231,
   "id": "36dd26a1",
   "metadata": {},
   "outputs": [
    {
     "data": {
      "text/html": [
       "<table class=\"simpletable\">\n",
       "<caption>OLS Regression Results</caption>\n",
       "<tr>\n",
       "  <th>Dep. Variable:</th>      <td>nb_carpooling</td>  <th>  R-squared:         </th> <td>   0.041</td> \n",
       "</tr>\n",
       "<tr>\n",
       "  <th>Model:</th>                   <td>OLS</td>       <th>  Adj. R-squared:    </th> <td>   0.041</td> \n",
       "</tr>\n",
       "<tr>\n",
       "  <th>Method:</th>             <td>Least Squares</td>  <th>  F-statistic:       </th> <td>   82.18</td> \n",
       "</tr>\n",
       "<tr>\n",
       "  <th>Date:</th>             <td>Wed, 15 Mar 2023</td> <th>  Prob (F-statistic):</th> <td>1.14e-35</td> \n",
       "</tr>\n",
       "<tr>\n",
       "  <th>Time:</th>                 <td>12:29:07</td>     <th>  Log-Likelihood:    </th> <td> -18636.</td> \n",
       "</tr>\n",
       "<tr>\n",
       "  <th>No. Observations:</th>      <td>  3809</td>      <th>  AIC:               </th> <td>3.728e+04</td>\n",
       "</tr>\n",
       "<tr>\n",
       "  <th>Df Residuals:</th>          <td>  3806</td>      <th>  BIC:               </th> <td>3.730e+04</td>\n",
       "</tr>\n",
       "<tr>\n",
       "  <th>Df Model:</th>              <td>     2</td>      <th>                     </th>     <td> </td>    \n",
       "</tr>\n",
       "<tr>\n",
       "  <th>Covariance Type:</th>      <td>nonrobust</td>    <th>                     </th>     <td> </td>    \n",
       "</tr>\n",
       "</table>\n",
       "<table class=\"simpletable\">\n",
       "<tr>\n",
       "     <td></td>        <th>coef</th>     <th>std err</th>      <th>t</th>      <th>P>|t|</th>  <th>[0.025</th>    <th>0.975]</th>  \n",
       "</tr>\n",
       "<tr>\n",
       "  <th>const</th>   <td>   22.8364</td> <td>    1.403</td> <td>   16.276</td> <td> 0.000</td> <td>   20.086</td> <td>   25.587</td>\n",
       "</tr>\n",
       "<tr>\n",
       "  <th>time</th>    <td>    0.0002</td> <td>  2.2e-05</td> <td>   11.083</td> <td> 0.000</td> <td>    0.000</td> <td>    0.000</td>\n",
       "</tr>\n",
       "<tr>\n",
       "  <th>cluster</th> <td>   -0.3910</td> <td>    0.060</td> <td>   -6.567</td> <td> 0.000</td> <td>   -0.508</td> <td>   -0.274</td>\n",
       "</tr>\n",
       "</table>\n",
       "<table class=\"simpletable\">\n",
       "<tr>\n",
       "  <th>Omnibus:</th>       <td>1895.874</td> <th>  Durbin-Watson:     </th> <td>   0.254</td> \n",
       "</tr>\n",
       "<tr>\n",
       "  <th>Prob(Omnibus):</th>  <td> 0.000</td>  <th>  Jarque-Bera (JB):  </th> <td>12338.609</td>\n",
       "</tr>\n",
       "<tr>\n",
       "  <th>Skew:</th>           <td> 2.319</td>  <th>  Prob(JB):          </th> <td>    0.00</td> \n",
       "</tr>\n",
       "<tr>\n",
       "  <th>Kurtosis:</th>       <td>10.498</td>  <th>  Cond. No.          </th> <td>1.37e+05</td> \n",
       "</tr>\n",
       "</table><br/><br/>Notes:<br/>[1] Standard Errors assume that the covariance matrix of the errors is correctly specified.<br/>[2] The condition number is large, 1.37e+05. This might indicate that there are<br/>strong multicollinearity or other numerical problems."
      ],
      "text/plain": [
       "<class 'statsmodels.iolib.summary.Summary'>\n",
       "\"\"\"\n",
       "                            OLS Regression Results                            \n",
       "==============================================================================\n",
       "Dep. Variable:          nb_carpooling   R-squared:                       0.041\n",
       "Model:                            OLS   Adj. R-squared:                  0.041\n",
       "Method:                 Least Squares   F-statistic:                     82.18\n",
       "Date:                Wed, 15 Mar 2023   Prob (F-statistic):           1.14e-35\n",
       "Time:                        12:29:07   Log-Likelihood:                -18636.\n",
       "No. Observations:                3809   AIC:                         3.728e+04\n",
       "Df Residuals:                    3806   BIC:                         3.730e+04\n",
       "Df Model:                           2                                         \n",
       "Covariance Type:            nonrobust                                         \n",
       "==============================================================================\n",
       "                 coef    std err          t      P>|t|      [0.025      0.975]\n",
       "------------------------------------------------------------------------------\n",
       "const         22.8364      1.403     16.276      0.000      20.086      25.587\n",
       "time           0.0002    2.2e-05     11.083      0.000       0.000       0.000\n",
       "cluster       -0.3910      0.060     -6.567      0.000      -0.508      -0.274\n",
       "==============================================================================\n",
       "Omnibus:                     1895.874   Durbin-Watson:                   0.254\n",
       "Prob(Omnibus):                  0.000   Jarque-Bera (JB):            12338.609\n",
       "Skew:                           2.319   Prob(JB):                         0.00\n",
       "Kurtosis:                      10.498   Cond. No.                     1.37e+05\n",
       "==============================================================================\n",
       "\n",
       "Notes:\n",
       "[1] Standard Errors assume that the covariance matrix of the errors is correctly specified.\n",
       "[2] The condition number is large, 1.37e+05. This might indicate that there are\n",
       "strong multicollinearity or other numerical problems.\n",
       "\"\"\""
      ]
     },
     "execution_count": 231,
     "metadata": {},
     "output_type": "execute_result"
    }
   ],
   "source": [
    "results.summary()"
   ]
  },
  {
   "cell_type": "code",
   "execution_count": 232,
   "id": "6aff8853",
   "metadata": {},
   "outputs": [
    {
     "name": "stdout",
     "output_type": "stream",
     "text": [
      "1040.2611417435976\n"
     ]
    },
    {
     "data": {
      "text/plain": [
       "0.041396798444723215"
      ]
     },
     "execution_count": 232,
     "metadata": {},
     "output_type": "execute_result"
    }
   ],
   "source": [
    "from sklearn.metrics import mean_squared_error, r2_score\n",
    "print(mean_squared_error(Y, predictions))\n",
    "r2_score(Y, predictions)"
   ]
  },
  {
   "cell_type": "markdown",
   "id": "77b3c98c",
   "metadata": {},
   "source": [
    "## KNN classification "
   ]
  },
  {
   "cell_type": "code",
   "execution_count": 247,
   "id": "f5b89064",
   "metadata": {},
   "outputs": [
    {
     "data": {
      "text/html": [
       "<div>\n",
       "<style scoped>\n",
       "    .dataframe tbody tr th:only-of-type {\n",
       "        vertical-align: middle;\n",
       "    }\n",
       "\n",
       "    .dataframe tbody tr th {\n",
       "        vertical-align: top;\n",
       "    }\n",
       "\n",
       "    .dataframe thead th {\n",
       "        text-align: right;\n",
       "    }\n",
       "</style>\n",
       "<table border=\"1\" class=\"dataframe\">\n",
       "  <thead>\n",
       "    <tr style=\"text-align: right;\">\n",
       "      <th></th>\n",
       "      <th>cluster</th>\n",
       "      <th>time</th>\n",
       "      <th>nb_carpooling</th>\n",
       "    </tr>\n",
       "  </thead>\n",
       "  <tbody>\n",
       "    <tr>\n",
       "      <th>0</th>\n",
       "      <td>0</td>\n",
       "      <td>00:00:00</td>\n",
       "      <td>20</td>\n",
       "    </tr>\n",
       "    <tr>\n",
       "      <th>1</th>\n",
       "      <td>0</td>\n",
       "      <td>00:10:00</td>\n",
       "      <td>27</td>\n",
       "    </tr>\n",
       "    <tr>\n",
       "      <th>2</th>\n",
       "      <td>0</td>\n",
       "      <td>00:20:00</td>\n",
       "      <td>23</td>\n",
       "    </tr>\n",
       "    <tr>\n",
       "      <th>3</th>\n",
       "      <td>0</td>\n",
       "      <td>00:30:00</td>\n",
       "      <td>14</td>\n",
       "    </tr>\n",
       "    <tr>\n",
       "      <th>4</th>\n",
       "      <td>0</td>\n",
       "      <td>00:40:00</td>\n",
       "      <td>19</td>\n",
       "    </tr>\n",
       "  </tbody>\n",
       "</table>\n",
       "</div>"
      ],
      "text/plain": [
       "   cluster      time  nb_carpooling\n",
       "0        0  00:00:00             20\n",
       "1        0  00:10:00             27\n",
       "2        0  00:20:00             23\n",
       "3        0  00:30:00             14\n",
       "4        0  00:40:00             19"
      ]
     },
     "execution_count": 247,
     "metadata": {},
     "output_type": "execute_result"
    }
   ],
   "source": [
    "regressiondataset.head()"
   ]
  },
  {
   "cell_type": "code",
   "execution_count": 249,
   "id": "d2297b9c",
   "metadata": {},
   "outputs": [],
   "source": [
    "regressiondataset['time'] = regressiondataset['time'].map(lambda x:secondTime(x))"
   ]
  },
  {
   "cell_type": "code",
   "execution_count": 294,
   "id": "ddcce56b",
   "metadata": {},
   "outputs": [
    {
     "name": "stdout",
     "output_type": "stream",
     "text": [
      "Evaluation of the model on the training data\n",
      "The root mean squared error is :  11.029500079570745\n",
      "The R2 score is:  0.8907308168331687\n",
      "Evaluation of the model on the testing data\n",
      "The root mean squared error is :  12.655927205792556\n",
      "The R2 score is:  0.835324650327812\n"
     ]
    }
   ],
   "source": [
    "from sklearn.neighbors import KNeighborsRegressor\n",
    "from sklearn.preprocessing import StandardScaler\n",
    "from sklearn.metrics import r2_score\n",
    "\n",
    "X_train, X_test, y_train, y_test = train_test_split(regressiondataset[['cluster', 'time']], regressiondataset['nb_carpooling'], test_size=0.2, random_state=42)\n",
    "\n",
    "scaler = StandardScaler()\n",
    "X_train_scaled = scaler.fit_transform(X_train)\n",
    "X_test_scaled = scaler.transform(X_test)\n",
    "\n",
    "n_neighbors = 5\n",
    "knn = KNeighborsRegressor(n_neighbors=n_neighbors)\n",
    "knn.fit(X_train_scaled, y_train)\n",
    "\n",
    "y_train_pred=knn.predict(X_train_scaled)\n",
    "y_pred = knn.predict(X_test_scaled)\n",
    "\n",
    "# Evaluation of the model\n",
    "rmse = (np.sqrt(mean_squared_error(y_train, y_train_pred)))\n",
    "r2 = r2_score(y_train, y_train_pred)\n",
    "print(\"Evaluation of the model on the training data\")\n",
    "print(\"The root mean squared error is : \",rmse)\n",
    "print(\"The R2 score is: \",r2)\n",
    "\n",
    "rmse = (np.sqrt(mean_squared_error(y_test, y_pred)))\n",
    "r2 = r2_score(y_test, y_pred)\n",
    "print(\"Evaluation of the model on the testing data\")\n",
    "print(\"The root mean squared error is : \",rmse)\n",
    "print(\"The R2 score is: \",r2)"
   ]
  },
  {
   "cell_type": "code",
   "execution_count": 260,
   "id": "bd2627eb",
   "metadata": {},
   "outputs": [],
   "source": [
    "pickle.dump(knn, open('knnModel.pickle', 'wb'))"
   ]
  },
  {
   "cell_type": "code",
   "execution_count": 272,
   "id": "bc6d1e83",
   "metadata": {},
   "outputs": [],
   "source": [
    "#Trying to improve the model with hyperparameters"
   ]
  },
  {
   "cell_type": "code",
   "execution_count": 295,
   "id": "9409759e",
   "metadata": {},
   "outputs": [
    {
     "name": "stdout",
     "output_type": "stream",
     "text": [
      "Best parameters :  {'algorithm': 'brute', 'n_neighbors': 8, 'weights': 'uniform'}\n",
      "Score :  -881.1232287881234\n"
     ]
    }
   ],
   "source": [
    "from sklearn.model_selection import GridSearchCV\n",
    "\n",
    "knn2 = KNeighborsRegressor()\n",
    "\n",
    "hyperparameters = {\n",
    "    'n_neighbors': [3, 5, 8],\n",
    "    'weights': ['uniform', 'distance'],\n",
    "    'algorithm': ['auto', 'ball_tree', 'kd_tree', 'brute']\n",
    "}\n",
    "\n",
    "grid_search = GridSearchCV(\n",
    "    knn,\n",
    "    hyperparameters,\n",
    "    cv=5,\n",
    "    scoring='neg_mean_squared_error'\n",
    ")\n",
    "\n",
    "grid_search.fit(X_train, y_train)\n",
    "\n",
    "best_params=grid_search.best_params_\n",
    "\n",
    "print(\"Best parameters : \", grid_search.best_params_)\n",
    "print(\"Score : \", grid_search.best_score_)"
   ]
  },
  {
   "cell_type": "code",
   "execution_count": 296,
   "id": "587a0963",
   "metadata": {},
   "outputs": [
    {
     "name": "stdout",
     "output_type": "stream",
     "text": [
      "Evaluation of the model on the training data\n",
      "The root mean squared error is :  13.472598765673254\n",
      "The R2 score is:  0.836962017598172\n",
      "Evaluation of the model on the testing data\n",
      "The root mean squared error is :  14.881844077145916\n",
      "The R2 score is:  0.7723046519457891\n"
     ]
    }
   ],
   "source": [
    "knn2 = KNeighborsRegressor(**best_params)\n",
    "knn2.fit(X_train_scaled, y_train)\n",
    "\n",
    "y_train_pred=knn2.predict(X_train_scaled)\n",
    "y_pred = knn2.predict(X_test_scaled)\n",
    "\n",
    "# Evaluation of the model\n",
    "rmse = (np.sqrt(mean_squared_error(y_train, y_train_pred)))\n",
    "r2 = r2_score(y_train, y_train_pred)\n",
    "print(\"Evaluation of the model on the training data\")\n",
    "print(\"The root mean squared error is : \",rmse)\n",
    "print(\"The R2 score is: \",r2)\n",
    "\n",
    "rmse = (np.sqrt(mean_squared_error(y_test, y_pred)))\n",
    "r2 = r2_score(y_test, y_pred)\n",
    "print(\"Evaluation of the model on the testing data\")\n",
    "print(\"The root mean squared error is : \",rmse)\n",
    "print(\"The R2 score is: \",r2)"
   ]
  },
  {
   "cell_type": "code",
   "execution_count": 297,
   "id": "1e8288b0",
   "metadata": {},
   "outputs": [
    {
     "name": "stdout",
     "output_type": "stream",
     "text": [
      "Knn (first model)\n",
      "Cross validation score : [ -444.1703937  -1071.4551706   -641.20498688 -1151.42845144\n",
      "  -892.54822602]\n",
      "Mean cross validation score : 840.1614457286138\n",
      "Knn2 (best params)\n",
      "Cross validation score : [ -459.06900016 -1043.79533711  -567.22250246 -1068.22078002\n",
      "  -765.26398242]\n",
      "Mean cross validation score : 780.7143204350195\n"
     ]
    }
   ],
   "source": [
    "print(\"Knn (first model)\")\n",
    "scores = cross_val_score(knn, X, Y, cv=5, scoring='neg_mean_squared_error')\n",
    "print('Cross validation score :', scores)\n",
    "mean_score = -scores.mean()\n",
    "print('Mean cross validation score :', mean_score)\n",
    "print(\"Knn2 (best params)\")\n",
    "scores = cross_val_score(knn2, X, Y, cv=5, scoring='neg_mean_squared_error')\n",
    "print('Cross validation score :', scores)\n",
    "mean_score = -scores.mean()\n",
    "print('Mean cross validation score :', mean_score)"
   ]
  },
  {
   "cell_type": "code",
   "execution_count": 298,
   "id": "709fad86",
   "metadata": {},
   "outputs": [],
   "source": [
    "#The mean cross validation score is lower for the second model so the second model seems to be better. "
   ]
  },
  {
   "cell_type": "code",
   "execution_count": 299,
   "id": "aa5e9d5e",
   "metadata": {},
   "outputs": [],
   "source": [
    "pickle.dump(knn2, open('knn2Model.pickle', 'wb'))"
   ]
  },
  {
   "cell_type": "code",
   "execution_count": null,
   "id": "741ef498",
   "metadata": {},
   "outputs": [],
   "source": []
  }
 ],
 "metadata": {
  "kernelspec": {
   "display_name": "Python 3 (ipykernel)",
   "language": "python",
   "name": "python3"
  },
  "language_info": {
   "codemirror_mode": {
    "name": "ipython",
    "version": 3
   },
   "file_extension": ".py",
   "mimetype": "text/x-python",
   "name": "python",
   "nbconvert_exporter": "python",
   "pygments_lexer": "ipython3",
   "version": "3.9.13"
  }
 },
 "nbformat": 4,
 "nbformat_minor": 5
}
