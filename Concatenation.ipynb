{
 "cells": [
  {
   "cell_type": "markdown",
   "id": "7d83bded",
   "metadata": {},
   "source": [
    "## Concatenete 2019-2023 : 48 csv files"
   ]
  },
  {
   "cell_type": "code",
   "execution_count": 3,
   "id": "9c7da9bb",
   "metadata": {},
   "outputs": [],
   "source": [
    "import pandas as pd\n",
    "import os"
   ]
  },
  {
   "cell_type": "code",
   "execution_count": 11,
   "id": "d1c61722",
   "metadata": {},
   "outputs": [
    {
     "name": "stderr",
     "output_type": "stream",
     "text": [
      "/var/folders/54/4cl_lcsx2v3_cd3ntyrh62340000gn/T/ipykernel_14075/1133134357.py:10: DtypeWarning: Columns (7,8,17,18) have mixed types. Specify dtype option on import or set low_memory=False.\n",
      "  file = pd.read_csv(filepath,delimiter=';')\n",
      "/var/folders/54/4cl_lcsx2v3_cd3ntyrh62340000gn/T/ipykernel_14075/1133134357.py:10: DtypeWarning: Columns (7,8,17,18) have mixed types. Specify dtype option on import or set low_memory=False.\n",
      "  file = pd.read_csv(filepath,delimiter=';')\n",
      "/var/folders/54/4cl_lcsx2v3_cd3ntyrh62340000gn/T/ipykernel_14075/1133134357.py:10: DtypeWarning: Columns (7,18) have mixed types. Specify dtype option on import or set low_memory=False.\n",
      "  file = pd.read_csv(filepath,delimiter=';')\n",
      "/var/folders/54/4cl_lcsx2v3_cd3ntyrh62340000gn/T/ipykernel_14075/1133134357.py:10: DtypeWarning: Columns (7,18) have mixed types. Specify dtype option on import or set low_memory=False.\n",
      "  file = pd.read_csv(filepath,delimiter=';')\n",
      "/var/folders/54/4cl_lcsx2v3_cd3ntyrh62340000gn/T/ipykernel_14075/1133134357.py:10: DtypeWarning: Columns (7,8,17,18) have mixed types. Specify dtype option on import or set low_memory=False.\n",
      "  file = pd.read_csv(filepath,delimiter=';')\n"
     ]
    }
   ],
   "source": [
    "import os #module to interact with operating system\n",
    "row_data = '/Users/clemence/IRONHACK/Final Project/Row data'\n",
    "all_files = [] #empty list to create a list of all the files I want to concatenate. \n",
    "tracking_files=[]\n",
    "\n",
    "for filename in os.listdir(row_data):\n",
    "    if filename.endswith('.csv'):\n",
    "        filepath = os.path.join(row_data, filename)\n",
    "        tracking_files.append(filename)\n",
    "        file = pd.read_csv(filepath,delimiter=';')\n",
    "        all_files.append(file)\n",
    "\n",
    "global_df = pd.concat(all_files, ignore_index=True)"
   ]
  },
  {
   "cell_type": "code",
   "execution_count": 5,
   "id": "2117ef1f",
   "metadata": {},
   "outputs": [
    {
     "data": {
      "text/plain": [
       "(10182966, 29)"
      ]
     },
     "execution_count": 5,
     "metadata": {},
     "output_type": "execute_result"
    }
   ],
   "source": [
    "global_df.shape"
   ]
  },
  {
   "cell_type": "code",
   "execution_count": 6,
   "id": "1c1aefba",
   "metadata": {},
   "outputs": [
    {
     "data": {
      "text/html": [
       "<div>\n",
       "<style scoped>\n",
       "    .dataframe tbody tr th:only-of-type {\n",
       "        vertical-align: middle;\n",
       "    }\n",
       "\n",
       "    .dataframe tbody tr th {\n",
       "        vertical-align: top;\n",
       "    }\n",
       "\n",
       "    .dataframe thead th {\n",
       "        text-align: right;\n",
       "    }\n",
       "</style>\n",
       "<table border=\"1\" class=\"dataframe\">\n",
       "  <thead>\n",
       "    <tr style=\"text-align: right;\">\n",
       "      <th></th>\n",
       "      <th>journey_id</th>\n",
       "      <th>trip_id</th>\n",
       "      <th>journey_start_datetime</th>\n",
       "      <th>journey_start_date</th>\n",
       "      <th>journey_start_time</th>\n",
       "      <th>journey_start_lon</th>\n",
       "      <th>journey_start_lat</th>\n",
       "      <th>journey_start_insee</th>\n",
       "      <th>journey_start_postalcode</th>\n",
       "      <th>journey_start_department</th>\n",
       "      <th>...</th>\n",
       "      <th>journey_end_postalcode</th>\n",
       "      <th>journey_end_department</th>\n",
       "      <th>journey_end_town</th>\n",
       "      <th>journey_end_towngroup</th>\n",
       "      <th>journey_end_country</th>\n",
       "      <th>passenger_seats</th>\n",
       "      <th>operator_class</th>\n",
       "      <th>journey_distance</th>\n",
       "      <th>journey_duration</th>\n",
       "      <th>has_incentive</th>\n",
       "    </tr>\n",
       "  </thead>\n",
       "  <tbody>\n",
       "    <tr>\n",
       "      <th>0</th>\n",
       "      <td>2520011</td>\n",
       "      <td>f5bc5273-79ab-42c9-9c22-aef9b375f87e</td>\n",
       "      <td>2020-02-01T00:00:00+01:00</td>\n",
       "      <td>2020-02-01</td>\n",
       "      <td>00:00:00</td>\n",
       "      <td>2.51</td>\n",
       "      <td>48.89</td>\n",
       "      <td>93062</td>\n",
       "      <td>93340.0</td>\n",
       "      <td>93.0</td>\n",
       "      <td>...</td>\n",
       "      <td>93390.0</td>\n",
       "      <td>93.0</td>\n",
       "      <td>Clichy-sous-Bois (93)</td>\n",
       "      <td>Ile-De-France Mobilites</td>\n",
       "      <td>France</td>\n",
       "      <td>1</td>\n",
       "      <td>B</td>\n",
       "      <td>3187</td>\n",
       "      <td>47</td>\n",
       "      <td>OUI</td>\n",
       "    </tr>\n",
       "    <tr>\n",
       "      <th>1</th>\n",
       "      <td>2519969</td>\n",
       "      <td>b737dca1-e1e8-4d73-bac5-4f2240b153f3</td>\n",
       "      <td>2020-02-01T00:00:00+01:00</td>\n",
       "      <td>2020-02-01</td>\n",
       "      <td>00:00:00</td>\n",
       "      <td>2.76</td>\n",
       "      <td>48.85</td>\n",
       "      <td>77307</td>\n",
       "      <td>77144.0</td>\n",
       "      <td>77.0</td>\n",
       "      <td>...</td>\n",
       "      <td>77450.0</td>\n",
       "      <td>77.0</td>\n",
       "      <td>Montry (77)</td>\n",
       "      <td>Ile-De-France Mobilites</td>\n",
       "      <td>France</td>\n",
       "      <td>1</td>\n",
       "      <td>C</td>\n",
       "      <td>8773</td>\n",
       "      <td>15</td>\n",
       "      <td>OUI</td>\n",
       "    </tr>\n",
       "    <tr>\n",
       "      <th>2</th>\n",
       "      <td>2519968</td>\n",
       "      <td>c6e2cdda-2348-4389-8490-78b2704a43a5</td>\n",
       "      <td>2020-02-01T00:00:00+01:00</td>\n",
       "      <td>2020-02-01</td>\n",
       "      <td>00:00:00</td>\n",
       "      <td>2.28</td>\n",
       "      <td>48.84</td>\n",
       "      <td>75056</td>\n",
       "      <td>75001.0</td>\n",
       "      <td>75.0</td>\n",
       "      <td>...</td>\n",
       "      <td>92130.0</td>\n",
       "      <td>92.0</td>\n",
       "      <td>Issy-les-Moulineaux (92)</td>\n",
       "      <td>Ile-De-France Mobilites</td>\n",
       "      <td>France</td>\n",
       "      <td>1</td>\n",
       "      <td>C</td>\n",
       "      <td>3143</td>\n",
       "      <td>15</td>\n",
       "      <td>OUI</td>\n",
       "    </tr>\n",
       "    <tr>\n",
       "      <th>3</th>\n",
       "      <td>2519970</td>\n",
       "      <td>e6baafd7-1aeb-4a6e-b7aa-3f5f54e4559b</td>\n",
       "      <td>2020-02-01T00:00:00+01:00</td>\n",
       "      <td>2020-02-01</td>\n",
       "      <td>00:00:00</td>\n",
       "      <td>2.26</td>\n",
       "      <td>48.72</td>\n",
       "      <td>91377</td>\n",
       "      <td>91300.0</td>\n",
       "      <td>91.0</td>\n",
       "      <td>...</td>\n",
       "      <td>91380.0</td>\n",
       "      <td>91.0</td>\n",
       "      <td>Chilly-Mazarin (91)</td>\n",
       "      <td>Ile-De-France Mobilites</td>\n",
       "      <td>France</td>\n",
       "      <td>1</td>\n",
       "      <td>C</td>\n",
       "      <td>7491</td>\n",
       "      <td>16</td>\n",
       "      <td>OUI</td>\n",
       "    </tr>\n",
       "    <tr>\n",
       "      <th>4</th>\n",
       "      <td>2519963</td>\n",
       "      <td>8b31f193-af61-4664-bbde-52d93271dc95</td>\n",
       "      <td>2020-02-01T00:00:00+01:00</td>\n",
       "      <td>2020-02-01</td>\n",
       "      <td>00:00:00</td>\n",
       "      <td>2.78</td>\n",
       "      <td>48.87</td>\n",
       "      <td>77132</td>\n",
       "      <td>77700.0</td>\n",
       "      <td>77.0</td>\n",
       "      <td>...</td>\n",
       "      <td>77700.0</td>\n",
       "      <td>77.0</td>\n",
       "      <td>Magny-le-Hongre (77)</td>\n",
       "      <td>Ile-De-France Mobilites</td>\n",
       "      <td>France</td>\n",
       "      <td>1</td>\n",
       "      <td>C</td>\n",
       "      <td>3991</td>\n",
       "      <td>8</td>\n",
       "      <td>OUI</td>\n",
       "    </tr>\n",
       "  </tbody>\n",
       "</table>\n",
       "<p>5 rows × 29 columns</p>\n",
       "</div>"
      ],
      "text/plain": [
       "   journey_id                               trip_id  \\\n",
       "0     2520011  f5bc5273-79ab-42c9-9c22-aef9b375f87e   \n",
       "1     2519969  b737dca1-e1e8-4d73-bac5-4f2240b153f3   \n",
       "2     2519968  c6e2cdda-2348-4389-8490-78b2704a43a5   \n",
       "3     2519970  e6baafd7-1aeb-4a6e-b7aa-3f5f54e4559b   \n",
       "4     2519963  8b31f193-af61-4664-bbde-52d93271dc95   \n",
       "\n",
       "      journey_start_datetime journey_start_date journey_start_time  \\\n",
       "0  2020-02-01T00:00:00+01:00         2020-02-01           00:00:00   \n",
       "1  2020-02-01T00:00:00+01:00         2020-02-01           00:00:00   \n",
       "2  2020-02-01T00:00:00+01:00         2020-02-01           00:00:00   \n",
       "3  2020-02-01T00:00:00+01:00         2020-02-01           00:00:00   \n",
       "4  2020-02-01T00:00:00+01:00         2020-02-01           00:00:00   \n",
       "\n",
       "   journey_start_lon  journey_start_lat journey_start_insee  \\\n",
       "0               2.51              48.89               93062   \n",
       "1               2.76              48.85               77307   \n",
       "2               2.28              48.84               75056   \n",
       "3               2.26              48.72               91377   \n",
       "4               2.78              48.87               77132   \n",
       "\n",
       "   journey_start_postalcode journey_start_department  ...  \\\n",
       "0                   93340.0                     93.0  ...   \n",
       "1                   77144.0                     77.0  ...   \n",
       "2                   75001.0                     75.0  ...   \n",
       "3                   91300.0                     91.0  ...   \n",
       "4                   77700.0                     77.0  ...   \n",
       "\n",
       "  journey_end_postalcode journey_end_department          journey_end_town  \\\n",
       "0                93390.0                   93.0     Clichy-sous-Bois (93)   \n",
       "1                77450.0                   77.0               Montry (77)   \n",
       "2                92130.0                   92.0  Issy-les-Moulineaux (92)   \n",
       "3                91380.0                   91.0       Chilly-Mazarin (91)   \n",
       "4                77700.0                   77.0      Magny-le-Hongre (77)   \n",
       "\n",
       "     journey_end_towngroup journey_end_country passenger_seats  \\\n",
       "0  Ile-De-France Mobilites              France               1   \n",
       "1  Ile-De-France Mobilites              France               1   \n",
       "2  Ile-De-France Mobilites              France               1   \n",
       "3  Ile-De-France Mobilites              France               1   \n",
       "4  Ile-De-France Mobilites              France               1   \n",
       "\n",
       "   operator_class  journey_distance journey_duration  has_incentive  \n",
       "0               B              3187               47            OUI  \n",
       "1               C              8773               15            OUI  \n",
       "2               C              3143               15            OUI  \n",
       "3               C              7491               16            OUI  \n",
       "4               C              3991                8            OUI  \n",
       "\n",
       "[5 rows x 29 columns]"
      ]
     },
     "execution_count": 6,
     "metadata": {},
     "output_type": "execute_result"
    }
   ],
   "source": [
    "global_df.head()"
   ]
  },
  {
   "cell_type": "code",
   "execution_count": 7,
   "id": "5e98b745",
   "metadata": {},
   "outputs": [
    {
     "data": {
      "text/plain": [
       "array(['2020-02-01', '2020-02-02', '2020-02-03', ..., '2022-09-28',\n",
       "       '2022-09-29', '2022-09-30'], dtype=object)"
      ]
     },
     "execution_count": 7,
     "metadata": {},
     "output_type": "execute_result"
    }
   ],
   "source": [
    "global_df[\"journey_start_date\"].unique()"
   ]
  },
  {
   "cell_type": "code",
   "execution_count": 16,
   "id": "916e1a8c",
   "metadata": {},
   "outputs": [
    {
     "data": {
      "text/plain": [
       "['2020-02.csv',\n",
       " '2022-07.csv',\n",
       " '2022-12.csv',\n",
       " '2022-06.csv',\n",
       " '2020-03.csv',\n",
       " '2020-01.csv',\n",
       " '2022-10.csv',\n",
       " '2022-04.csv',\n",
       " '2022-05.csv',\n",
       " '2022-11.csv',\n",
       " '2020-10.csv',\n",
       " '2020-04.csv',\n",
       " '2022-01.csv',\n",
       " '2020-05.csv',\n",
       " '2020-11.csv',\n",
       " '2020-07.csv',\n",
       " '2022-02.csv',\n",
       " '2022-03.csv',\n",
       " '2020-12.csv',\n",
       " '2020-06.csv',\n",
       " '2021-09.csv',\n",
       " '2021-08.csv',\n",
       " '2019-08.csv',\n",
       " '2019-09.csv',\n",
       " '2019-10.csv',\n",
       " '2019-04.csv',\n",
       " '2019-05.csv',\n",
       " '2019-11.csv',\n",
       " '2021-01.csv',\n",
       " '2021-03.csv',\n",
       " '2019-07.csv',\n",
       " '2019-12.csv',\n",
       " '2019-06.csv',\n",
       " '2021-02.csv',\n",
       " '2021-06.csv',\n",
       " '2021-12.csv',\n",
       " '2019-02.csv',\n",
       " '2019-03.csv',\n",
       " '2021-07.csv',\n",
       " '2021-11.csv',\n",
       " '2021-05.csv',\n",
       " '2021-04.csv',\n",
       " '2021-10.csv',\n",
       " '2023-01.csv',\n",
       " '2020-08.csv',\n",
       " '2020-09.csv',\n",
       " '2022-08.csv',\n",
       " '2022-09.csv']"
      ]
     },
     "execution_count": 16,
     "metadata": {},
     "output_type": "execute_result"
    }
   ],
   "source": [
    "tracking_files"
   ]
  },
  {
   "cell_type": "code",
   "execution_count": 17,
   "id": "729a0122",
   "metadata": {},
   "outputs": [
    {
     "data": {
      "text/plain": [
       "48"
      ]
     },
     "execution_count": 17,
     "metadata": {},
     "output_type": "execute_result"
    }
   ],
   "source": [
    "len(tracking_files)"
   ]
  },
  {
   "cell_type": "code",
   "execution_count": null,
   "id": "dc4bc5aa",
   "metadata": {},
   "outputs": [],
   "source": [
    "#all the files are concatenated "
   ]
  },
  {
   "cell_type": "markdown",
   "id": "7785428c",
   "metadata": {},
   "source": [
    "#### Checking the missing values"
   ]
  },
  {
   "cell_type": "code",
   "execution_count": 19,
   "id": "53b681f5",
   "metadata": {},
   "outputs": [
    {
     "data": {
      "text/plain": [
       "journey_id                        0\n",
       "trip_id                           0\n",
       "journey_start_datetime            0\n",
       "journey_start_date                0\n",
       "journey_start_time                0\n",
       "journey_start_lon                 0\n",
       "journey_start_lat                 0\n",
       "journey_start_insee               0\n",
       "journey_start_postalcode    4519421\n",
       "journey_start_department     169704\n",
       "journey_start_town           169277\n",
       "journey_start_towngroup      459162\n",
       "journey_start_country           407\n",
       "journey_end_datetime              0\n",
       "journey_end_date                  0\n",
       "journey_end_time                  0\n",
       "journey_end_lon                   0\n",
       "journey_end_lat                   0\n",
       "journey_end_insee                 0\n",
       "journey_end_postalcode      4527700\n",
       "journey_end_department       185026\n",
       "journey_end_town             184590\n",
       "journey_end_towngroup        468569\n",
       "journey_end_country             407\n",
       "passenger_seats                   0\n",
       "operator_class                    0\n",
       "journey_distance                  0\n",
       "journey_duration                  0\n",
       "has_incentive                     0\n",
       "dtype: int64"
      ]
     },
     "execution_count": 19,
     "metadata": {},
     "output_type": "execute_result"
    }
   ],
   "source": [
    "global_df.isnull().sum()"
   ]
  },
  {
   "cell_type": "markdown",
   "id": "44e87851",
   "metadata": {},
   "source": [
    "It seems ok because postal code and town have the same information as insee, and department/country/towngroup missing values are small and can be deducted "
   ]
  },
  {
   "cell_type": "code",
   "execution_count": 44,
   "id": "dd712d68",
   "metadata": {},
   "outputs": [],
   "source": [
    "number_town_start=list(global_df[\"journey_start_insee\"].unique())"
   ]
  },
  {
   "cell_type": "code",
   "execution_count": 45,
   "id": "9972c204",
   "metadata": {},
   "outputs": [
    {
     "data": {
      "text/plain": [
       "16591"
      ]
     },
     "execution_count": 45,
     "metadata": {},
     "output_type": "execute_result"
    }
   ],
   "source": [
    "len(number_town_start)"
   ]
  },
  {
   "cell_type": "code",
   "execution_count": 41,
   "id": "ac94227e",
   "metadata": {},
   "outputs": [
    {
     "data": {
      "text/plain": [
       "journey_id                    int64\n",
       "trip_id                      object\n",
       "journey_start_datetime       object\n",
       "journey_start_date           object\n",
       "journey_start_time           object\n",
       "journey_start_lon           float64\n",
       "journey_start_lat           float64\n",
       "journey_start_insee          object\n",
       "journey_start_postalcode    float64\n",
       "journey_start_department     object\n",
       "journey_start_town           object\n",
       "journey_start_towngroup      object\n",
       "journey_start_country        object\n",
       "journey_end_datetime         object\n",
       "journey_end_date             object\n",
       "journey_end_time             object\n",
       "journey_end_lon             float64\n",
       "journey_end_lat             float64\n",
       "journey_end_insee            object\n",
       "journey_end_postalcode      float64\n",
       "journey_end_department       object\n",
       "journey_end_town             object\n",
       "journey_end_towngroup        object\n",
       "journey_end_country          object\n",
       "passenger_seats               int64\n",
       "operator_class               object\n",
       "journey_distance              int64\n",
       "journey_duration              int64\n",
       "has_incentive                object\n",
       "dtype: object"
      ]
     },
     "execution_count": 41,
     "metadata": {},
     "output_type": "execute_result"
    }
   ],
   "source": [
    "global_df.dtypes"
   ]
  },
  {
   "cell_type": "code",
   "execution_count": 43,
   "id": "7999b388",
   "metadata": {},
   "outputs": [
    {
     "data": {
      "text/plain": [
       "0           93062\n",
       "1           77307\n",
       "2           75056\n",
       "3           91377\n",
       "4           77132\n",
       "            ...  \n",
       "10182961    75056\n",
       "10182962    75056\n",
       "10182963    92012\n",
       "10182964    76497\n",
       "10182965    76532\n",
       "Name: journey_start_insee, Length: 10182966, dtype: object"
      ]
     },
     "execution_count": 43,
     "metadata": {},
     "output_type": "execute_result"
    }
   ],
   "source": [
    "global_df[\"journey_start_insee\"].astype(str)"
   ]
  },
  {
   "cell_type": "code",
   "execution_count": 49,
   "id": "22fee19b",
   "metadata": {},
   "outputs": [],
   "source": [
    "global_df.to_csv(\"/Users/clemence/IRONHACK/Final Project/2019to2023.csv\")"
   ]
  },
  {
   "cell_type": "markdown",
   "id": "397334a1",
   "metadata": {},
   "source": [
    "## Concatenate 2021-2022"
   ]
  },
  {
   "cell_type": "code",
   "execution_count": 61,
   "id": "d0e01cc4",
   "metadata": {},
   "outputs": [
    {
     "name": "stderr",
     "output_type": "stream",
     "text": [
      "/var/folders/54/4cl_lcsx2v3_cd3ntyrh62340000gn/T/ipykernel_14075/3757188445.py:9: DtypeWarning: Columns (7,8,17,18) have mixed types. Specify dtype option on import or set low_memory=False.\n",
      "  file = pd.read_csv(filepath,delimiter=';')\n",
      "/var/folders/54/4cl_lcsx2v3_cd3ntyrh62340000gn/T/ipykernel_14075/3757188445.py:9: DtypeWarning: Columns (7,8,17,18) have mixed types. Specify dtype option on import or set low_memory=False.\n",
      "  file = pd.read_csv(filepath,delimiter=';')\n",
      "/var/folders/54/4cl_lcsx2v3_cd3ntyrh62340000gn/T/ipykernel_14075/3757188445.py:9: DtypeWarning: Columns (7,18) have mixed types. Specify dtype option on import or set low_memory=False.\n",
      "  file = pd.read_csv(filepath,delimiter=';')\n",
      "/var/folders/54/4cl_lcsx2v3_cd3ntyrh62340000gn/T/ipykernel_14075/3757188445.py:9: DtypeWarning: Columns (7,18) have mixed types. Specify dtype option on import or set low_memory=False.\n",
      "  file = pd.read_csv(filepath,delimiter=';')\n"
     ]
    }
   ],
   "source": [
    "row_data = '/Users/clemence/IRONHACK/Final Project/Row data'\n",
    "files21_22 = [] \n",
    "tracking_files=[]\n",
    "\n",
    "for filename in os.listdir(row_data):\n",
    "    if filename.endswith('.csv'):\n",
    "        filepath = os.path.join(row_data, filename)\n",
    "        tracking_files.append(filename)\n",
    "        file = pd.read_csv(filepath,delimiter=';')\n",
    "        files21_22.append(file)\n",
    "\n",
    "global_df = pd.concat(files21_22, ignore_index=True)"
   ]
  },
  {
   "cell_type": "code",
   "execution_count": 62,
   "id": "bdfca10f",
   "metadata": {},
   "outputs": [
    {
     "data": {
      "text/plain": [
       "12"
      ]
     },
     "execution_count": 62,
     "metadata": {},
     "output_type": "execute_result"
    }
   ],
   "source": [
    "len(tracking_files)"
   ]
  },
  {
   "cell_type": "code",
   "execution_count": 53,
   "id": "5e3be186",
   "metadata": {},
   "outputs": [],
   "source": [
    "df_21_22=global_df #renaming the df"
   ]
  },
  {
   "cell_type": "code",
   "execution_count": 54,
   "id": "6c7198c3",
   "metadata": {},
   "outputs": [
    {
     "data": {
      "text/plain": [
       "(7439423, 29)"
      ]
     },
     "execution_count": 54,
     "metadata": {},
     "output_type": "execute_result"
    }
   ],
   "source": [
    "df_21_22.shape"
   ]
  },
  {
   "cell_type": "code",
   "execution_count": 55,
   "id": "d660893d",
   "metadata": {},
   "outputs": [],
   "source": [
    "df_21_22.to_csv(\"/Users/clemence/IRONHACK/Final Project/2021_2023.csv\")"
   ]
  },
  {
   "cell_type": "markdown",
   "id": "2525e16b",
   "metadata": {},
   "source": [
    "## Concatenate only 2022"
   ]
  },
  {
   "cell_type": "code",
   "execution_count": 4,
   "id": "f854a83c",
   "metadata": {},
   "outputs": [
    {
     "name": "stderr",
     "output_type": "stream",
     "text": [
      "/var/folders/54/4cl_lcsx2v3_cd3ntyrh62340000gn/T/ipykernel_74753/3948881428.py:9: DtypeWarning: Columns (7,8,17,18) have mixed types. Specify dtype option on import or set low_memory=False.\n",
      "  file = pd.read_csv(filepath,delimiter=';')\n",
      "/var/folders/54/4cl_lcsx2v3_cd3ntyrh62340000gn/T/ipykernel_74753/3948881428.py:9: DtypeWarning: Columns (7,8,17,18) have mixed types. Specify dtype option on import or set low_memory=False.\n",
      "  file = pd.read_csv(filepath,delimiter=';')\n",
      "/var/folders/54/4cl_lcsx2v3_cd3ntyrh62340000gn/T/ipykernel_74753/3948881428.py:9: DtypeWarning: Columns (7,18) have mixed types. Specify dtype option on import or set low_memory=False.\n",
      "  file = pd.read_csv(filepath,delimiter=';')\n",
      "/var/folders/54/4cl_lcsx2v3_cd3ntyrh62340000gn/T/ipykernel_74753/3948881428.py:9: DtypeWarning: Columns (7,18) have mixed types. Specify dtype option on import or set low_memory=False.\n",
      "  file = pd.read_csv(filepath,delimiter=';')\n"
     ]
    }
   ],
   "source": [
    "row_data = '/Users/clemence/IRONHACK/Final Project/Row data'\n",
    "files2022 = [] \n",
    "tracking_files=[]\n",
    "\n",
    "for filename in os.listdir(row_data):\n",
    "    if filename.endswith('.csv'):\n",
    "        filepath = os.path.join(row_data, filename)\n",
    "        tracking_files.append(filename)\n",
    "        file = pd.read_csv(filepath,delimiter=';')\n",
    "        files2022.append(file)\n",
    "\n",
    "df_2022 = pd.concat(files2022, ignore_index=True)"
   ]
  },
  {
   "cell_type": "code",
   "execution_count": 5,
   "id": "b19b41ab",
   "metadata": {},
   "outputs": [
    {
     "data": {
      "text/plain": [
       "12"
      ]
     },
     "execution_count": 5,
     "metadata": {},
     "output_type": "execute_result"
    }
   ],
   "source": [
    "len(files2022)"
   ]
  },
  {
   "cell_type": "code",
   "execution_count": 6,
   "id": "84bcffdf",
   "metadata": {},
   "outputs": [
    {
     "data": {
      "text/plain": [
       "(5106591, 29)"
      ]
     },
     "execution_count": 6,
     "metadata": {},
     "output_type": "execute_result"
    }
   ],
   "source": [
    "df_2022.shape"
   ]
  },
  {
   "cell_type": "code",
   "execution_count": 7,
   "id": "be9a61b4",
   "metadata": {},
   "outputs": [
    {
     "data": {
      "text/html": [
       "<div>\n",
       "<style scoped>\n",
       "    .dataframe tbody tr th:only-of-type {\n",
       "        vertical-align: middle;\n",
       "    }\n",
       "\n",
       "    .dataframe tbody tr th {\n",
       "        vertical-align: top;\n",
       "    }\n",
       "\n",
       "    .dataframe thead th {\n",
       "        text-align: right;\n",
       "    }\n",
       "</style>\n",
       "<table border=\"1\" class=\"dataframe\">\n",
       "  <thead>\n",
       "    <tr style=\"text-align: right;\">\n",
       "      <th></th>\n",
       "      <th>journey_id</th>\n",
       "      <th>trip_id</th>\n",
       "      <th>journey_start_datetime</th>\n",
       "      <th>journey_start_date</th>\n",
       "      <th>journey_start_time</th>\n",
       "      <th>journey_start_lon</th>\n",
       "      <th>journey_start_lat</th>\n",
       "      <th>journey_start_insee</th>\n",
       "      <th>journey_start_department</th>\n",
       "      <th>journey_start_town</th>\n",
       "      <th>...</th>\n",
       "      <th>journey_end_town</th>\n",
       "      <th>journey_end_towngroup</th>\n",
       "      <th>journey_end_country</th>\n",
       "      <th>passenger_seats</th>\n",
       "      <th>operator_class</th>\n",
       "      <th>journey_distance</th>\n",
       "      <th>journey_duration</th>\n",
       "      <th>has_incentive</th>\n",
       "      <th>journey_start_postalcode</th>\n",
       "      <th>journey_end_postalcode</th>\n",
       "    </tr>\n",
       "  </thead>\n",
       "  <tbody>\n",
       "    <tr>\n",
       "      <th>0</th>\n",
       "      <td>7668840</td>\n",
       "      <td>fecae00f-6bfe-46a2-b59d-5571b1723740</td>\n",
       "      <td>2022-07-01T00:00:00+02:00</td>\n",
       "      <td>2022-07-01</td>\n",
       "      <td>00:00:00</td>\n",
       "      <td>2.784</td>\n",
       "      <td>48.866</td>\n",
       "      <td>77111</td>\n",
       "      <td>77.0</td>\n",
       "      <td>Chessy</td>\n",
       "      <td>...</td>\n",
       "      <td>Bailly-Romainvilliers</td>\n",
       "      <td>CA Val d'Europe Agglomération</td>\n",
       "      <td>France</td>\n",
       "      <td>1</td>\n",
       "      <td>C</td>\n",
       "      <td>4993</td>\n",
       "      <td>11</td>\n",
       "      <td>OUI</td>\n",
       "      <td>NaN</td>\n",
       "      <td>NaN</td>\n",
       "    </tr>\n",
       "    <tr>\n",
       "      <th>1</th>\n",
       "      <td>7689879</td>\n",
       "      <td>f358cd4d-010e-4952-89be-b9b882b7c580</td>\n",
       "      <td>2022-07-01T00:00:00+02:00</td>\n",
       "      <td>2022-07-01</td>\n",
       "      <td>00:00:00</td>\n",
       "      <td>2.562</td>\n",
       "      <td>48.530</td>\n",
       "      <td>77040</td>\n",
       "      <td>77.0</td>\n",
       "      <td>Boissise-le-Roi</td>\n",
       "      <td>...</td>\n",
       "      <td>Vert-Saint-Denis</td>\n",
       "      <td>CA Grand Paris Sud Seine Essonne Sénart</td>\n",
       "      <td>France</td>\n",
       "      <td>1</td>\n",
       "      <td>C</td>\n",
       "      <td>8876</td>\n",
       "      <td>16</td>\n",
       "      <td>OUI</td>\n",
       "      <td>NaN</td>\n",
       "      <td>NaN</td>\n",
       "    </tr>\n",
       "    <tr>\n",
       "      <th>2</th>\n",
       "      <td>7689880</td>\n",
       "      <td>290e9d12-329f-4cc7-b78b-16d86eec506a</td>\n",
       "      <td>2022-07-01T00:00:00+02:00</td>\n",
       "      <td>2022-07-01</td>\n",
       "      <td>00:00:00</td>\n",
       "      <td>1.964</td>\n",
       "      <td>48.773</td>\n",
       "      <td>78208</td>\n",
       "      <td>78.0</td>\n",
       "      <td>Élancourt</td>\n",
       "      <td>...</td>\n",
       "      <td>Paris</td>\n",
       "      <td>Métropole du Grand Paris</td>\n",
       "      <td>France</td>\n",
       "      <td>1</td>\n",
       "      <td>C</td>\n",
       "      <td>43666</td>\n",
       "      <td>63</td>\n",
       "      <td>OUI</td>\n",
       "      <td>NaN</td>\n",
       "      <td>NaN</td>\n",
       "    </tr>\n",
       "    <tr>\n",
       "      <th>3</th>\n",
       "      <td>7689873</td>\n",
       "      <td>290e9d12-329f-4cc7-b78b-16d86eec506a</td>\n",
       "      <td>2022-07-01T00:00:00+02:00</td>\n",
       "      <td>2022-07-01</td>\n",
       "      <td>00:00:00</td>\n",
       "      <td>1.964</td>\n",
       "      <td>48.773</td>\n",
       "      <td>78208</td>\n",
       "      <td>78.0</td>\n",
       "      <td>Élancourt</td>\n",
       "      <td>...</td>\n",
       "      <td>Paris</td>\n",
       "      <td>Métropole du Grand Paris</td>\n",
       "      <td>France</td>\n",
       "      <td>1</td>\n",
       "      <td>C</td>\n",
       "      <td>43666</td>\n",
       "      <td>63</td>\n",
       "      <td>OUI</td>\n",
       "      <td>NaN</td>\n",
       "      <td>NaN</td>\n",
       "    </tr>\n",
       "    <tr>\n",
       "      <th>4</th>\n",
       "      <td>7689877</td>\n",
       "      <td>428275c2-237a-4344-9f93-97eeced40c49</td>\n",
       "      <td>2022-07-01T00:00:00+02:00</td>\n",
       "      <td>2022-07-01</td>\n",
       "      <td>00:00:00</td>\n",
       "      <td>2.325</td>\n",
       "      <td>48.805</td>\n",
       "      <td>92007</td>\n",
       "      <td>92.0</td>\n",
       "      <td>Bagneux</td>\n",
       "      <td>...</td>\n",
       "      <td>Gif-sur-Yvette</td>\n",
       "      <td>CA Communauté Paris-Saclay</td>\n",
       "      <td>France</td>\n",
       "      <td>1</td>\n",
       "      <td>C</td>\n",
       "      <td>23144</td>\n",
       "      <td>41</td>\n",
       "      <td>OUI</td>\n",
       "      <td>NaN</td>\n",
       "      <td>NaN</td>\n",
       "    </tr>\n",
       "  </tbody>\n",
       "</table>\n",
       "<p>5 rows × 29 columns</p>\n",
       "</div>"
      ],
      "text/plain": [
       "   journey_id                               trip_id  \\\n",
       "0     7668840  fecae00f-6bfe-46a2-b59d-5571b1723740   \n",
       "1     7689879  f358cd4d-010e-4952-89be-b9b882b7c580   \n",
       "2     7689880  290e9d12-329f-4cc7-b78b-16d86eec506a   \n",
       "3     7689873  290e9d12-329f-4cc7-b78b-16d86eec506a   \n",
       "4     7689877  428275c2-237a-4344-9f93-97eeced40c49   \n",
       "\n",
       "      journey_start_datetime journey_start_date journey_start_time  \\\n",
       "0  2022-07-01T00:00:00+02:00         2022-07-01           00:00:00   \n",
       "1  2022-07-01T00:00:00+02:00         2022-07-01           00:00:00   \n",
       "2  2022-07-01T00:00:00+02:00         2022-07-01           00:00:00   \n",
       "3  2022-07-01T00:00:00+02:00         2022-07-01           00:00:00   \n",
       "4  2022-07-01T00:00:00+02:00         2022-07-01           00:00:00   \n",
       "\n",
       "   journey_start_lon  journey_start_lat journey_start_insee  \\\n",
       "0              2.784             48.866               77111   \n",
       "1              2.562             48.530               77040   \n",
       "2              1.964             48.773               78208   \n",
       "3              1.964             48.773               78208   \n",
       "4              2.325             48.805               92007   \n",
       "\n",
       "  journey_start_department journey_start_town  ...       journey_end_town  \\\n",
       "0                     77.0             Chessy  ...  Bailly-Romainvilliers   \n",
       "1                     77.0    Boissise-le-Roi  ...       Vert-Saint-Denis   \n",
       "2                     78.0          Élancourt  ...                  Paris   \n",
       "3                     78.0          Élancourt  ...                  Paris   \n",
       "4                     92.0            Bagneux  ...         Gif-sur-Yvette   \n",
       "\n",
       "                     journey_end_towngroup journey_end_country  \\\n",
       "0            CA Val d'Europe Agglomération              France   \n",
       "1  CA Grand Paris Sud Seine Essonne Sénart              France   \n",
       "2                 Métropole du Grand Paris              France   \n",
       "3                 Métropole du Grand Paris              France   \n",
       "4               CA Communauté Paris-Saclay              France   \n",
       "\n",
       "  passenger_seats operator_class  journey_distance  journey_duration  \\\n",
       "0               1              C              4993                11   \n",
       "1               1              C              8876                16   \n",
       "2               1              C             43666                63   \n",
       "3               1              C             43666                63   \n",
       "4               1              C             23144                41   \n",
       "\n",
       "  has_incentive journey_start_postalcode journey_end_postalcode  \n",
       "0           OUI                      NaN                    NaN  \n",
       "1           OUI                      NaN                    NaN  \n",
       "2           OUI                      NaN                    NaN  \n",
       "3           OUI                      NaN                    NaN  \n",
       "4           OUI                      NaN                    NaN  \n",
       "\n",
       "[5 rows x 29 columns]"
      ]
     },
     "execution_count": 7,
     "metadata": {},
     "output_type": "execute_result"
    }
   ],
   "source": [
    "df_2022.head()"
   ]
  },
  {
   "cell_type": "code",
   "execution_count": 8,
   "id": "f8548dd6",
   "metadata": {},
   "outputs": [],
   "source": [
    "df_2022.to_csv(\"/Users/clemence/IRONHACK/Final Project/2022.csv\")"
   ]
  },
  {
   "cell_type": "code",
   "execution_count": 9,
   "id": "46b87266",
   "metadata": {},
   "outputs": [
    {
     "data": {
      "text/plain": [
       "3891899"
      ]
     },
     "execution_count": 9,
     "metadata": {},
     "output_type": "execute_result"
    }
   ],
   "source": [
    "df_2022[\"trip_id\"].nunique()"
   ]
  },
  {
   "cell_type": "code",
   "execution_count": null,
   "id": "bd86ac5a",
   "metadata": {},
   "outputs": [],
   "source": []
  }
 ],
 "metadata": {
  "kernelspec": {
   "display_name": "Python 3 (ipykernel)",
   "language": "python",
   "name": "python3"
  },
  "language_info": {
   "codemirror_mode": {
    "name": "ipython",
    "version": 3
   },
   "file_extension": ".py",
   "mimetype": "text/x-python",
   "name": "python",
   "nbconvert_exporter": "python",
   "pygments_lexer": "ipython3",
   "version": "3.9.13"
  }
 },
 "nbformat": 4,
 "nbformat_minor": 5
}
