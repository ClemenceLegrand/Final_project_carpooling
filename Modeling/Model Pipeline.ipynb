{
 "cells": [
  {
   "cell_type": "code",
   "execution_count": 1,
   "id": "f5e7d64b",
   "metadata": {},
   "outputs": [],
   "source": [
    "import pickle\n",
    "import numpy as np\n",
    "import pandas as pd\n",
    "import datetime"
   ]
  },
  {
   "cell_type": "code",
   "execution_count": 2,
   "id": "f8e10171",
   "metadata": {},
   "outputs": [
    {
     "name": "stdout",
     "output_type": "stream",
     "text": [
      "Clémence LEGRAND RNCP report .docx   Modeling .ipynb\r\n",
      "Clémence LEGRAND RNCP report .pdf    Queries.sql\r\n",
      "Concatenation.ipynb                  README.md\r\n",
      "Data cleaning main dataset.ipynb     RNCP report .docx\r\n",
      "ERD.png                              Script_creation_database.sql\r\n",
      "Exploratory data analysis.ipynb      kmeansIDF.pickle\r\n",
      "Main dataset description.docx        knnModel.pickle\r\n",
      "Manip for visualizations.ipynb       nb_carpoolModel.pickle\r\n",
      "Model Pipeline.ipynb\r\n"
     ]
    }
   ],
   "source": [
    "!ls"
   ]
  },
  {
   "cell_type": "code",
   "execution_count": 3,
   "id": "03dff350",
   "metadata": {},
   "outputs": [],
   "source": [
    "with open('kmeansIDF.pickle', 'rb') as file:\n",
    "    kmeansIDF_model = pickle.load(file)"
   ]
  },
  {
   "cell_type": "code",
   "execution_count": 5,
   "id": "22efa027",
   "metadata": {},
   "outputs": [],
   "source": [
    "gps = {'journey_start_lat': [48.839], 'journey_start_lon': [2.239]}\n",
    "clusterNo= int(kmeansIDF_model.predict(pd.DataFrame(data=gps)))"
   ]
  },
  {
   "cell_type": "code",
   "execution_count": 7,
   "id": "91214ba7",
   "metadata": {},
   "outputs": [],
   "source": [
    "with open('knn2Model.pickle', 'rb') as file:\n",
    "    knnModel = pickle.load(file)"
   ]
  },
  {
   "cell_type": "code",
   "execution_count": 9,
   "id": "43b84726",
   "metadata": {},
   "outputs": [],
   "source": [
    "hour = datetime.time(8, 45)"
   ]
  },
  {
   "cell_type": "code",
   "execution_count": 10,
   "id": "1c6629fa",
   "metadata": {},
   "outputs": [],
   "source": [
    "def secondTime(t):\n",
    "    seconds = (t.hour * 60 + t.minute) * 60 + t.second\n",
    "    return seconds"
   ]
  },
  {
   "cell_type": "code",
   "execution_count": 11,
   "id": "e9c239aa",
   "metadata": {},
   "outputs": [],
   "source": [
    "hourInSec = secondTime(hour)"
   ]
  },
  {
   "cell_type": "code",
   "execution_count": 13,
   "id": "e33780bc",
   "metadata": {},
   "outputs": [
    {
     "data": {
      "text/plain": [
       "31500"
      ]
     },
     "execution_count": 13,
     "metadata": {},
     "output_type": "execute_result"
    }
   ],
   "source": [
    "hourInSec"
   ]
  },
  {
   "cell_type": "code",
   "execution_count": 12,
   "id": "2abe8aa8",
   "metadata": {},
   "outputs": [
    {
     "name": "stderr",
     "output_type": "stream",
     "text": [
      "/Users/clemence/opt/anaconda3/lib/python3.9/site-packages/sklearn/base.py:443: UserWarning: X has feature names, but KNeighborsRegressor was fitted without feature names\n",
      "  warnings.warn(\n"
     ]
    },
    {
     "data": {
      "text/plain": [
       "array([1.4])"
      ]
     },
     "execution_count": 12,
     "metadata": {},
     "output_type": "execute_result"
    }
   ],
   "source": [
    "time_cluster = {'time': [hourInSec], 'cluster': [clusterNo]}\n",
    "knnModel.predict(pd.DataFrame(data=time_cluster))"
   ]
  },
  {
   "cell_type": "code",
   "execution_count": null,
   "id": "89313f11",
   "metadata": {},
   "outputs": [],
   "source": []
  }
 ],
 "metadata": {
  "kernelspec": {
   "display_name": "Python 3 (ipykernel)",
   "language": "python",
   "name": "python3"
  },
  "language_info": {
   "codemirror_mode": {
    "name": "ipython",
    "version": 3
   },
   "file_extension": ".py",
   "mimetype": "text/x-python",
   "name": "python",
   "nbconvert_exporter": "python",
   "pygments_lexer": "ipython3",
   "version": "3.9.13"
  }
 },
 "nbformat": 4,
 "nbformat_minor": 5
}
