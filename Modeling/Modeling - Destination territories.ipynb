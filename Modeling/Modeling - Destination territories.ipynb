{
 "cells": [
  {
   "cell_type": "markdown",
   "id": "2586e0c3",
   "metadata": {},
   "source": [
    "# Predict the number of carpooling around you AND THE DESTINATION"
   ]
  },
  {
   "cell_type": "markdown",
   "id": "17ff9bc5",
   "metadata": {},
   "source": [
    "## Preparing the data"
   ]
  },
  {
   "cell_type": "code",
   "execution_count": 1,
   "id": "9ef342ea",
   "metadata": {},
   "outputs": [],
   "source": [
    "#2022 on Ile-de-France region"
   ]
  },
  {
   "cell_type": "code",
   "execution_count": 2,
   "id": "954fd944",
   "metadata": {},
   "outputs": [],
   "source": [
    "import pandas as pd\n",
    "import warnings\n",
    "warnings.filterwarnings('ignore')"
   ]
  },
  {
   "cell_type": "code",
   "execution_count": 58,
   "id": "a0dcf96a",
   "metadata": {},
   "outputs": [],
   "source": [
    "df_2022=pd.read_csv(\"/Users/clemence/IRONHACK/Final_project/Main data set clean/df2022_clean.csv\")"
   ]
  },
  {
   "cell_type": "code",
   "execution_count": 4,
   "id": "d5eb8a94",
   "metadata": {},
   "outputs": [
    {
     "data": {
      "text/html": [
       "<div>\n",
       "<style scoped>\n",
       "    .dataframe tbody tr th:only-of-type {\n",
       "        vertical-align: middle;\n",
       "    }\n",
       "\n",
       "    .dataframe tbody tr th {\n",
       "        vertical-align: top;\n",
       "    }\n",
       "\n",
       "    .dataframe thead th {\n",
       "        text-align: right;\n",
       "    }\n",
       "</style>\n",
       "<table border=\"1\" class=\"dataframe\">\n",
       "  <thead>\n",
       "    <tr style=\"text-align: right;\">\n",
       "      <th></th>\n",
       "      <th>Unnamed: 0</th>\n",
       "      <th>journey_id</th>\n",
       "      <th>trip_id</th>\n",
       "      <th>journey_start_datetime</th>\n",
       "      <th>journey_start_date</th>\n",
       "      <th>journey_start_time</th>\n",
       "      <th>journey_start_lon</th>\n",
       "      <th>journey_start_lat</th>\n",
       "      <th>journey_start_insee</th>\n",
       "      <th>journey_start_department</th>\n",
       "      <th>...</th>\n",
       "      <th>journey_end_lon</th>\n",
       "      <th>journey_end_lat</th>\n",
       "      <th>journey_end_insee</th>\n",
       "      <th>journey_end_department</th>\n",
       "      <th>journey_end_towngroup</th>\n",
       "      <th>journey_distance</th>\n",
       "      <th>journey_duration</th>\n",
       "      <th>has_incentive</th>\n",
       "      <th>nb_passengers</th>\n",
       "      <th>year</th>\n",
       "    </tr>\n",
       "  </thead>\n",
       "  <tbody>\n",
       "    <tr>\n",
       "      <th>0</th>\n",
       "      <td>401044</td>\n",
       "      <td>7668840</td>\n",
       "      <td>fecae00f-6bfe-46a2-b59d-5571b1723740</td>\n",
       "      <td>2022-07-01T00:00:00+02:00</td>\n",
       "      <td>2022-07-01</td>\n",
       "      <td>00:00:00</td>\n",
       "      <td>2.784</td>\n",
       "      <td>48.866</td>\n",
       "      <td>77111</td>\n",
       "      <td>77.0</td>\n",
       "      <td>...</td>\n",
       "      <td>2.817</td>\n",
       "      <td>48.850</td>\n",
       "      <td>77018</td>\n",
       "      <td>77.0</td>\n",
       "      <td>CA Val d'Europe Agglomération</td>\n",
       "      <td>4993</td>\n",
       "      <td>11</td>\n",
       "      <td>OUI</td>\n",
       "      <td>4</td>\n",
       "      <td>2022</td>\n",
       "    </tr>\n",
       "    <tr>\n",
       "      <th>1</th>\n",
       "      <td>401045</td>\n",
       "      <td>7689879</td>\n",
       "      <td>f358cd4d-010e-4952-89be-b9b882b7c580</td>\n",
       "      <td>2022-07-01T00:00:00+02:00</td>\n",
       "      <td>2022-07-01</td>\n",
       "      <td>00:00:00</td>\n",
       "      <td>2.562</td>\n",
       "      <td>48.530</td>\n",
       "      <td>77040</td>\n",
       "      <td>77.0</td>\n",
       "      <td>...</td>\n",
       "      <td>2.612</td>\n",
       "      <td>48.565</td>\n",
       "      <td>77495</td>\n",
       "      <td>77.0</td>\n",
       "      <td>CA Grand Paris Sud Seine Essonne Sénart</td>\n",
       "      <td>8876</td>\n",
       "      <td>16</td>\n",
       "      <td>OUI</td>\n",
       "      <td>2</td>\n",
       "      <td>2022</td>\n",
       "    </tr>\n",
       "    <tr>\n",
       "      <th>2</th>\n",
       "      <td>401046</td>\n",
       "      <td>7689880</td>\n",
       "      <td>290e9d12-329f-4cc7-b78b-16d86eec506a</td>\n",
       "      <td>2022-07-01T00:00:00+02:00</td>\n",
       "      <td>2022-07-01</td>\n",
       "      <td>00:00:00</td>\n",
       "      <td>1.964</td>\n",
       "      <td>48.773</td>\n",
       "      <td>78208</td>\n",
       "      <td>78.0</td>\n",
       "      <td>...</td>\n",
       "      <td>2.450</td>\n",
       "      <td>48.843</td>\n",
       "      <td>75056</td>\n",
       "      <td>75.0</td>\n",
       "      <td>Métropole du Grand Paris</td>\n",
       "      <td>43666</td>\n",
       "      <td>63</td>\n",
       "      <td>OUI</td>\n",
       "      <td>3</td>\n",
       "      <td>2022</td>\n",
       "    </tr>\n",
       "    <tr>\n",
       "      <th>3</th>\n",
       "      <td>401047</td>\n",
       "      <td>7689873</td>\n",
       "      <td>290e9d12-329f-4cc7-b78b-16d86eec506a</td>\n",
       "      <td>2022-07-01T00:00:00+02:00</td>\n",
       "      <td>2022-07-01</td>\n",
       "      <td>00:00:00</td>\n",
       "      <td>1.964</td>\n",
       "      <td>48.773</td>\n",
       "      <td>78208</td>\n",
       "      <td>78.0</td>\n",
       "      <td>...</td>\n",
       "      <td>2.450</td>\n",
       "      <td>48.843</td>\n",
       "      <td>75056</td>\n",
       "      <td>75.0</td>\n",
       "      <td>Métropole du Grand Paris</td>\n",
       "      <td>43666</td>\n",
       "      <td>63</td>\n",
       "      <td>OUI</td>\n",
       "      <td>3</td>\n",
       "      <td>2022</td>\n",
       "    </tr>\n",
       "    <tr>\n",
       "      <th>4</th>\n",
       "      <td>401048</td>\n",
       "      <td>7689877</td>\n",
       "      <td>428275c2-237a-4344-9f93-97eeced40c49</td>\n",
       "      <td>2022-07-01T00:00:00+02:00</td>\n",
       "      <td>2022-07-01</td>\n",
       "      <td>00:00:00</td>\n",
       "      <td>2.325</td>\n",
       "      <td>48.805</td>\n",
       "      <td>92007</td>\n",
       "      <td>92.0</td>\n",
       "      <td>...</td>\n",
       "      <td>2.107</td>\n",
       "      <td>48.703</td>\n",
       "      <td>91272</td>\n",
       "      <td>91.0</td>\n",
       "      <td>CA Communauté Paris-Saclay</td>\n",
       "      <td>23144</td>\n",
       "      <td>41</td>\n",
       "      <td>OUI</td>\n",
       "      <td>2</td>\n",
       "      <td>2022</td>\n",
       "    </tr>\n",
       "  </tbody>\n",
       "</table>\n",
       "<p>5 rows × 24 columns</p>\n",
       "</div>"
      ],
      "text/plain": [
       "   Unnamed: 0  journey_id                               trip_id  \\\n",
       "0      401044     7668840  fecae00f-6bfe-46a2-b59d-5571b1723740   \n",
       "1      401045     7689879  f358cd4d-010e-4952-89be-b9b882b7c580   \n",
       "2      401046     7689880  290e9d12-329f-4cc7-b78b-16d86eec506a   \n",
       "3      401047     7689873  290e9d12-329f-4cc7-b78b-16d86eec506a   \n",
       "4      401048     7689877  428275c2-237a-4344-9f93-97eeced40c49   \n",
       "\n",
       "      journey_start_datetime journey_start_date journey_start_time  \\\n",
       "0  2022-07-01T00:00:00+02:00         2022-07-01           00:00:00   \n",
       "1  2022-07-01T00:00:00+02:00         2022-07-01           00:00:00   \n",
       "2  2022-07-01T00:00:00+02:00         2022-07-01           00:00:00   \n",
       "3  2022-07-01T00:00:00+02:00         2022-07-01           00:00:00   \n",
       "4  2022-07-01T00:00:00+02:00         2022-07-01           00:00:00   \n",
       "\n",
       "   journey_start_lon  journey_start_lat journey_start_insee  \\\n",
       "0              2.784             48.866               77111   \n",
       "1              2.562             48.530               77040   \n",
       "2              1.964             48.773               78208   \n",
       "3              1.964             48.773               78208   \n",
       "4              2.325             48.805               92007   \n",
       "\n",
       "  journey_start_department  ... journey_end_lon journey_end_lat  \\\n",
       "0                     77.0  ...           2.817          48.850   \n",
       "1                     77.0  ...           2.612          48.565   \n",
       "2                     78.0  ...           2.450          48.843   \n",
       "3                     78.0  ...           2.450          48.843   \n",
       "4                     92.0  ...           2.107          48.703   \n",
       "\n",
       "  journey_end_insee journey_end_department  \\\n",
       "0             77018                   77.0   \n",
       "1             77495                   77.0   \n",
       "2             75056                   75.0   \n",
       "3             75056                   75.0   \n",
       "4             91272                   91.0   \n",
       "\n",
       "                     journey_end_towngroup  journey_distance journey_duration  \\\n",
       "0            CA Val d'Europe Agglomération              4993               11   \n",
       "1  CA Grand Paris Sud Seine Essonne Sénart              8876               16   \n",
       "2                 Métropole du Grand Paris             43666               63   \n",
       "3                 Métropole du Grand Paris             43666               63   \n",
       "4               CA Communauté Paris-Saclay             23144               41   \n",
       "\n",
       "  has_incentive nb_passengers  year  \n",
       "0           OUI             4  2022  \n",
       "1           OUI             2  2022  \n",
       "2           OUI             3  2022  \n",
       "3           OUI             3  2022  \n",
       "4           OUI             2  2022  \n",
       "\n",
       "[5 rows x 24 columns]"
      ]
     },
     "execution_count": 4,
     "metadata": {},
     "output_type": "execute_result"
    }
   ],
   "source": [
    "df_2022.head()"
   ]
  },
  {
   "cell_type": "code",
   "execution_count": 59,
   "id": "b6d2e6b5",
   "metadata": {},
   "outputs": [],
   "source": [
    "df_2022_IDF=df_2022[df_2022[\"journey_start_department\"].isin([\"75\",\"75.0\",\"77\",\"77.0\",\"78\",\"78.0\",\"92\",\"92.0\",\"93\",\"93.0\",\"94\",\"94.0\",\"95\",\"95.0\"])]"
   ]
  },
  {
   "cell_type": "code",
   "execution_count": 60,
   "id": "02995826",
   "metadata": {},
   "outputs": [
    {
     "data": {
      "text/plain": [
       "(107651, 24)"
      ]
     },
     "execution_count": 60,
     "metadata": {},
     "output_type": "execute_result"
    }
   ],
   "source": [
    "df_2022_IDF.shape"
   ]
  },
  {
   "cell_type": "code",
   "execution_count": 61,
   "id": "881140ec",
   "metadata": {},
   "outputs": [],
   "source": [
    "#it seems to be a good number of rows for modeling"
   ]
  },
  {
   "cell_type": "code",
   "execution_count": 62,
   "id": "9bec89af",
   "metadata": {},
   "outputs": [
    {
     "data": {
      "text/plain": [
       "Index(['Unnamed: 0', 'journey_id', 'trip_id', 'journey_start_datetime',\n",
       "       'journey_start_date', 'journey_start_time', 'journey_start_lon',\n",
       "       'journey_start_lat', 'journey_start_insee', 'journey_start_department',\n",
       "       'journey_start_towngroup', 'journey_end_datetime', 'journey_end_date',\n",
       "       'journey_end_time', 'journey_end_lon', 'journey_end_lat',\n",
       "       'journey_end_insee', 'journey_end_department', 'journey_end_towngroup',\n",
       "       'journey_distance', 'journey_duration', 'has_incentive',\n",
       "       'nb_passengers', 'year'],\n",
       "      dtype='object')"
      ]
     },
     "execution_count": 62,
     "metadata": {},
     "output_type": "execute_result"
    }
   ],
   "source": [
    "df_2022_IDF.columns"
   ]
  },
  {
   "cell_type": "code",
   "execution_count": 63,
   "id": "f48fa6a0",
   "metadata": {},
   "outputs": [],
   "source": [
    "df_2022_IDF.drop([\"Unnamed: 0\",\"journey_distance\",\"journey_duration\",\"has_incentive\",\"nb_passengers\",\"year\"],axis=1,inplace=True)"
   ]
  },
  {
   "cell_type": "code",
   "execution_count": 64,
   "id": "d8056c95",
   "metadata": {},
   "outputs": [
    {
     "data": {
      "text/plain": [
       "(107651, 18)"
      ]
     },
     "execution_count": 64,
     "metadata": {},
     "output_type": "execute_result"
    }
   ],
   "source": [
    "df_2022_IDF.shape"
   ]
  },
  {
   "cell_type": "code",
   "execution_count": 65,
   "id": "3877f467",
   "metadata": {},
   "outputs": [
    {
     "data": {
      "text/plain": [
       "Index(['journey_id', 'trip_id', 'journey_start_datetime', 'journey_start_date',\n",
       "       'journey_start_time', 'journey_start_lon', 'journey_start_lat',\n",
       "       'journey_start_insee', 'journey_start_department',\n",
       "       'journey_start_towngroup', 'journey_end_datetime', 'journey_end_date',\n",
       "       'journey_end_time', 'journey_end_lon', 'journey_end_lat',\n",
       "       'journey_end_insee', 'journey_end_department', 'journey_end_towngroup'],\n",
       "      dtype='object')"
      ]
     },
     "execution_count": 65,
     "metadata": {},
     "output_type": "execute_result"
    }
   ],
   "source": [
    "df_2022_IDF.columns"
   ]
  },
  {
   "cell_type": "code",
   "execution_count": 66,
   "id": "5f1f0f09",
   "metadata": {},
   "outputs": [],
   "source": [
    "#Now I am keeping the journey_end_towngroup to get the destination"
   ]
  },
  {
   "cell_type": "code",
   "execution_count": 67,
   "id": "8c953659",
   "metadata": {},
   "outputs": [],
   "source": [
    "df_2022_IDF.drop([\"trip_id\",\"journey_start_datetime\",\"journey_start_date\",\"journey_start_insee\",\"journey_start_department\",\"journey_start_towngroup\",\"journey_end_datetime\",\"journey_end_date\",\"journey_end_time\",\"journey_end_insee\",\"journey_end_department\"],axis=1,inplace=True)"
   ]
  },
  {
   "cell_type": "code",
   "execution_count": 68,
   "id": "d5a66ed4",
   "metadata": {},
   "outputs": [
    {
     "data": {
      "text/html": [
       "<div>\n",
       "<style scoped>\n",
       "    .dataframe tbody tr th:only-of-type {\n",
       "        vertical-align: middle;\n",
       "    }\n",
       "\n",
       "    .dataframe tbody tr th {\n",
       "        vertical-align: top;\n",
       "    }\n",
       "\n",
       "    .dataframe thead th {\n",
       "        text-align: right;\n",
       "    }\n",
       "</style>\n",
       "<table border=\"1\" class=\"dataframe\">\n",
       "  <thead>\n",
       "    <tr style=\"text-align: right;\">\n",
       "      <th></th>\n",
       "      <th>journey_id</th>\n",
       "      <th>journey_start_time</th>\n",
       "      <th>journey_start_lon</th>\n",
       "      <th>journey_start_lat</th>\n",
       "      <th>journey_end_lon</th>\n",
       "      <th>journey_end_lat</th>\n",
       "      <th>journey_end_towngroup</th>\n",
       "    </tr>\n",
       "  </thead>\n",
       "  <tbody>\n",
       "    <tr>\n",
       "      <th>32768</th>\n",
       "      <td>7745334</td>\n",
       "      <td>14:30:00</td>\n",
       "      <td>2.403</td>\n",
       "      <td>48.771</td>\n",
       "      <td>2.206</td>\n",
       "      <td>48.688</td>\n",
       "      <td>CA Communauté Paris-Saclay</td>\n",
       "    </tr>\n",
       "    <tr>\n",
       "      <th>32769</th>\n",
       "      <td>7745475</td>\n",
       "      <td>14:30:00</td>\n",
       "      <td>2.565</td>\n",
       "      <td>48.945</td>\n",
       "      <td>2.525</td>\n",
       "      <td>48.975</td>\n",
       "      <td>Métropole du Grand Paris</td>\n",
       "    </tr>\n",
       "    <tr>\n",
       "      <th>32770</th>\n",
       "      <td>7721587</td>\n",
       "      <td>14:30:00</td>\n",
       "      <td>2.456</td>\n",
       "      <td>48.816</td>\n",
       "      <td>2.479</td>\n",
       "      <td>48.806</td>\n",
       "      <td>Métropole du Grand Paris</td>\n",
       "    </tr>\n",
       "    <tr>\n",
       "      <th>32772</th>\n",
       "      <td>7721613</td>\n",
       "      <td>14:30:00</td>\n",
       "      <td>2.437</td>\n",
       "      <td>48.944</td>\n",
       "      <td>2.477</td>\n",
       "      <td>48.905</td>\n",
       "      <td>Métropole du Grand Paris</td>\n",
       "    </tr>\n",
       "    <tr>\n",
       "      <th>32773</th>\n",
       "      <td>7721564</td>\n",
       "      <td>14:30:00</td>\n",
       "      <td>2.771</td>\n",
       "      <td>48.857</td>\n",
       "      <td>2.797</td>\n",
       "      <td>48.871</td>\n",
       "      <td>CA Val d'Europe Agglomération</td>\n",
       "    </tr>\n",
       "  </tbody>\n",
       "</table>\n",
       "</div>"
      ],
      "text/plain": [
       "       journey_id journey_start_time  journey_start_lon  journey_start_lat  \\\n",
       "32768     7745334           14:30:00              2.403             48.771   \n",
       "32769     7745475           14:30:00              2.565             48.945   \n",
       "32770     7721587           14:30:00              2.456             48.816   \n",
       "32772     7721613           14:30:00              2.437             48.944   \n",
       "32773     7721564           14:30:00              2.771             48.857   \n",
       "\n",
       "       journey_end_lon  journey_end_lat          journey_end_towngroup  \n",
       "32768            2.206           48.688     CA Communauté Paris-Saclay  \n",
       "32769            2.525           48.975       Métropole du Grand Paris  \n",
       "32770            2.479           48.806       Métropole du Grand Paris  \n",
       "32772            2.477           48.905       Métropole du Grand Paris  \n",
       "32773            2.797           48.871  CA Val d'Europe Agglomération  "
      ]
     },
     "execution_count": 68,
     "metadata": {},
     "output_type": "execute_result"
    }
   ],
   "source": [
    "df_2022_IDF.head()"
   ]
  },
  {
   "cell_type": "code",
   "execution_count": 69,
   "id": "e409c523",
   "metadata": {},
   "outputs": [],
   "source": [
    "df_2022_IDF.drop([\"journey_end_lon\",\"journey_end_lat\"],axis=1,inplace=True)"
   ]
  },
  {
   "cell_type": "code",
   "execution_count": 70,
   "id": "827f63c4",
   "metadata": {},
   "outputs": [],
   "source": [
    "df_2022_IDF.set_index(\"journey_id\",inplace=True)"
   ]
  },
  {
   "cell_type": "code",
   "execution_count": 71,
   "id": "0b693435",
   "metadata": {},
   "outputs": [
    {
     "data": {
      "text/html": [
       "<div>\n",
       "<style scoped>\n",
       "    .dataframe tbody tr th:only-of-type {\n",
       "        vertical-align: middle;\n",
       "    }\n",
       "\n",
       "    .dataframe tbody tr th {\n",
       "        vertical-align: top;\n",
       "    }\n",
       "\n",
       "    .dataframe thead th {\n",
       "        text-align: right;\n",
       "    }\n",
       "</style>\n",
       "<table border=\"1\" class=\"dataframe\">\n",
       "  <thead>\n",
       "    <tr style=\"text-align: right;\">\n",
       "      <th></th>\n",
       "      <th>journey_start_time</th>\n",
       "      <th>journey_start_lon</th>\n",
       "      <th>journey_start_lat</th>\n",
       "      <th>journey_end_towngroup</th>\n",
       "    </tr>\n",
       "    <tr>\n",
       "      <th>journey_id</th>\n",
       "      <th></th>\n",
       "      <th></th>\n",
       "      <th></th>\n",
       "      <th></th>\n",
       "    </tr>\n",
       "  </thead>\n",
       "  <tbody>\n",
       "    <tr>\n",
       "      <th>7745334</th>\n",
       "      <td>14:30:00</td>\n",
       "      <td>2.403</td>\n",
       "      <td>48.771</td>\n",
       "      <td>CA Communauté Paris-Saclay</td>\n",
       "    </tr>\n",
       "    <tr>\n",
       "      <th>7745475</th>\n",
       "      <td>14:30:00</td>\n",
       "      <td>2.565</td>\n",
       "      <td>48.945</td>\n",
       "      <td>Métropole du Grand Paris</td>\n",
       "    </tr>\n",
       "    <tr>\n",
       "      <th>7721587</th>\n",
       "      <td>14:30:00</td>\n",
       "      <td>2.456</td>\n",
       "      <td>48.816</td>\n",
       "      <td>Métropole du Grand Paris</td>\n",
       "    </tr>\n",
       "    <tr>\n",
       "      <th>7721613</th>\n",
       "      <td>14:30:00</td>\n",
       "      <td>2.437</td>\n",
       "      <td>48.944</td>\n",
       "      <td>Métropole du Grand Paris</td>\n",
       "    </tr>\n",
       "    <tr>\n",
       "      <th>7721564</th>\n",
       "      <td>14:30:00</td>\n",
       "      <td>2.771</td>\n",
       "      <td>48.857</td>\n",
       "      <td>CA Val d'Europe Agglomération</td>\n",
       "    </tr>\n",
       "  </tbody>\n",
       "</table>\n",
       "</div>"
      ],
      "text/plain": [
       "           journey_start_time  journey_start_lon  journey_start_lat  \\\n",
       "journey_id                                                            \n",
       "7745334              14:30:00              2.403             48.771   \n",
       "7745475              14:30:00              2.565             48.945   \n",
       "7721587              14:30:00              2.456             48.816   \n",
       "7721613              14:30:00              2.437             48.944   \n",
       "7721564              14:30:00              2.771             48.857   \n",
       "\n",
       "                    journey_end_towngroup  \n",
       "journey_id                                 \n",
       "7745334        CA Communauté Paris-Saclay  \n",
       "7745475          Métropole du Grand Paris  \n",
       "7721587          Métropole du Grand Paris  \n",
       "7721613          Métropole du Grand Paris  \n",
       "7721564     CA Val d'Europe Agglomération  "
      ]
     },
     "execution_count": 71,
     "metadata": {},
     "output_type": "execute_result"
    }
   ],
   "source": [
    "df_2022_IDF.head()"
   ]
  },
  {
   "cell_type": "code",
   "execution_count": 72,
   "id": "ec28810d",
   "metadata": {},
   "outputs": [],
   "source": [
    "df_2022_IDF.to_csv(\"/Users/clemence/IRONHACK/Final_project_carpool/Final_project_carpooling/data_2nd_model.csv\")"
   ]
  },
  {
   "cell_type": "code",
   "execution_count": 73,
   "id": "fe0d9827",
   "metadata": {},
   "outputs": [
    {
     "data": {
      "text/html": [
       "<div>\n",
       "<style scoped>\n",
       "    .dataframe tbody tr th:only-of-type {\n",
       "        vertical-align: middle;\n",
       "    }\n",
       "\n",
       "    .dataframe tbody tr th {\n",
       "        vertical-align: top;\n",
       "    }\n",
       "\n",
       "    .dataframe thead th {\n",
       "        text-align: right;\n",
       "    }\n",
       "</style>\n",
       "<table border=\"1\" class=\"dataframe\">\n",
       "  <thead>\n",
       "    <tr style=\"text-align: right;\">\n",
       "      <th></th>\n",
       "      <th>journey_start_lon</th>\n",
       "      <th>journey_start_lat</th>\n",
       "    </tr>\n",
       "  </thead>\n",
       "  <tbody>\n",
       "    <tr>\n",
       "      <th>count</th>\n",
       "      <td>107651.000000</td>\n",
       "      <td>107651.000000</td>\n",
       "    </tr>\n",
       "    <tr>\n",
       "      <th>mean</th>\n",
       "      <td>2.359058</td>\n",
       "      <td>48.845382</td>\n",
       "    </tr>\n",
       "    <tr>\n",
       "      <th>std</th>\n",
       "      <td>0.253471</td>\n",
       "      <td>0.122624</td>\n",
       "    </tr>\n",
       "    <tr>\n",
       "      <th>min</th>\n",
       "      <td>1.450000</td>\n",
       "      <td>48.125000</td>\n",
       "    </tr>\n",
       "    <tr>\n",
       "      <th>25%</th>\n",
       "      <td>2.218000</td>\n",
       "      <td>48.787000</td>\n",
       "    </tr>\n",
       "    <tr>\n",
       "      <th>50%</th>\n",
       "      <td>2.361000</td>\n",
       "      <td>48.845000</td>\n",
       "    </tr>\n",
       "    <tr>\n",
       "      <th>75%</th>\n",
       "      <td>2.532000</td>\n",
       "      <td>48.927000</td>\n",
       "    </tr>\n",
       "    <tr>\n",
       "      <th>max</th>\n",
       "      <td>3.478000</td>\n",
       "      <td>49.204000</td>\n",
       "    </tr>\n",
       "  </tbody>\n",
       "</table>\n",
       "</div>"
      ],
      "text/plain": [
       "       journey_start_lon  journey_start_lat\n",
       "count      107651.000000      107651.000000\n",
       "mean            2.359058          48.845382\n",
       "std             0.253471           0.122624\n",
       "min             1.450000          48.125000\n",
       "25%             2.218000          48.787000\n",
       "50%             2.361000          48.845000\n",
       "75%             2.532000          48.927000\n",
       "max             3.478000          49.204000"
      ]
     },
     "execution_count": 73,
     "metadata": {},
     "output_type": "execute_result"
    }
   ],
   "source": [
    "df_2022_IDF.describe()"
   ]
  },
  {
   "cell_type": "code",
   "execution_count": 74,
   "id": "e3bc6c68",
   "metadata": {},
   "outputs": [],
   "source": [
    "#I keep the max and min in a dict for later\n",
    "importantValuesMax = df_2022_IDF.max().to_dict()\n",
    "importantValuesMin = df_2022_IDF.min().to_dict()"
   ]
  },
  {
   "cell_type": "code",
   "execution_count": 75,
   "id": "ebfe311d",
   "metadata": {},
   "outputs": [],
   "source": [
    "df_2022_IDF[\"journey_start_time\"] = pd.to_datetime(df_2022_IDF[\"journey_start_time\"])"
   ]
  },
  {
   "cell_type": "code",
   "execution_count": 76,
   "id": "34995a97",
   "metadata": {},
   "outputs": [],
   "source": [
    "from matplotlib import pyplot as plt"
   ]
  },
  {
   "cell_type": "code",
   "execution_count": 77,
   "id": "0bbe2978",
   "metadata": {},
   "outputs": [
    {
     "data": {
      "text/plain": [
       "<matplotlib.collections.PathCollection at 0x7fcaccec38e0>"
      ]
     },
     "execution_count": 77,
     "metadata": {},
     "output_type": "execute_result"
    },
    {
     "data": {
      "image/png": "[encoded data removed]",
      "text/plain": [
       "<Figure size 640x480 with 1 Axes>"
      ]
     },
     "metadata": {},
     "output_type": "display_data"
    }
   ],
   "source": [
    "plt.scatter(df_2022_IDF['journey_start_lon'],df_2022_IDF['journey_start_lat'])"
   ]
  },
  {
   "cell_type": "markdown",
   "id": "1f7fdb0c",
   "metadata": {},
   "source": [
    "## Clustering"
   ]
  },
  {
   "cell_type": "code",
   "execution_count": 78,
   "id": "5beb7984",
   "metadata": {},
   "outputs": [],
   "source": [
    "clusters_df = df_2022_IDF[['journey_start_lat', 'journey_start_lon']]"
   ]
  },
  {
   "cell_type": "code",
   "execution_count": 79,
   "id": "88fce56e",
   "metadata": {},
   "outputs": [],
   "source": [
    "from sklearn.cluster import KMeans \n",
    "from sklearn import metrics \n",
    "from scipy.spatial.distance import cdist "
   ]
  },
  {
   "cell_type": "code",
   "execution_count": 80,
   "id": "9c131636",
   "metadata": {},
   "outputs": [],
   "source": [
    "Y_axis = clusters_df[['journey_start_lat']]\n",
    "X_axis = clusters_df[['journey_start_lon']]"
   ]
  },
  {
   "cell_type": "code",
   "execution_count": 81,
   "id": "efedb89d",
   "metadata": {},
   "outputs": [],
   "source": [
    "import numpy as np\n",
    "#Building and fitting the model\n",
    "distortions = [] \n",
    "inertias = [] \n",
    "mapping1 = {} \n",
    "mapping2 = {} \n",
    "K = range(6,100) \n",
    "X = clusters_df.sample(n=10000)\n",
    "  \n",
    "for k in K:  \n",
    "    kmeanModel = KMeans(n_clusters=k)\n",
    "    kmeanModel.fit(X)     \n",
    "      \n",
    "    distortions.append(sum(np.min(cdist(X, kmeanModel.cluster_centers_, \n",
    "                      'euclidean'),axis=1)) / X.shape[0]) \n",
    "    inertias.append(kmeanModel.inertia_) \n",
    "  \n",
    "    mapping1[k] = sum(np.min(cdist(X, kmeanModel.cluster_centers_, \n",
    "                 'euclidean'),axis=1)) / X.shape[0] \n",
    "    mapping2[k] = kmeanModel.inertia_ "
   ]
  },
  {
   "cell_type": "code",
   "execution_count": 82,
   "id": "52709012",
   "metadata": {},
   "outputs": [
    {
     "data": {
      "image/png": "[encoded data removed]",
      "text/plain": [
       "<Figure size 640x480 with 1 Axes>"
      ]
     },
     "metadata": {},
     "output_type": "display_data"
    }
   ],
   "source": [
    "plt.plot(K, distortions, 'bx-') \n",
    "plt.xlabel('Values of K') \n",
    "plt.ylabel('Distortion') \n",
    "plt.title('The Elbow Method using Distortion') \n",
    "plt.show() "
   ]
  },
  {
   "cell_type": "code",
   "execution_count": 32,
   "id": "0e1591d2",
   "metadata": {},
   "outputs": [],
   "source": [
    "#We can choose 35 k"
   ]
  },
  {
   "cell_type": "code",
   "execution_count": 83,
   "id": "eb51f295",
   "metadata": {},
   "outputs": [],
   "source": [
    "X = clusters_df\n",
    "kmeans = KMeans(n_clusters=35)\n",
    "kmeans.fit(X)\n",
    "y_kmeans = kmeans.predict(X)"
   ]
  },
  {
   "cell_type": "code",
   "execution_count": 84,
   "id": "a428042c",
   "metadata": {},
   "outputs": [],
   "source": [
    "import seaborn as sns"
   ]
  },
  {
   "cell_type": "code",
   "execution_count": 85,
   "id": "42714b43",
   "metadata": {},
   "outputs": [
    {
     "data": {
      "text/plain": [
       "<matplotlib.collections.PathCollection at 0x7fcb1a4c1970>"
      ]
     },
     "execution_count": 85,
     "metadata": {},
     "output_type": "execute_result"
    },
    {
     "data": {
      "image/png": "[encoded data removed]",
      "text/plain": [
       "<Figure size 640x480 with 1 Axes>"
      ]
     },
     "metadata": {},
     "output_type": "display_data"
    }
   ],
   "source": [
    "plt.scatter(X['journey_start_lon'],X['journey_start_lat'], c=y_kmeans, s=50, cmap='viridis')\n"
   ]
  },
  {
   "cell_type": "code",
   "execution_count": 86,
   "id": "fbd9f14b",
   "metadata": {},
   "outputs": [],
   "source": [
    "#now we save the model\n",
    "import pickle"
   ]
  },
  {
   "cell_type": "code",
   "execution_count": 87,
   "id": "d27b4ea1",
   "metadata": {},
   "outputs": [],
   "source": [
    "pickle.dump(kmeans, open('kmeansIDF_2.pickle', 'wb'))"
   ]
  },
  {
   "cell_type": "code",
   "execution_count": 88,
   "id": "923cc428",
   "metadata": {},
   "outputs": [],
   "source": [
    "df_2022_IDF['cluster'] = y_kmeans"
   ]
  },
  {
   "cell_type": "code",
   "execution_count": 89,
   "id": "87109c3f",
   "metadata": {},
   "outputs": [
    {
     "data": {
      "text/html": [
       "<div>\n",
       "<style scoped>\n",
       "    .dataframe tbody tr th:only-of-type {\n",
       "        vertical-align: middle;\n",
       "    }\n",
       "\n",
       "    .dataframe tbody tr th {\n",
       "        vertical-align: top;\n",
       "    }\n",
       "\n",
       "    .dataframe thead th {\n",
       "        text-align: right;\n",
       "    }\n",
       "</style>\n",
       "<table border=\"1\" class=\"dataframe\">\n",
       "  <thead>\n",
       "    <tr style=\"text-align: right;\">\n",
       "      <th></th>\n",
       "      <th>journey_start_time</th>\n",
       "      <th>journey_start_lon</th>\n",
       "      <th>journey_start_lat</th>\n",
       "      <th>journey_end_towngroup</th>\n",
       "      <th>cluster</th>\n",
       "    </tr>\n",
       "    <tr>\n",
       "      <th>journey_id</th>\n",
       "      <th></th>\n",
       "      <th></th>\n",
       "      <th></th>\n",
       "      <th></th>\n",
       "      <th></th>\n",
       "    </tr>\n",
       "  </thead>\n",
       "  <tbody>\n",
       "    <tr>\n",
       "      <th>7745334</th>\n",
       "      <td>2023-03-15 14:30:00</td>\n",
       "      <td>2.403</td>\n",
       "      <td>48.771</td>\n",
       "      <td>CA Communauté Paris-Saclay</td>\n",
       "      <td>34</td>\n",
       "    </tr>\n",
       "    <tr>\n",
       "      <th>7745475</th>\n",
       "      <td>2023-03-15 14:30:00</td>\n",
       "      <td>2.565</td>\n",
       "      <td>48.945</td>\n",
       "      <td>Métropole du Grand Paris</td>\n",
       "      <td>33</td>\n",
       "    </tr>\n",
       "    <tr>\n",
       "      <th>7721587</th>\n",
       "      <td>2023-03-15 14:30:00</td>\n",
       "      <td>2.456</td>\n",
       "      <td>48.816</td>\n",
       "      <td>Métropole du Grand Paris</td>\n",
       "      <td>13</td>\n",
       "    </tr>\n",
       "    <tr>\n",
       "      <th>7721613</th>\n",
       "      <td>2023-03-15 14:30:00</td>\n",
       "      <td>2.437</td>\n",
       "      <td>48.944</td>\n",
       "      <td>Métropole du Grand Paris</td>\n",
       "      <td>12</td>\n",
       "    </tr>\n",
       "    <tr>\n",
       "      <th>7721564</th>\n",
       "      <td>2023-03-15 14:30:00</td>\n",
       "      <td>2.771</td>\n",
       "      <td>48.857</td>\n",
       "      <td>CA Val d'Europe Agglomération</td>\n",
       "      <td>7</td>\n",
       "    </tr>\n",
       "    <tr>\n",
       "      <th>...</th>\n",
       "      <td>...</td>\n",
       "      <td>...</td>\n",
       "      <td>...</td>\n",
       "      <td>...</td>\n",
       "      <td>...</td>\n",
       "    </tr>\n",
       "    <tr>\n",
       "      <th>9119737</th>\n",
       "      <td>2023-03-15 22:40:00</td>\n",
       "      <td>2.239</td>\n",
       "      <td>48.839</td>\n",
       "      <td>Métropole du Grand Paris</td>\n",
       "      <td>11</td>\n",
       "    </tr>\n",
       "    <tr>\n",
       "      <th>9182509</th>\n",
       "      <td>2023-03-15 22:40:00</td>\n",
       "      <td>2.454</td>\n",
       "      <td>48.819</td>\n",
       "      <td>CA Val d'Europe Agglomération</td>\n",
       "      <td>13</td>\n",
       "    </tr>\n",
       "    <tr>\n",
       "      <th>9095599</th>\n",
       "      <td>2023-03-15 22:40:00</td>\n",
       "      <td>2.233</td>\n",
       "      <td>48.979</td>\n",
       "      <td>Métropole du Grand Paris</td>\n",
       "      <td>1</td>\n",
       "    </tr>\n",
       "    <tr>\n",
       "      <th>9119750</th>\n",
       "      <td>2023-03-15 22:50:00</td>\n",
       "      <td>2.749</td>\n",
       "      <td>48.452</td>\n",
       "      <td>CA Grand Paris Sud Seine Essonne Sénart</td>\n",
       "      <td>19</td>\n",
       "    </tr>\n",
       "    <tr>\n",
       "      <th>9119754</th>\n",
       "      <td>2023-03-15 22:50:00</td>\n",
       "      <td>2.749</td>\n",
       "      <td>48.452</td>\n",
       "      <td>CA Grand Paris Sud Seine Essonne Sénart</td>\n",
       "      <td>19</td>\n",
       "    </tr>\n",
       "  </tbody>\n",
       "</table>\n",
       "<p>107651 rows × 5 columns</p>\n",
       "</div>"
      ],
      "text/plain": [
       "            journey_start_time  journey_start_lon  journey_start_lat  \\\n",
       "journey_id                                                             \n",
       "7745334    2023-03-15 14:30:00              2.403             48.771   \n",
       "7745475    2023-03-15 14:30:00              2.565             48.945   \n",
       "7721587    2023-03-15 14:30:00              2.456             48.816   \n",
       "7721613    2023-03-15 14:30:00              2.437             48.944   \n",
       "7721564    2023-03-15 14:30:00              2.771             48.857   \n",
       "...                        ...                ...                ...   \n",
       "9119737    2023-03-15 22:40:00              2.239             48.839   \n",
       "9182509    2023-03-15 22:40:00              2.454             48.819   \n",
       "9095599    2023-03-15 22:40:00              2.233             48.979   \n",
       "9119750    2023-03-15 22:50:00              2.749             48.452   \n",
       "9119754    2023-03-15 22:50:00              2.749             48.452   \n",
       "\n",
       "                              journey_end_towngroup  cluster  \n",
       "journey_id                                                    \n",
       "7745334                  CA Communauté Paris-Saclay       34  \n",
       "7745475                    Métropole du Grand Paris       33  \n",
       "7721587                    Métropole du Grand Paris       13  \n",
       "7721613                    Métropole du Grand Paris       12  \n",
       "7721564               CA Val d'Europe Agglomération        7  \n",
       "...                                             ...      ...  \n",
       "9119737                    Métropole du Grand Paris       11  \n",
       "9182509               CA Val d'Europe Agglomération       13  \n",
       "9095599                    Métropole du Grand Paris        1  \n",
       "9119750     CA Grand Paris Sud Seine Essonne Sénart       19  \n",
       "9119754     CA Grand Paris Sud Seine Essonne Sénart       19  \n",
       "\n",
       "[107651 rows x 5 columns]"
      ]
     },
     "execution_count": 89,
     "metadata": {},
     "output_type": "execute_result"
    }
   ],
   "source": [
    "df_2022_IDF"
   ]
  },
  {
   "cell_type": "code",
   "execution_count": 47,
   "id": "c2d6807b",
   "metadata": {},
   "outputs": [],
   "source": [
    "#df_2022_IDF[\"journey_start_time\"] = df_2022_IDF[\"journey_start_time\"].dt.time\n",
    "#df_2022_IDF.rename(columns={'journey_start_time':'time'}, inplace=True)"
   ]
  },
  {
   "cell_type": "code",
   "execution_count": 53,
   "id": "d1166cb9",
   "metadata": {},
   "outputs": [
    {
     "data": {
      "text/plain": [
       "<pandas.core.groupby.generic.DataFrameGroupBy object at 0x7fcb2a01e730>"
      ]
     },
     "execution_count": 53,
     "metadata": {},
     "output_type": "execute_result"
    }
   ],
   "source": [
    "groupbyA"
   ]
  },
  {
   "cell_type": "code",
   "execution_count": 91,
   "id": "b3b5aeba",
   "metadata": {},
   "outputs": [],
   "source": [
    "df_2022_IDF['journey_start_time'] = pd.to_datetime(df_2022_IDF['journey_start_time'])\n",
    "groupbyB = df_2022_IDF.groupby(['cluster', pd.Grouper(key='journey_start_time', freq='H')])['journey_end_towngroup'].agg(lambda x:x.value_counts().index[0]).reset_index()"
   ]
  },
  {
   "cell_type": "code",
   "execution_count": 92,
   "id": "b51ef700",
   "metadata": {},
   "outputs": [
    {
     "data": {
      "text/html": [
       "<div>\n",
       "<style scoped>\n",
       "    .dataframe tbody tr th:only-of-type {\n",
       "        vertical-align: middle;\n",
       "    }\n",
       "\n",
       "    .dataframe tbody tr th {\n",
       "        vertical-align: top;\n",
       "    }\n",
       "\n",
       "    .dataframe thead th {\n",
       "        text-align: right;\n",
       "    }\n",
       "</style>\n",
       "<table border=\"1\" class=\"dataframe\">\n",
       "  <thead>\n",
       "    <tr style=\"text-align: right;\">\n",
       "      <th></th>\n",
       "      <th>cluster</th>\n",
       "      <th>journey_start_time</th>\n",
       "      <th>journey_end_towngroup</th>\n",
       "    </tr>\n",
       "  </thead>\n",
       "  <tbody>\n",
       "    <tr>\n",
       "      <th>0</th>\n",
       "      <td>0</td>\n",
       "      <td>2023-03-15 00:00:00</td>\n",
       "      <td>Métropole du Grand Paris</td>\n",
       "    </tr>\n",
       "    <tr>\n",
       "      <th>1</th>\n",
       "      <td>0</td>\n",
       "      <td>2023-03-15 01:00:00</td>\n",
       "      <td>Métropole du Grand Paris</td>\n",
       "    </tr>\n",
       "    <tr>\n",
       "      <th>2</th>\n",
       "      <td>0</td>\n",
       "      <td>2023-03-15 02:00:00</td>\n",
       "      <td>Métropole du Grand Paris</td>\n",
       "    </tr>\n",
       "    <tr>\n",
       "      <th>3</th>\n",
       "      <td>0</td>\n",
       "      <td>2023-03-15 03:00:00</td>\n",
       "      <td>Métropole du Grand Paris</td>\n",
       "    </tr>\n",
       "    <tr>\n",
       "      <th>4</th>\n",
       "      <td>0</td>\n",
       "      <td>2023-03-15 04:00:00</td>\n",
       "      <td>CC Les Portes Briardes entre Villes et Forêts</td>\n",
       "    </tr>\n",
       "    <tr>\n",
       "      <th>...</th>\n",
       "      <td>...</td>\n",
       "      <td>...</td>\n",
       "      <td>...</td>\n",
       "    </tr>\n",
       "    <tr>\n",
       "      <th>818</th>\n",
       "      <td>34</td>\n",
       "      <td>2023-03-15 19:00:00</td>\n",
       "      <td>Métropole du Grand Paris</td>\n",
       "    </tr>\n",
       "    <tr>\n",
       "      <th>819</th>\n",
       "      <td>34</td>\n",
       "      <td>2023-03-15 20:00:00</td>\n",
       "      <td>Métropole du Grand Paris</td>\n",
       "    </tr>\n",
       "    <tr>\n",
       "      <th>820</th>\n",
       "      <td>34</td>\n",
       "      <td>2023-03-15 21:00:00</td>\n",
       "      <td>Métropole du Grand Paris</td>\n",
       "    </tr>\n",
       "    <tr>\n",
       "      <th>821</th>\n",
       "      <td>34</td>\n",
       "      <td>2023-03-15 22:00:00</td>\n",
       "      <td>Métropole du Grand Paris</td>\n",
       "    </tr>\n",
       "    <tr>\n",
       "      <th>822</th>\n",
       "      <td>34</td>\n",
       "      <td>2023-03-15 23:00:00</td>\n",
       "      <td>Métropole du Grand Paris</td>\n",
       "    </tr>\n",
       "  </tbody>\n",
       "</table>\n",
       "<p>823 rows × 3 columns</p>\n",
       "</div>"
      ],
      "text/plain": [
       "     cluster  journey_start_time  \\\n",
       "0          0 2023-03-15 00:00:00   \n",
       "1          0 2023-03-15 01:00:00   \n",
       "2          0 2023-03-15 02:00:00   \n",
       "3          0 2023-03-15 03:00:00   \n",
       "4          0 2023-03-15 04:00:00   \n",
       "..       ...                 ...   \n",
       "818       34 2023-03-15 19:00:00   \n",
       "819       34 2023-03-15 20:00:00   \n",
       "820       34 2023-03-15 21:00:00   \n",
       "821       34 2023-03-15 22:00:00   \n",
       "822       34 2023-03-15 23:00:00   \n",
       "\n",
       "                             journey_end_towngroup  \n",
       "0                         Métropole du Grand Paris  \n",
       "1                         Métropole du Grand Paris  \n",
       "2                         Métropole du Grand Paris  \n",
       "3                         Métropole du Grand Paris  \n",
       "4    CC Les Portes Briardes entre Villes et Forêts  \n",
       "..                                             ...  \n",
       "818                       Métropole du Grand Paris  \n",
       "819                       Métropole du Grand Paris  \n",
       "820                       Métropole du Grand Paris  \n",
       "821                       Métropole du Grand Paris  \n",
       "822                       Métropole du Grand Paris  \n",
       "\n",
       "[823 rows x 3 columns]"
      ]
     },
     "execution_count": 92,
     "metadata": {},
     "output_type": "execute_result"
    }
   ],
   "source": [
    "groupbyB"
   ]
  },
  {
   "cell_type": "code",
   "execution_count": 93,
   "id": "5da17a09",
   "metadata": {},
   "outputs": [
    {
     "data": {
      "text/plain": [
       "journey_end_towngroup\n",
       "Métropole du Grand Paris                         23\n",
       "CC Les Portes Briardes entre Villes et Forêts     1\n",
       "dtype: int64"
      ]
     },
     "execution_count": 93,
     "metadata": {},
     "output_type": "execute_result"
    }
   ],
   "source": [
    "groupbyB[groupbyB[\"cluster\"]==0].value_counts(\"journey_end_towngroup\")"
   ]
  },
  {
   "cell_type": "code",
   "execution_count": 105,
   "id": "daaeeb79",
   "metadata": {},
   "outputs": [],
   "source": [
    "list=list(groupbyB[\"cluster\"].unique())"
   ]
  },
  {
   "cell_type": "code",
   "execution_count": 108,
   "id": "59793348",
   "metadata": {},
   "outputs": [
    {
     "name": "stdout",
     "output_type": "stream",
     "text": [
      "journey_end_towngroup\n",
      "Métropole du Grand Paris                         23\n",
      "CC Les Portes Briardes entre Villes et Forêts     1\n",
      "dtype: int64\n",
      "journey_end_towngroup\n",
      "Métropole du Grand Paris    23\n",
      "CA Val Parisis               1\n",
      "dtype: int64\n",
      "journey_end_towngroup\n",
      "CA de Saint-Quentin-en-Yvelines          16\n",
      "Métropole du Grand Paris                  6\n",
      "CA Versailles Grand Parc (C.A.V.G.P.)     2\n",
      "dtype: int64\n",
      "journey_end_towngroup\n",
      "CC Pays de Montereau                       7\n",
      "CA Melun Val de Seine                      3\n",
      "CC Moret Seine et Loing                    3\n",
      "CA Grand Paris Sud Seine Essonne Sénart    2\n",
      "CA du Pays de Fontainebleau                2\n",
      "CA Communauté Paris-Saclay                 1\n",
      "CA Paris - Vallée de la Marne              1\n",
      "CC Pays de Nemours                         1\n",
      "Métropole du Grand Paris                   1\n",
      "dtype: int64\n",
      "journey_end_towngroup\n",
      "Métropole du Grand Paris    24\n",
      "dtype: int64\n",
      "journey_end_towngroup\n",
      "CA Grand Paris Sud Seine Essonne Sénart    11\n",
      "CA Melun Val de Seine                       5\n",
      "Métropole du Grand Paris                    3\n",
      "CA Cœur d'Essonne Agglomération             2\n",
      "CC Pays de Montereau                        2\n",
      "CC l'Orée de la Brie                        1\n",
      "dtype: int64\n",
      "journey_end_towngroup\n",
      "CA Versailles Grand Parc (C.A.V.G.P.)    9\n",
      "Métropole du Grand Paris                 9\n",
      "CA de Saint-Quentin-en-Yvelines          5\n",
      "CC Cœur d'Yvelines                       1\n",
      "dtype: int64\n",
      "journey_end_towngroup\n",
      "CA Val d'Europe Agglomération    17\n",
      "CA Marne et Gondoire              3\n",
      "CA Paris - Vallée de la Marne     2\n",
      "Métropole du Grand Paris          2\n",
      "dtype: int64\n",
      "journey_end_towngroup\n",
      "Métropole du Grand Paris             19\n",
      "CA Roissy Pays de France              3\n",
      "CA Saint-Germain Boucles de Seine     1\n",
      "CA de Cergy-Pontoise                  1\n",
      "dtype: int64\n",
      "journey_end_towngroup\n",
      "CA de Cergy-Pontoise            17\n",
      "Métropole du Grand Paris         6\n",
      "CU Grand Paris Seine et Oise     1\n",
      "dtype: int64\n",
      "journey_end_towngroup\n",
      "CU Grand Paris Seine et Oise       18\n",
      "Métropole du Grand Paris            3\n",
      "CA de Saint-Quentin-en-Yvelines     2\n",
      "Métropole Rouen Normandie           1\n",
      "dtype: int64\n",
      "journey_end_towngroup\n",
      "Métropole du Grand Paris                 23\n",
      "CA Versailles Grand Parc (C.A.V.G.P.)     1\n",
      "dtype: int64\n",
      "journey_end_towngroup\n",
      "Métropole du Grand Paris    22\n",
      "CA Roissy Pays de France     2\n",
      "dtype: int64\n",
      "journey_end_towngroup\n",
      "Métropole du Grand Paris           23\n",
      "CA Cœur d'Essonne Agglomération     1\n",
      "dtype: int64\n",
      "journey_end_towngroup\n",
      "CC du Provinois                                  9\n",
      "CA Coulommiers Pays de Brie                      3\n",
      "CA Marne et Gondoire                             3\n",
      "Métropole du Grand Paris                         2\n",
      "CA Val d'Europe Agglomération                    1\n",
      "CA Versailles Grand Parc (C.A.V.G.P.)            1\n",
      "CC Les Portes Briardes entre Villes et Forêts    1\n",
      "dtype: int64\n",
      "journey_end_towngroup\n",
      "CU Grand Paris Seine et Oise         13\n",
      "Métropole du Grand Paris              9\n",
      "CA Saint Germain Boucles de Seine     1\n",
      "CA Saint-Germain Boucles de Seine     1\n",
      "dtype: int64\n",
      "journey_end_towngroup\n",
      "Métropole du Grand Paris           22\n",
      "CA de Saint-Quentin-en-Yvelines     1\n",
      "Métropole Rouen Normandie           1\n",
      "dtype: int64\n",
      "journey_end_towngroup\n",
      "CA du Pays de Meaux              14\n",
      "CA Roissy Pays de France          3\n",
      "CA Marne et Gondoire              2\n",
      "CA Val d'Europe Agglomération     2\n",
      "Métropole du Grand Paris          2\n",
      "CA Paris - Vallée de la Marne     1\n",
      "dtype: int64\n",
      "journey_end_towngroup\n",
      "Métropole du Grand Paris      18\n",
      "CA du Pays de Meaux            3\n",
      "CA Communauté Paris-Saclay     1\n",
      "CA Melun Val de Seine          1\n",
      "dtype: int64\n",
      "journey_end_towngroup\n",
      "CA Grand Paris Sud Seine Essonne Sénart    8\n",
      "CA du Pays de Fontainebleau                6\n",
      "CA Melun Val de Seine                      3\n",
      "CC Moret Seine et Loing                    2\n",
      "CC Brie des Rivières et Châteaux           1\n",
      "CC Pays de Montereau                       1\n",
      "Métropole du Grand Paris                   1\n",
      "dtype: int64\n",
      "journey_end_towngroup\n",
      "CU Grand Paris Seine et Oise             12\n",
      "Métropole du Grand Paris                  8\n",
      "CA Saint Germain Boucles de Seine         1\n",
      "CA Val Parisis                            1\n",
      "CA Versailles Grand Parc (C.A.V.G.P.)     1\n",
      "CA de Saint-Quentin-en-Yvelines           1\n",
      "dtype: int64\n",
      "journey_end_towngroup\n",
      "CA Grand Paris Sud Seine Essonne Sénart    17\n",
      "Métropole du Grand Paris                    4\n",
      "CA Cœur d'Essonne Agglomération             1\n",
      "CA Melun Val de Seine                       1\n",
      "CC Brie des Rivières et Châteaux            1\n",
      "dtype: int64\n",
      "journey_end_towngroup\n",
      "CA de Saint-Quentin-en-Yvelines          12\n",
      "Métropole du Grand Paris                 10\n",
      "CA Communauté Paris-Saclay                1\n",
      "CA Versailles Grand Parc (C.A.V.G.P.)     1\n",
      "dtype: int64\n",
      "journey_end_towngroup\n",
      "CA Rambouillet Territoires         17\n",
      "Métropole du Grand Paris            4\n",
      "CA de Saint-Quentin-en-Yvelines     2\n",
      "CA de Cergy-Pontoise                1\n",
      "dtype: int64\n",
      "journey_end_towngroup\n",
      "Métropole du Grand Paris    24\n",
      "dtype: int64\n",
      "journey_end_towngroup\n",
      "Métropole du Grand Paris    19\n",
      "CA Roissy Pays de France     5\n",
      "dtype: int64\n",
      "journey_end_towngroup\n",
      "Métropole du Grand Paris            12\n",
      "CA Val Parisis                       4\n",
      "CC du Haut Val d'Oise                3\n",
      "CA Roissy Pays de France             1\n",
      "CA Seine Normandie Agglomération     1\n",
      "CA de Cergy-Pontoise                 1\n",
      "CC Thelloise                         1\n",
      "dtype: int64\n",
      "journey_end_towngroup\n",
      "CA Paris - Vallée de la Marne              7\n",
      "CC Val Briard                              3\n",
      "Métropole du Grand Paris                   3\n",
      "CA Grand Paris Sud Seine Essonne Sénart    2\n",
      "CA Val d'Europe Agglomération              2\n",
      "CC Brie Nangissienne                       2\n",
      "CC du Provinois                            2\n",
      "CA Melun Val de Seine                      1\n",
      "CC Pays de Montereau                       1\n",
      "dtype: int64\n",
      "journey_end_towngroup\n",
      "Métropole du Grand Paris    22\n",
      "CA Marne et Gondoire         2\n",
      "dtype: int64\n",
      "journey_end_towngroup\n",
      "CA Coulommiers Pays de Brie                10\n",
      "CA Marne et Gondoire                        3\n",
      "CA Val d'Europe Agglomération               3\n",
      "Métropole du Grand Paris                    3\n",
      "CA Grand Paris Sud Seine Essonne Sénart     1\n",
      "CA Paris - Vallée de la Marne               1\n",
      "CC des Deux Morin                           1\n",
      "CC du Pays de l'Ourcq                       1\n",
      "dtype: int64\n",
      "journey_end_towngroup\n",
      "Métropole du Grand Paris                   16\n",
      "CA Grand Paris Sud Seine Essonne Sénart     5\n",
      "CA Marne et Gondoire                        1\n",
      "CC l'Orée de la Brie                        1\n",
      "dtype: int64\n",
      "journey_end_towngroup\n",
      "Métropole du Grand Paris    17\n",
      "CA Roissy Pays de France     3\n",
      "CC du Pays de l'Ourcq        1\n",
      "dtype: int64\n",
      "journey_end_towngroup\n",
      "Métropole du Grand Paris             22\n",
      "CA Roissy Pays de France              1\n",
      "CA Saint-Germain Boucles de Seine     1\n",
      "dtype: int64\n",
      "journey_end_towngroup\n",
      "Métropole du Grand Paris    23\n",
      "CA Roissy Pays de France     1\n",
      "dtype: int64\n",
      "journey_end_towngroup\n",
      "Métropole du Grand Paris      23\n",
      "CA Communauté Paris-Saclay     1\n",
      "dtype: int64\n"
     ]
    }
   ],
   "source": [
    "for x in list: \n",
    "    print(groupbyB[groupbyB[\"cluster\"]==x].value_counts(\"journey_end_towngroup\"))"
   ]
  },
  {
   "cell_type": "code",
   "execution_count": 109,
   "id": "2126bb3e",
   "metadata": {},
   "outputs": [],
   "source": [
    "#18 clusters sur 35 ont MGP comme main destination. That makes sense in view of the flows between Paris and the suburbs"
   ]
  },
  {
   "cell_type": "markdown",
   "id": "de19456d",
   "metadata": {},
   "source": [
    "## Construction of the model"
   ]
  },
  {
   "cell_type": "markdown",
   "id": "77b3c98c",
   "metadata": {},
   "source": [
    "## Decision Tree"
   ]
  },
  {
   "cell_type": "code",
   "execution_count": 111,
   "id": "f5b89064",
   "metadata": {},
   "outputs": [
    {
     "data": {
      "text/html": [
       "<div>\n",
       "<style scoped>\n",
       "    .dataframe tbody tr th:only-of-type {\n",
       "        vertical-align: middle;\n",
       "    }\n",
       "\n",
       "    .dataframe tbody tr th {\n",
       "        vertical-align: top;\n",
       "    }\n",
       "\n",
       "    .dataframe thead th {\n",
       "        text-align: right;\n",
       "    }\n",
       "</style>\n",
       "<table border=\"1\" class=\"dataframe\">\n",
       "  <thead>\n",
       "    <tr style=\"text-align: right;\">\n",
       "      <th></th>\n",
       "      <th>cluster</th>\n",
       "      <th>journey_start_time</th>\n",
       "      <th>journey_end_towngroup</th>\n",
       "    </tr>\n",
       "  </thead>\n",
       "  <tbody>\n",
       "    <tr>\n",
       "      <th>0</th>\n",
       "      <td>0</td>\n",
       "      <td>2023-03-15 00:00:00</td>\n",
       "      <td>Métropole du Grand Paris</td>\n",
       "    </tr>\n",
       "    <tr>\n",
       "      <th>1</th>\n",
       "      <td>0</td>\n",
       "      <td>2023-03-15 01:00:00</td>\n",
       "      <td>Métropole du Grand Paris</td>\n",
       "    </tr>\n",
       "    <tr>\n",
       "      <th>2</th>\n",
       "      <td>0</td>\n",
       "      <td>2023-03-15 02:00:00</td>\n",
       "      <td>Métropole du Grand Paris</td>\n",
       "    </tr>\n",
       "    <tr>\n",
       "      <th>3</th>\n",
       "      <td>0</td>\n",
       "      <td>2023-03-15 03:00:00</td>\n",
       "      <td>Métropole du Grand Paris</td>\n",
       "    </tr>\n",
       "    <tr>\n",
       "      <th>4</th>\n",
       "      <td>0</td>\n",
       "      <td>2023-03-15 04:00:00</td>\n",
       "      <td>CC Les Portes Briardes entre Villes et Forêts</td>\n",
       "    </tr>\n",
       "  </tbody>\n",
       "</table>\n",
       "</div>"
      ],
      "text/plain": [
       "   cluster  journey_start_time                          journey_end_towngroup\n",
       "0        0 2023-03-15 00:00:00                       Métropole du Grand Paris\n",
       "1        0 2023-03-15 01:00:00                       Métropole du Grand Paris\n",
       "2        0 2023-03-15 02:00:00                       Métropole du Grand Paris\n",
       "3        0 2023-03-15 03:00:00                       Métropole du Grand Paris\n",
       "4        0 2023-03-15 04:00:00  CC Les Portes Briardes entre Villes et Forêts"
      ]
     },
     "execution_count": 111,
     "metadata": {},
     "output_type": "execute_result"
    }
   ],
   "source": [
    "groupbyB.head()"
   ]
  },
  {
   "cell_type": "code",
   "execution_count": 112,
   "id": "d2297b9c",
   "metadata": {},
   "outputs": [],
   "source": [
    "def secondTime(t):\n",
    "    seconds = (t.hour * 60 + t.minute) * 60 + t.second\n",
    "    return seconds"
   ]
  },
  {
   "cell_type": "code",
   "execution_count": 113,
   "id": "d8e6ff16",
   "metadata": {},
   "outputs": [],
   "source": [
    "groupbyB['journey_start_time'] = groupbyB['journey_start_time'].map(lambda x:secondTime(x))"
   ]
  },
  {
   "cell_type": "code",
   "execution_count": 117,
   "id": "ddcce56b",
   "metadata": {},
   "outputs": [],
   "source": [
    "from sklearn.model_selection import train_test_split\n",
    "\n",
    "X_train, X_test, y_train, y_test = train_test_split(groupbyB[['cluster', 'journey_start_time']], groupbyB['journey_end_towngroup'], test_size=0.2, random_state=42)\n"
   ]
  },
  {
   "cell_type": "code",
   "execution_count": 119,
   "id": "700e6e88",
   "metadata": {},
   "outputs": [
    {
     "name": "stdout",
     "output_type": "stream",
     "text": [
      "Accuracy: 0.6424242424242425\n"
     ]
    }
   ],
   "source": [
    "from sklearn.tree import DecisionTreeClassifier\n",
    "from sklearn.metrics import accuracy_score\n",
    "\n",
    "clf = DecisionTreeClassifier()\n",
    "clf.fit(X_train, y_train)\n",
    "\n",
    "\n",
    "y_pred = clf.predict(X_test)\n",
    "\n",
    "\n",
    "accuracy = accuracy_score(y_test, y_pred)\n",
    "print('Accuracy:', accuracy)"
   ]
  },
  {
   "cell_type": "code",
   "execution_count": 122,
   "id": "bd2627eb",
   "metadata": {},
   "outputs": [],
   "source": [
    "pickle.dump(clf, open('DTModel.pickle', 'wb'))"
   ]
  },
  {
   "cell_type": "code",
   "execution_count": 121,
   "id": "da6c1998",
   "metadata": {},
   "outputs": [
    {
     "name": "stdout",
     "output_type": "stream",
     "text": [
      "Accuracy: 0.5333333333333333\n"
     ]
    }
   ],
   "source": [
    "from sklearn.neighbors import KNeighborsClassifier\n",
    "clf2 = KNeighborsClassifier(n_neighbors=5)\n",
    "clf2.fit(X_train, y_train)\n",
    "\n",
    "\n",
    "y_pred = clf2.predict(X_test)\n",
    "\n",
    "\n",
    "accuracy = accuracy_score(y_test, y_pred)\n",
    "print('Accuracy:', accuracy)"
   ]
  },
  {
   "cell_type": "code",
   "execution_count": 125,
   "id": "70bde0a0",
   "metadata": {},
   "outputs": [],
   "source": [
    "pickle.dump(clf2, open('KnnClassModel.pickle', 'wb'))"
   ]
  },
  {
   "cell_type": "code",
   "execution_count": null,
   "id": "741ef498",
   "metadata": {},
   "outputs": [],
   "source": []
  }
 ],
 "metadata": {
  "kernelspec": {
   "display_name": "Python 3 (ipykernel)",
   "language": "python",
   "name": "python3"
  },
  "language_info": {
   "codemirror_mode": {
    "name": "ipython",
    "version": 3
   },
   "file_extension": ".py",
   "mimetype": "text/x-python",
   "name": "python",
   "nbconvert_exporter": "python",
   "pygments_lexer": "ipython3",
   "version": "3.9.13"
  }
 },
 "nbformat": 4,
 "nbformat_minor": 5
}
