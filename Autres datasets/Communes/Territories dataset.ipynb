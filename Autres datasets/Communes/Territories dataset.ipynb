{
 "cells": [
  {
   "cell_type": "code",
   "execution_count": 1,
   "id": "8c994159",
   "metadata": {},
   "outputs": [],
   "source": [
    "import pandas as pd"
   ]
  },
  {
   "cell_type": "markdown",
   "id": "619f5409",
   "metadata": {},
   "source": [
    "## Density 2019 file"
   ]
  },
  {
   "cell_type": "code",
   "execution_count": 2,
   "id": "0864c363",
   "metadata": {},
   "outputs": [],
   "source": [
    "density_insee=pd.read_excel(\"/Users/clemence/IRONHACK/Final Project/Autres datasets/Communes/insee_rp_hist_1968.xlsx\")"
   ]
  },
  {
   "cell_type": "code",
   "execution_count": 3,
   "id": "544f9f6a",
   "metadata": {},
   "outputs": [
    {
     "data": {
      "text/html": [
       "<div>\n",
       "<style scoped>\n",
       "    .dataframe tbody tr th:only-of-type {\n",
       "        vertical-align: middle;\n",
       "    }\n",
       "\n",
       "    .dataframe tbody tr th {\n",
       "        vertical-align: top;\n",
       "    }\n",
       "\n",
       "    .dataframe thead th {\n",
       "        text-align: right;\n",
       "    }\n",
       "</style>\n",
       "<table border=\"1\" class=\"dataframe\">\n",
       "  <thead>\n",
       "    <tr style=\"text-align: right;\">\n",
       "      <th></th>\n",
       "      <th>Observatoire des territoires - ANCT</th>\n",
       "      <th>Unnamed: 1</th>\n",
       "      <th>Unnamed: 2</th>\n",
       "      <th>Unnamed: 3</th>\n",
       "    </tr>\n",
       "  </thead>\n",
       "  <tbody>\n",
       "    <tr>\n",
       "      <th>0</th>\n",
       "      <td>Insee - RP - données historiques depuis 1968 (...</td>\n",
       "      <td>NaN</td>\n",
       "      <td>NaN</td>\n",
       "      <td>NaN</td>\n",
       "    </tr>\n",
       "    <tr>\n",
       "      <th>1</th>\n",
       "      <td>NaN</td>\n",
       "      <td>NaN</td>\n",
       "      <td>NaN</td>\n",
       "      <td>NaN</td>\n",
       "    </tr>\n",
       "    <tr>\n",
       "      <th>2</th>\n",
       "      <td>NaN</td>\n",
       "      <td>NaN</td>\n",
       "      <td>NaN</td>\n",
       "      <td>Densité de population</td>\n",
       "    </tr>\n",
       "    <tr>\n",
       "      <th>3</th>\n",
       "      <td>codgeo</td>\n",
       "      <td>libgeo</td>\n",
       "      <td>an</td>\n",
       "      <td>dens_pop</td>\n",
       "    </tr>\n",
       "    <tr>\n",
       "      <th>4</th>\n",
       "      <td>01001</td>\n",
       "      <td>L'Abergement-Clémenciat</td>\n",
       "      <td>1968</td>\n",
       "      <td>21.76</td>\n",
       "    </tr>\n",
       "  </tbody>\n",
       "</table>\n",
       "</div>"
      ],
      "text/plain": [
       "                 Observatoire des territoires - ANCT               Unnamed: 1  \\\n",
       "0  Insee - RP - données historiques depuis 1968 (...                      NaN   \n",
       "1                                                NaN                      NaN   \n",
       "2                                                NaN                      NaN   \n",
       "3                                             codgeo                   libgeo   \n",
       "4                                              01001  L'Abergement-Clémenciat   \n",
       "\n",
       "  Unnamed: 2             Unnamed: 3  \n",
       "0        NaN                    NaN  \n",
       "1        NaN                    NaN  \n",
       "2        NaN  Densité de population  \n",
       "3         an               dens_pop  \n",
       "4       1968                  21.76  "
      ]
     },
     "execution_count": 3,
     "metadata": {},
     "output_type": "execute_result"
    }
   ],
   "source": [
    "density_insee.head()"
   ]
  },
  {
   "cell_type": "code",
   "execution_count": 4,
   "id": "c00658be",
   "metadata": {},
   "outputs": [],
   "source": [
    "density_insee.columns=list(density_insee.iloc[3])"
   ]
  },
  {
   "cell_type": "code",
   "execution_count": 5,
   "id": "24b0c75b",
   "metadata": {},
   "outputs": [
    {
     "data": {
      "text/html": [
       "<div>\n",
       "<style scoped>\n",
       "    .dataframe tbody tr th:only-of-type {\n",
       "        vertical-align: middle;\n",
       "    }\n",
       "\n",
       "    .dataframe tbody tr th {\n",
       "        vertical-align: top;\n",
       "    }\n",
       "\n",
       "    .dataframe thead th {\n",
       "        text-align: right;\n",
       "    }\n",
       "</style>\n",
       "<table border=\"1\" class=\"dataframe\">\n",
       "  <thead>\n",
       "    <tr style=\"text-align: right;\">\n",
       "      <th></th>\n",
       "      <th>codgeo</th>\n",
       "      <th>libgeo</th>\n",
       "      <th>an</th>\n",
       "      <th>dens_pop</th>\n",
       "    </tr>\n",
       "  </thead>\n",
       "  <tbody>\n",
       "    <tr>\n",
       "      <th>0</th>\n",
       "      <td>Insee - RP - données historiques depuis 1968 (...</td>\n",
       "      <td>NaN</td>\n",
       "      <td>NaN</td>\n",
       "      <td>NaN</td>\n",
       "    </tr>\n",
       "    <tr>\n",
       "      <th>1</th>\n",
       "      <td>NaN</td>\n",
       "      <td>NaN</td>\n",
       "      <td>NaN</td>\n",
       "      <td>NaN</td>\n",
       "    </tr>\n",
       "    <tr>\n",
       "      <th>2</th>\n",
       "      <td>NaN</td>\n",
       "      <td>NaN</td>\n",
       "      <td>NaN</td>\n",
       "      <td>Densité de population</td>\n",
       "    </tr>\n",
       "    <tr>\n",
       "      <th>3</th>\n",
       "      <td>codgeo</td>\n",
       "      <td>libgeo</td>\n",
       "      <td>an</td>\n",
       "      <td>dens_pop</td>\n",
       "    </tr>\n",
       "    <tr>\n",
       "      <th>4</th>\n",
       "      <td>01001</td>\n",
       "      <td>L'Abergement-Clémenciat</td>\n",
       "      <td>1968</td>\n",
       "      <td>21.76</td>\n",
       "    </tr>\n",
       "  </tbody>\n",
       "</table>\n",
       "</div>"
      ],
      "text/plain": [
       "                                              codgeo                   libgeo  \\\n",
       "0  Insee - RP - données historiques depuis 1968 (...                      NaN   \n",
       "1                                                NaN                      NaN   \n",
       "2                                                NaN                      NaN   \n",
       "3                                             codgeo                   libgeo   \n",
       "4                                              01001  L'Abergement-Clémenciat   \n",
       "\n",
       "     an               dens_pop  \n",
       "0   NaN                    NaN  \n",
       "1   NaN                    NaN  \n",
       "2   NaN  Densité de population  \n",
       "3    an               dens_pop  \n",
       "4  1968                  21.76  "
      ]
     },
     "execution_count": 5,
     "metadata": {},
     "output_type": "execute_result"
    }
   ],
   "source": [
    "density_insee.head()"
   ]
  },
  {
   "cell_type": "code",
   "execution_count": 7,
   "id": "bd45aa78",
   "metadata": {},
   "outputs": [],
   "source": [
    "density_insee.drop(index=[0,1,2,3],axis=0,inplace=True)"
   ]
  },
  {
   "cell_type": "code",
   "execution_count": 8,
   "id": "8a46b911",
   "metadata": {},
   "outputs": [
    {
     "data": {
      "text/html": [
       "<div>\n",
       "<style scoped>\n",
       "    .dataframe tbody tr th:only-of-type {\n",
       "        vertical-align: middle;\n",
       "    }\n",
       "\n",
       "    .dataframe tbody tr th {\n",
       "        vertical-align: top;\n",
       "    }\n",
       "\n",
       "    .dataframe thead th {\n",
       "        text-align: right;\n",
       "    }\n",
       "</style>\n",
       "<table border=\"1\" class=\"dataframe\">\n",
       "  <thead>\n",
       "    <tr style=\"text-align: right;\">\n",
       "      <th></th>\n",
       "      <th>codgeo</th>\n",
       "      <th>libgeo</th>\n",
       "      <th>an</th>\n",
       "      <th>dens_pop</th>\n",
       "    </tr>\n",
       "  </thead>\n",
       "  <tbody>\n",
       "    <tr>\n",
       "      <th>4</th>\n",
       "      <td>01001</td>\n",
       "      <td>L'Abergement-Clémenciat</td>\n",
       "      <td>1968</td>\n",
       "      <td>21.76</td>\n",
       "    </tr>\n",
       "    <tr>\n",
       "      <th>5</th>\n",
       "      <td>01001</td>\n",
       "      <td>L'Abergement-Clémenciat</td>\n",
       "      <td>1975</td>\n",
       "      <td>23.07</td>\n",
       "    </tr>\n",
       "    <tr>\n",
       "      <th>6</th>\n",
       "      <td>01001</td>\n",
       "      <td>L'Abergement-Clémenciat</td>\n",
       "      <td>1982</td>\n",
       "      <td>29.91</td>\n",
       "    </tr>\n",
       "    <tr>\n",
       "      <th>7</th>\n",
       "      <td>01001</td>\n",
       "      <td>L'Abergement-Clémenciat</td>\n",
       "      <td>1990</td>\n",
       "      <td>36.3</td>\n",
       "    </tr>\n",
       "    <tr>\n",
       "      <th>8</th>\n",
       "      <td>01001</td>\n",
       "      <td>L'Abergement-Clémenciat</td>\n",
       "      <td>1999</td>\n",
       "      <td>45.64</td>\n",
       "    </tr>\n",
       "  </tbody>\n",
       "</table>\n",
       "</div>"
      ],
      "text/plain": [
       "  codgeo                   libgeo    an dens_pop\n",
       "4  01001  L'Abergement-Clémenciat  1968    21.76\n",
       "5  01001  L'Abergement-Clémenciat  1975    23.07\n",
       "6  01001  L'Abergement-Clémenciat  1982    29.91\n",
       "7  01001  L'Abergement-Clémenciat  1990     36.3\n",
       "8  01001  L'Abergement-Clémenciat  1999    45.64"
      ]
     },
     "execution_count": 8,
     "metadata": {},
     "output_type": "execute_result"
    }
   ],
   "source": [
    "density_insee.head()"
   ]
  },
  {
   "cell_type": "code",
   "execution_count": 11,
   "id": "e0f7bab2",
   "metadata": {},
   "outputs": [],
   "source": [
    "density_2019=density_insee[density_insee[\"an\"]==\"2019\"]"
   ]
  },
  {
   "cell_type": "code",
   "execution_count": 12,
   "id": "5741d8ee",
   "metadata": {},
   "outputs": [
    {
     "data": {
      "text/html": [
       "<div>\n",
       "<style scoped>\n",
       "    .dataframe tbody tr th:only-of-type {\n",
       "        vertical-align: middle;\n",
       "    }\n",
       "\n",
       "    .dataframe tbody tr th {\n",
       "        vertical-align: top;\n",
       "    }\n",
       "\n",
       "    .dataframe thead th {\n",
       "        text-align: right;\n",
       "    }\n",
       "</style>\n",
       "<table border=\"1\" class=\"dataframe\">\n",
       "  <thead>\n",
       "    <tr style=\"text-align: right;\">\n",
       "      <th></th>\n",
       "      <th>codgeo</th>\n",
       "      <th>libgeo</th>\n",
       "      <th>an</th>\n",
       "      <th>dens_pop</th>\n",
       "    </tr>\n",
       "  </thead>\n",
       "  <tbody>\n",
       "    <tr>\n",
       "      <th>11</th>\n",
       "      <td>01001</td>\n",
       "      <td>L'Abergement-Clémenciat</td>\n",
       "      <td>2019</td>\n",
       "      <td>48.84</td>\n",
       "    </tr>\n",
       "    <tr>\n",
       "      <th>19</th>\n",
       "      <td>01002</td>\n",
       "      <td>L'Abergement-de-Varey</td>\n",
       "      <td>2019</td>\n",
       "      <td>27.98</td>\n",
       "    </tr>\n",
       "    <tr>\n",
       "      <th>27</th>\n",
       "      <td>01004</td>\n",
       "      <td>Ambérieu-en-Bugey</td>\n",
       "      <td>2019</td>\n",
       "      <td>574.55</td>\n",
       "    </tr>\n",
       "    <tr>\n",
       "      <th>35</th>\n",
       "      <td>01005</td>\n",
       "      <td>Ambérieux-en-Dombes</td>\n",
       "      <td>2019</td>\n",
       "      <td>109.99</td>\n",
       "    </tr>\n",
       "    <tr>\n",
       "      <th>43</th>\n",
       "      <td>01006</td>\n",
       "      <td>Ambléon</td>\n",
       "      <td>2019</td>\n",
       "      <td>19.05</td>\n",
       "    </tr>\n",
       "  </tbody>\n",
       "</table>\n",
       "</div>"
      ],
      "text/plain": [
       "   codgeo                   libgeo    an dens_pop\n",
       "11  01001  L'Abergement-Clémenciat  2019    48.84\n",
       "19  01002    L'Abergement-de-Varey  2019    27.98\n",
       "27  01004        Ambérieu-en-Bugey  2019   574.55\n",
       "35  01005      Ambérieux-en-Dombes  2019   109.99\n",
       "43  01006                  Ambléon  2019    19.05"
      ]
     },
     "execution_count": 12,
     "metadata": {},
     "output_type": "execute_result"
    }
   ],
   "source": [
    "density_2019.head()"
   ]
  },
  {
   "cell_type": "code",
   "execution_count": 14,
   "id": "ae5e5365",
   "metadata": {},
   "outputs": [
    {
     "name": "stderr",
     "output_type": "stream",
     "text": [
      "/var/folders/54/4cl_lcsx2v3_cd3ntyrh62340000gn/T/ipykernel_87638/2558341933.py:1: SettingWithCopyWarning: \n",
      "A value is trying to be set on a copy of a slice from a DataFrame\n",
      "\n",
      "See the caveats in the documentation: https://pandas.pydata.org/pandas-docs/stable/user_guide/indexing.html#returning-a-view-versus-a-copy\n",
      "  density_2019.drop(\"an\",axis=1,inplace=True)\n"
     ]
    }
   ],
   "source": [
    "density_2019.drop(\"an\",axis=1,inplace=True)"
   ]
  },
  {
   "cell_type": "code",
   "execution_count": 97,
   "id": "49b073b9",
   "metadata": {},
   "outputs": [
    {
     "data": {
      "text/html": [
       "<div>\n",
       "<style scoped>\n",
       "    .dataframe tbody tr th:only-of-type {\n",
       "        vertical-align: middle;\n",
       "    }\n",
       "\n",
       "    .dataframe tbody tr th {\n",
       "        vertical-align: top;\n",
       "    }\n",
       "\n",
       "    .dataframe thead th {\n",
       "        text-align: right;\n",
       "    }\n",
       "</style>\n",
       "<table border=\"1\" class=\"dataframe\">\n",
       "  <thead>\n",
       "    <tr style=\"text-align: right;\">\n",
       "      <th></th>\n",
       "      <th>codgeo</th>\n",
       "      <th>libgeo</th>\n",
       "      <th>dens_pop</th>\n",
       "    </tr>\n",
       "  </thead>\n",
       "  <tbody>\n",
       "    <tr>\n",
       "      <th>11</th>\n",
       "      <td>01001</td>\n",
       "      <td>L'Abergement-Clémenciat</td>\n",
       "      <td>48.84</td>\n",
       "    </tr>\n",
       "    <tr>\n",
       "      <th>19</th>\n",
       "      <td>01002</td>\n",
       "      <td>L'Abergement-de-Varey</td>\n",
       "      <td>27.98</td>\n",
       "    </tr>\n",
       "    <tr>\n",
       "      <th>27</th>\n",
       "      <td>01004</td>\n",
       "      <td>Ambérieu-en-Bugey</td>\n",
       "      <td>574.55</td>\n",
       "    </tr>\n",
       "    <tr>\n",
       "      <th>35</th>\n",
       "      <td>01005</td>\n",
       "      <td>Ambérieux-en-Dombes</td>\n",
       "      <td>109.99</td>\n",
       "    </tr>\n",
       "    <tr>\n",
       "      <th>43</th>\n",
       "      <td>01006</td>\n",
       "      <td>Ambléon</td>\n",
       "      <td>19.05</td>\n",
       "    </tr>\n",
       "  </tbody>\n",
       "</table>\n",
       "</div>"
      ],
      "text/plain": [
       "   codgeo                   libgeo dens_pop\n",
       "11  01001  L'Abergement-Clémenciat    48.84\n",
       "19  01002    L'Abergement-de-Varey    27.98\n",
       "27  01004        Ambérieu-en-Bugey   574.55\n",
       "35  01005      Ambérieux-en-Dombes   109.99\n",
       "43  01006                  Ambléon    19.05"
      ]
     },
     "execution_count": 97,
     "metadata": {},
     "output_type": "execute_result"
    }
   ],
   "source": [
    "density_2019.head()"
   ]
  },
  {
   "cell_type": "code",
   "execution_count": 125,
   "id": "4e48ee8f",
   "metadata": {},
   "outputs": [
    {
     "name": "stderr",
     "output_type": "stream",
     "text": [
      "/var/folders/54/4cl_lcsx2v3_cd3ntyrh62340000gn/T/ipykernel_87638/1419963793.py:1: SettingWithCopyWarning: \n",
      "A value is trying to be set on a copy of a slice from a DataFrame\n",
      "\n",
      "See the caveats in the documentation: https://pandas.pydata.org/pandas-docs/stable/user_guide/indexing.html#returning-a-view-versus-a-copy\n",
      "  density_2019.rename(columns={\"codgeo\":\"id_city\",\"libgeo\":\"city_name\"},inplace=True)\n"
     ]
    }
   ],
   "source": [
    "density_2019.rename(columns={\"codgeo\":\"id_city\",\"libgeo\":\"city_name\"},inplace=True)"
   ]
  },
  {
   "cell_type": "code",
   "execution_count": 126,
   "id": "3273bbe1",
   "metadata": {},
   "outputs": [],
   "source": [
    "density_2019.to_csv(\"/Users/clemence/IRONHACK/Final Project/Autres datasets/Communes/density.csv\")"
   ]
  },
  {
   "cell_type": "code",
   "execution_count": 112,
   "id": "db20d26d",
   "metadata": {},
   "outputs": [
    {
     "name": "stdout",
     "output_type": "stream",
     "text": [
      "Requirement already satisfied: pymysql in /Users/clemence/opt/anaconda3/lib/python3.9/site-packages (1.0.2)\r\n"
     ]
    }
   ],
   "source": [
    "! pip install pymysql\n",
    "from sqlalchemy import create_engine\n",
    "import pymysql.cursors \n",
    "import os\n",
    "import getpass"
   ]
  },
  {
   "cell_type": "code",
   "execution_count": 122,
   "id": "59cf7b0d",
   "metadata": {},
   "outputs": [
    {
     "name": "stdout",
     "output_type": "stream",
     "text": [
      "········\n"
     ]
    }
   ],
   "source": [
    "pw = getpass.getpass()"
   ]
  },
  {
   "cell_type": "code",
   "execution_count": 123,
   "id": "66c8bd6c",
   "metadata": {},
   "outputs": [],
   "source": [
    "connection_string = 'mysql+pymysql://root:' + pw + '@localhost:3306/' \n",
    "engine = create_engine(connection_string)"
   ]
  },
  {
   "cell_type": "code",
   "execution_count": 124,
   "id": "6a850b38",
   "metadata": {},
   "outputs": [],
   "source": [
    "with engine.connect() as conn:\n",
    "    conn.execute(f\"CREATE DATABASE IF NOT EXISTS Final_Project\")"
   ]
  },
  {
   "cell_type": "code",
   "execution_count": 127,
   "id": "eedf1cdc",
   "metadata": {},
   "outputs": [
    {
     "data": {
      "text/plain": [
       "34955"
      ]
     },
     "execution_count": 127,
     "metadata": {},
     "output_type": "execute_result"
    }
   ],
   "source": [
    "density_2019.to_sql('density', engine, 'Final_Project', if_exists='replace', index = True)"
   ]
  },
  {
   "cell_type": "markdown",
   "id": "fffc6524",
   "metadata": {},
   "source": [
    "## Link code communes et code régions"
   ]
  },
  {
   "cell_type": "code",
   "execution_count": 22,
   "id": "aa1eac85",
   "metadata": {},
   "outputs": [],
   "source": [
    "codegeo_df=pd.read_csv(\"/Users/clemence/IRONHACK/Final Project/Autres datasets/Communes/commune_2022.csv\")"
   ]
  },
  {
   "cell_type": "code",
   "execution_count": 23,
   "id": "1f96c6cd",
   "metadata": {},
   "outputs": [
    {
     "data": {
      "text/html": [
       "<div>\n",
       "<style scoped>\n",
       "    .dataframe tbody tr th:only-of-type {\n",
       "        vertical-align: middle;\n",
       "    }\n",
       "\n",
       "    .dataframe tbody tr th {\n",
       "        vertical-align: top;\n",
       "    }\n",
       "\n",
       "    .dataframe thead th {\n",
       "        text-align: right;\n",
       "    }\n",
       "</style>\n",
       "<table border=\"1\" class=\"dataframe\">\n",
       "  <thead>\n",
       "    <tr style=\"text-align: right;\">\n",
       "      <th></th>\n",
       "      <th>TYPECOM</th>\n",
       "      <th>COM</th>\n",
       "      <th>REG</th>\n",
       "      <th>DEP</th>\n",
       "      <th>CTCD</th>\n",
       "      <th>ARR</th>\n",
       "      <th>TNCC</th>\n",
       "      <th>NCC</th>\n",
       "      <th>NCCENR</th>\n",
       "      <th>LIBELLE</th>\n",
       "      <th>CAN</th>\n",
       "      <th>COMPARENT</th>\n",
       "    </tr>\n",
       "  </thead>\n",
       "  <tbody>\n",
       "    <tr>\n",
       "      <th>0</th>\n",
       "      <td>COM</td>\n",
       "      <td>01001</td>\n",
       "      <td>84.0</td>\n",
       "      <td>01</td>\n",
       "      <td>01D</td>\n",
       "      <td>012</td>\n",
       "      <td>5</td>\n",
       "      <td>ABERGEMENT CLEMENCIAT</td>\n",
       "      <td>Abergement-Clémenciat</td>\n",
       "      <td>L'Abergement-Clémenciat</td>\n",
       "      <td>0108</td>\n",
       "      <td>NaN</td>\n",
       "    </tr>\n",
       "    <tr>\n",
       "      <th>1</th>\n",
       "      <td>COM</td>\n",
       "      <td>01002</td>\n",
       "      <td>84.0</td>\n",
       "      <td>01</td>\n",
       "      <td>01D</td>\n",
       "      <td>011</td>\n",
       "      <td>5</td>\n",
       "      <td>ABERGEMENT DE VAREY</td>\n",
       "      <td>Abergement-de-Varey</td>\n",
       "      <td>L'Abergement-de-Varey</td>\n",
       "      <td>0101</td>\n",
       "      <td>NaN</td>\n",
       "    </tr>\n",
       "    <tr>\n",
       "      <th>2</th>\n",
       "      <td>COM</td>\n",
       "      <td>01004</td>\n",
       "      <td>84.0</td>\n",
       "      <td>01</td>\n",
       "      <td>01D</td>\n",
       "      <td>011</td>\n",
       "      <td>1</td>\n",
       "      <td>AMBERIEU EN BUGEY</td>\n",
       "      <td>Ambérieu-en-Bugey</td>\n",
       "      <td>Ambérieu-en-Bugey</td>\n",
       "      <td>0101</td>\n",
       "      <td>NaN</td>\n",
       "    </tr>\n",
       "    <tr>\n",
       "      <th>3</th>\n",
       "      <td>COM</td>\n",
       "      <td>01005</td>\n",
       "      <td>84.0</td>\n",
       "      <td>01</td>\n",
       "      <td>01D</td>\n",
       "      <td>012</td>\n",
       "      <td>1</td>\n",
       "      <td>AMBERIEUX EN DOMBES</td>\n",
       "      <td>Ambérieux-en-Dombes</td>\n",
       "      <td>Ambérieux-en-Dombes</td>\n",
       "      <td>0122</td>\n",
       "      <td>NaN</td>\n",
       "    </tr>\n",
       "    <tr>\n",
       "      <th>4</th>\n",
       "      <td>COM</td>\n",
       "      <td>01006</td>\n",
       "      <td>84.0</td>\n",
       "      <td>01</td>\n",
       "      <td>01D</td>\n",
       "      <td>011</td>\n",
       "      <td>1</td>\n",
       "      <td>AMBLEON</td>\n",
       "      <td>Ambléon</td>\n",
       "      <td>Ambléon</td>\n",
       "      <td>0104</td>\n",
       "      <td>NaN</td>\n",
       "    </tr>\n",
       "  </tbody>\n",
       "</table>\n",
       "</div>"
      ],
      "text/plain": [
       "  TYPECOM    COM   REG DEP CTCD  ARR  TNCC                    NCC  \\\n",
       "0     COM  01001  84.0  01  01D  012     5  ABERGEMENT CLEMENCIAT   \n",
       "1     COM  01002  84.0  01  01D  011     5    ABERGEMENT DE VAREY   \n",
       "2     COM  01004  84.0  01  01D  011     1      AMBERIEU EN BUGEY   \n",
       "3     COM  01005  84.0  01  01D  012     1    AMBERIEUX EN DOMBES   \n",
       "4     COM  01006  84.0  01  01D  011     1                AMBLEON   \n",
       "\n",
       "                  NCCENR                  LIBELLE   CAN  COMPARENT  \n",
       "0  Abergement-Clémenciat  L'Abergement-Clémenciat  0108        NaN  \n",
       "1    Abergement-de-Varey    L'Abergement-de-Varey  0101        NaN  \n",
       "2      Ambérieu-en-Bugey        Ambérieu-en-Bugey  0101        NaN  \n",
       "3    Ambérieux-en-Dombes      Ambérieux-en-Dombes  0122        NaN  \n",
       "4                Ambléon                  Ambléon  0104        NaN  "
      ]
     },
     "execution_count": 23,
     "metadata": {},
     "output_type": "execute_result"
    }
   ],
   "source": [
    "codegeo_df.head()"
   ]
  },
  {
   "cell_type": "code",
   "execution_count": 25,
   "id": "5c9b8a37",
   "metadata": {},
   "outputs": [
    {
     "data": {
      "text/plain": [
       "COM     34955\n",
       "COMD     2093\n",
       "COMA      508\n",
       "ARM        45\n",
       "Name: TYPECOM, dtype: int64"
      ]
     },
     "execution_count": 25,
     "metadata": {},
     "output_type": "execute_result"
    }
   ],
   "source": [
    "codegeo_df[\"TYPECOM\"].value_counts()"
   ]
  },
  {
   "cell_type": "code",
   "execution_count": 26,
   "id": "1f323510",
   "metadata": {},
   "outputs": [],
   "source": [
    "codegeo_df=codegeo_df[codegeo_df[\"TYPECOM\"]==\"COM\"]"
   ]
  },
  {
   "cell_type": "code",
   "execution_count": 27,
   "id": "3f08478e",
   "metadata": {},
   "outputs": [
    {
     "data": {
      "text/plain": [
       "COM    34955\n",
       "Name: TYPECOM, dtype: int64"
      ]
     },
     "execution_count": 27,
     "metadata": {},
     "output_type": "execute_result"
    }
   ],
   "source": [
    "codegeo_df[\"TYPECOM\"].value_counts()"
   ]
  },
  {
   "cell_type": "code",
   "execution_count": 28,
   "id": "a7878884",
   "metadata": {},
   "outputs": [],
   "source": [
    "codegeo_df.drop([\"TYPECOM\"],axis=1,inplace=True)"
   ]
  },
  {
   "cell_type": "code",
   "execution_count": 29,
   "id": "0942ad58",
   "metadata": {},
   "outputs": [
    {
     "data": {
      "text/html": [
       "<div>\n",
       "<style scoped>\n",
       "    .dataframe tbody tr th:only-of-type {\n",
       "        vertical-align: middle;\n",
       "    }\n",
       "\n",
       "    .dataframe tbody tr th {\n",
       "        vertical-align: top;\n",
       "    }\n",
       "\n",
       "    .dataframe thead th {\n",
       "        text-align: right;\n",
       "    }\n",
       "</style>\n",
       "<table border=\"1\" class=\"dataframe\">\n",
       "  <thead>\n",
       "    <tr style=\"text-align: right;\">\n",
       "      <th></th>\n",
       "      <th>COM</th>\n",
       "      <th>REG</th>\n",
       "      <th>DEP</th>\n",
       "      <th>CTCD</th>\n",
       "      <th>ARR</th>\n",
       "      <th>TNCC</th>\n",
       "      <th>NCC</th>\n",
       "      <th>NCCENR</th>\n",
       "      <th>LIBELLE</th>\n",
       "      <th>CAN</th>\n",
       "      <th>COMPARENT</th>\n",
       "    </tr>\n",
       "  </thead>\n",
       "  <tbody>\n",
       "    <tr>\n",
       "      <th>0</th>\n",
       "      <td>01001</td>\n",
       "      <td>84.0</td>\n",
       "      <td>01</td>\n",
       "      <td>01D</td>\n",
       "      <td>012</td>\n",
       "      <td>5</td>\n",
       "      <td>ABERGEMENT CLEMENCIAT</td>\n",
       "      <td>Abergement-Clémenciat</td>\n",
       "      <td>L'Abergement-Clémenciat</td>\n",
       "      <td>0108</td>\n",
       "      <td>NaN</td>\n",
       "    </tr>\n",
       "    <tr>\n",
       "      <th>1</th>\n",
       "      <td>01002</td>\n",
       "      <td>84.0</td>\n",
       "      <td>01</td>\n",
       "      <td>01D</td>\n",
       "      <td>011</td>\n",
       "      <td>5</td>\n",
       "      <td>ABERGEMENT DE VAREY</td>\n",
       "      <td>Abergement-de-Varey</td>\n",
       "      <td>L'Abergement-de-Varey</td>\n",
       "      <td>0101</td>\n",
       "      <td>NaN</td>\n",
       "    </tr>\n",
       "    <tr>\n",
       "      <th>2</th>\n",
       "      <td>01004</td>\n",
       "      <td>84.0</td>\n",
       "      <td>01</td>\n",
       "      <td>01D</td>\n",
       "      <td>011</td>\n",
       "      <td>1</td>\n",
       "      <td>AMBERIEU EN BUGEY</td>\n",
       "      <td>Ambérieu-en-Bugey</td>\n",
       "      <td>Ambérieu-en-Bugey</td>\n",
       "      <td>0101</td>\n",
       "      <td>NaN</td>\n",
       "    </tr>\n",
       "    <tr>\n",
       "      <th>3</th>\n",
       "      <td>01005</td>\n",
       "      <td>84.0</td>\n",
       "      <td>01</td>\n",
       "      <td>01D</td>\n",
       "      <td>012</td>\n",
       "      <td>1</td>\n",
       "      <td>AMBERIEUX EN DOMBES</td>\n",
       "      <td>Ambérieux-en-Dombes</td>\n",
       "      <td>Ambérieux-en-Dombes</td>\n",
       "      <td>0122</td>\n",
       "      <td>NaN</td>\n",
       "    </tr>\n",
       "    <tr>\n",
       "      <th>4</th>\n",
       "      <td>01006</td>\n",
       "      <td>84.0</td>\n",
       "      <td>01</td>\n",
       "      <td>01D</td>\n",
       "      <td>011</td>\n",
       "      <td>1</td>\n",
       "      <td>AMBLEON</td>\n",
       "      <td>Ambléon</td>\n",
       "      <td>Ambléon</td>\n",
       "      <td>0104</td>\n",
       "      <td>NaN</td>\n",
       "    </tr>\n",
       "  </tbody>\n",
       "</table>\n",
       "</div>"
      ],
      "text/plain": [
       "     COM   REG DEP CTCD  ARR  TNCC                    NCC  \\\n",
       "0  01001  84.0  01  01D  012     5  ABERGEMENT CLEMENCIAT   \n",
       "1  01002  84.0  01  01D  011     5    ABERGEMENT DE VAREY   \n",
       "2  01004  84.0  01  01D  011     1      AMBERIEU EN BUGEY   \n",
       "3  01005  84.0  01  01D  012     1    AMBERIEUX EN DOMBES   \n",
       "4  01006  84.0  01  01D  011     1                AMBLEON   \n",
       "\n",
       "                  NCCENR                  LIBELLE   CAN  COMPARENT  \n",
       "0  Abergement-Clémenciat  L'Abergement-Clémenciat  0108        NaN  \n",
       "1    Abergement-de-Varey    L'Abergement-de-Varey  0101        NaN  \n",
       "2      Ambérieu-en-Bugey        Ambérieu-en-Bugey  0101        NaN  \n",
       "3    Ambérieux-en-Dombes      Ambérieux-en-Dombes  0122        NaN  \n",
       "4                Ambléon                  Ambléon  0104        NaN  "
      ]
     },
     "execution_count": 29,
     "metadata": {},
     "output_type": "execute_result"
    }
   ],
   "source": [
    "codegeo_df.head()"
   ]
  },
  {
   "cell_type": "code",
   "execution_count": 30,
   "id": "b015094b",
   "metadata": {},
   "outputs": [],
   "source": [
    "codegeo_df.drop([\"NCC\",\"NCCENR\",\"CAN\",\"COMPARENT\"],axis=1,inplace=True)"
   ]
  },
  {
   "cell_type": "code",
   "execution_count": 31,
   "id": "89ee65a9",
   "metadata": {},
   "outputs": [
    {
     "data": {
      "text/html": [
       "<div>\n",
       "<style scoped>\n",
       "    .dataframe tbody tr th:only-of-type {\n",
       "        vertical-align: middle;\n",
       "    }\n",
       "\n",
       "    .dataframe tbody tr th {\n",
       "        vertical-align: top;\n",
       "    }\n",
       "\n",
       "    .dataframe thead th {\n",
       "        text-align: right;\n",
       "    }\n",
       "</style>\n",
       "<table border=\"1\" class=\"dataframe\">\n",
       "  <thead>\n",
       "    <tr style=\"text-align: right;\">\n",
       "      <th></th>\n",
       "      <th>COM</th>\n",
       "      <th>REG</th>\n",
       "      <th>DEP</th>\n",
       "      <th>CTCD</th>\n",
       "      <th>ARR</th>\n",
       "      <th>TNCC</th>\n",
       "      <th>LIBELLE</th>\n",
       "    </tr>\n",
       "  </thead>\n",
       "  <tbody>\n",
       "    <tr>\n",
       "      <th>0</th>\n",
       "      <td>01001</td>\n",
       "      <td>84.0</td>\n",
       "      <td>01</td>\n",
       "      <td>01D</td>\n",
       "      <td>012</td>\n",
       "      <td>5</td>\n",
       "      <td>L'Abergement-Clémenciat</td>\n",
       "    </tr>\n",
       "    <tr>\n",
       "      <th>1</th>\n",
       "      <td>01002</td>\n",
       "      <td>84.0</td>\n",
       "      <td>01</td>\n",
       "      <td>01D</td>\n",
       "      <td>011</td>\n",
       "      <td>5</td>\n",
       "      <td>L'Abergement-de-Varey</td>\n",
       "    </tr>\n",
       "    <tr>\n",
       "      <th>2</th>\n",
       "      <td>01004</td>\n",
       "      <td>84.0</td>\n",
       "      <td>01</td>\n",
       "      <td>01D</td>\n",
       "      <td>011</td>\n",
       "      <td>1</td>\n",
       "      <td>Ambérieu-en-Bugey</td>\n",
       "    </tr>\n",
       "    <tr>\n",
       "      <th>3</th>\n",
       "      <td>01005</td>\n",
       "      <td>84.0</td>\n",
       "      <td>01</td>\n",
       "      <td>01D</td>\n",
       "      <td>012</td>\n",
       "      <td>1</td>\n",
       "      <td>Ambérieux-en-Dombes</td>\n",
       "    </tr>\n",
       "    <tr>\n",
       "      <th>4</th>\n",
       "      <td>01006</td>\n",
       "      <td>84.0</td>\n",
       "      <td>01</td>\n",
       "      <td>01D</td>\n",
       "      <td>011</td>\n",
       "      <td>1</td>\n",
       "      <td>Ambléon</td>\n",
       "    </tr>\n",
       "  </tbody>\n",
       "</table>\n",
       "</div>"
      ],
      "text/plain": [
       "     COM   REG DEP CTCD  ARR  TNCC                  LIBELLE\n",
       "0  01001  84.0  01  01D  012     5  L'Abergement-Clémenciat\n",
       "1  01002  84.0  01  01D  011     5    L'Abergement-de-Varey\n",
       "2  01004  84.0  01  01D  011     1        Ambérieu-en-Bugey\n",
       "3  01005  84.0  01  01D  012     1      Ambérieux-en-Dombes\n",
       "4  01006  84.0  01  01D  011     1                  Ambléon"
      ]
     },
     "execution_count": 31,
     "metadata": {},
     "output_type": "execute_result"
    }
   ],
   "source": [
    "codegeo_df.head()"
   ]
  },
  {
   "cell_type": "code",
   "execution_count": 32,
   "id": "ba7246b5",
   "metadata": {},
   "outputs": [],
   "source": [
    "codegeo_df.drop([\"ARR\",\"TNCC\"],axis=1,inplace=True)"
   ]
  },
  {
   "cell_type": "code",
   "execution_count": 33,
   "id": "a4d6c069",
   "metadata": {},
   "outputs": [
    {
     "data": {
      "text/html": [
       "<div>\n",
       "<style scoped>\n",
       "    .dataframe tbody tr th:only-of-type {\n",
       "        vertical-align: middle;\n",
       "    }\n",
       "\n",
       "    .dataframe tbody tr th {\n",
       "        vertical-align: top;\n",
       "    }\n",
       "\n",
       "    .dataframe thead th {\n",
       "        text-align: right;\n",
       "    }\n",
       "</style>\n",
       "<table border=\"1\" class=\"dataframe\">\n",
       "  <thead>\n",
       "    <tr style=\"text-align: right;\">\n",
       "      <th></th>\n",
       "      <th>COM</th>\n",
       "      <th>REG</th>\n",
       "      <th>DEP</th>\n",
       "      <th>CTCD</th>\n",
       "      <th>LIBELLE</th>\n",
       "    </tr>\n",
       "  </thead>\n",
       "  <tbody>\n",
       "    <tr>\n",
       "      <th>0</th>\n",
       "      <td>01001</td>\n",
       "      <td>84.0</td>\n",
       "      <td>01</td>\n",
       "      <td>01D</td>\n",
       "      <td>L'Abergement-Clémenciat</td>\n",
       "    </tr>\n",
       "    <tr>\n",
       "      <th>1</th>\n",
       "      <td>01002</td>\n",
       "      <td>84.0</td>\n",
       "      <td>01</td>\n",
       "      <td>01D</td>\n",
       "      <td>L'Abergement-de-Varey</td>\n",
       "    </tr>\n",
       "    <tr>\n",
       "      <th>2</th>\n",
       "      <td>01004</td>\n",
       "      <td>84.0</td>\n",
       "      <td>01</td>\n",
       "      <td>01D</td>\n",
       "      <td>Ambérieu-en-Bugey</td>\n",
       "    </tr>\n",
       "    <tr>\n",
       "      <th>3</th>\n",
       "      <td>01005</td>\n",
       "      <td>84.0</td>\n",
       "      <td>01</td>\n",
       "      <td>01D</td>\n",
       "      <td>Ambérieux-en-Dombes</td>\n",
       "    </tr>\n",
       "    <tr>\n",
       "      <th>4</th>\n",
       "      <td>01006</td>\n",
       "      <td>84.0</td>\n",
       "      <td>01</td>\n",
       "      <td>01D</td>\n",
       "      <td>Ambléon</td>\n",
       "    </tr>\n",
       "  </tbody>\n",
       "</table>\n",
       "</div>"
      ],
      "text/plain": [
       "     COM   REG DEP CTCD                  LIBELLE\n",
       "0  01001  84.0  01  01D  L'Abergement-Clémenciat\n",
       "1  01002  84.0  01  01D    L'Abergement-de-Varey\n",
       "2  01004  84.0  01  01D        Ambérieu-en-Bugey\n",
       "3  01005  84.0  01  01D      Ambérieux-en-Dombes\n",
       "4  01006  84.0  01  01D                  Ambléon"
      ]
     },
     "execution_count": 33,
     "metadata": {},
     "output_type": "execute_result"
    }
   ],
   "source": [
    "codegeo_df.head()"
   ]
  },
  {
   "cell_type": "code",
   "execution_count": 35,
   "id": "996dd920",
   "metadata": {},
   "outputs": [
    {
     "data": {
      "text/plain": [
       "COM         object\n",
       "REG        float64\n",
       "DEP         object\n",
       "CTCD        object\n",
       "LIBELLE     object\n",
       "dtype: object"
      ]
     },
     "execution_count": 35,
     "metadata": {},
     "output_type": "execute_result"
    }
   ],
   "source": [
    "codegeo_df.dtypes"
   ]
  },
  {
   "cell_type": "code",
   "execution_count": 37,
   "id": "026c9d5d",
   "metadata": {},
   "outputs": [],
   "source": [
    "codegeo_df[\"REG\"]=codegeo_df[\"REG\"].astype(int)"
   ]
  },
  {
   "cell_type": "code",
   "execution_count": 38,
   "id": "c3b724fb",
   "metadata": {},
   "outputs": [
    {
     "data": {
      "text/plain": [
       "COM        object\n",
       "REG         int64\n",
       "DEP        object\n",
       "CTCD       object\n",
       "LIBELLE    object\n",
       "dtype: object"
      ]
     },
     "execution_count": 38,
     "metadata": {},
     "output_type": "execute_result"
    }
   ],
   "source": [
    "codegeo_df.dtypes"
   ]
  },
  {
   "cell_type": "code",
   "execution_count": 81,
   "id": "0748bf92",
   "metadata": {},
   "outputs": [],
   "source": [
    "codegeo_df.rename(columns={\"COM\":\"id_insee\",\"REG\":\"id_reg\",\"DEP\":\"id_dep\",\"LIBELLE\":\"NAME\"},inplace=True)"
   ]
  },
  {
   "cell_type": "code",
   "execution_count": 76,
   "id": "92ca599e",
   "metadata": {},
   "outputs": [],
   "source": [
    "codegeo_df.drop([\"CTCD\"],axis=1,inplace=True)"
   ]
  },
  {
   "cell_type": "code",
   "execution_count": 83,
   "id": "689cff8c",
   "metadata": {},
   "outputs": [],
   "source": [
    "codegeo_df.rename(columns={\"NAME\":\"city_name\"},inplace=True)"
   ]
  },
  {
   "cell_type": "code",
   "execution_count": 99,
   "id": "9407c3a5",
   "metadata": {},
   "outputs": [],
   "source": [
    "codegeo_df.rename(columns={\"id_insee\":\"id_city\"},inplace=True)"
   ]
  },
  {
   "cell_type": "code",
   "execution_count": 100,
   "id": "6a9fc0b4",
   "metadata": {},
   "outputs": [
    {
     "data": {
      "text/html": [
       "<div>\n",
       "<style scoped>\n",
       "    .dataframe tbody tr th:only-of-type {\n",
       "        vertical-align: middle;\n",
       "    }\n",
       "\n",
       "    .dataframe tbody tr th {\n",
       "        vertical-align: top;\n",
       "    }\n",
       "\n",
       "    .dataframe thead th {\n",
       "        text-align: right;\n",
       "    }\n",
       "</style>\n",
       "<table border=\"1\" class=\"dataframe\">\n",
       "  <thead>\n",
       "    <tr style=\"text-align: right;\">\n",
       "      <th></th>\n",
       "      <th>id_city</th>\n",
       "      <th>id_reg</th>\n",
       "      <th>id_dep</th>\n",
       "      <th>city_name</th>\n",
       "    </tr>\n",
       "  </thead>\n",
       "  <tbody>\n",
       "    <tr>\n",
       "      <th>0</th>\n",
       "      <td>01001</td>\n",
       "      <td>84</td>\n",
       "      <td>01</td>\n",
       "      <td>L'Abergement-Clémenciat</td>\n",
       "    </tr>\n",
       "    <tr>\n",
       "      <th>1</th>\n",
       "      <td>01002</td>\n",
       "      <td>84</td>\n",
       "      <td>01</td>\n",
       "      <td>L'Abergement-de-Varey</td>\n",
       "    </tr>\n",
       "    <tr>\n",
       "      <th>2</th>\n",
       "      <td>01004</td>\n",
       "      <td>84</td>\n",
       "      <td>01</td>\n",
       "      <td>Ambérieu-en-Bugey</td>\n",
       "    </tr>\n",
       "    <tr>\n",
       "      <th>3</th>\n",
       "      <td>01005</td>\n",
       "      <td>84</td>\n",
       "      <td>01</td>\n",
       "      <td>Ambérieux-en-Dombes</td>\n",
       "    </tr>\n",
       "    <tr>\n",
       "      <th>4</th>\n",
       "      <td>01006</td>\n",
       "      <td>84</td>\n",
       "      <td>01</td>\n",
       "      <td>Ambléon</td>\n",
       "    </tr>\n",
       "  </tbody>\n",
       "</table>\n",
       "</div>"
      ],
      "text/plain": [
       "  id_city  id_reg id_dep                city_name\n",
       "0   01001      84     01  L'Abergement-Clémenciat\n",
       "1   01002      84     01    L'Abergement-de-Varey\n",
       "2   01004      84     01        Ambérieu-en-Bugey\n",
       "3   01005      84     01      Ambérieux-en-Dombes\n",
       "4   01006      84     01                  Ambléon"
      ]
     },
     "execution_count": 100,
     "metadata": {},
     "output_type": "execute_result"
    }
   ],
   "source": [
    "codegeo_df.head()"
   ]
  },
  {
   "cell_type": "code",
   "execution_count": 101,
   "id": "b8bb6a77",
   "metadata": {},
   "outputs": [],
   "source": [
    "codegeo_df.to_csv(\"/Users/clemence/IRONHACK/Final Project/Autres datasets/Communes/codecomm_reg.csv\")"
   ]
  },
  {
   "cell_type": "code",
   "execution_count": 128,
   "id": "97038a2d",
   "metadata": {},
   "outputs": [
    {
     "data": {
      "text/plain": [
       "34955"
      ]
     },
     "execution_count": 128,
     "metadata": {},
     "output_type": "execute_result"
    }
   ],
   "source": [
    "codegeo_df.to_sql('code_territories', engine, 'Final_Project', if_exists='replace', index = True)"
   ]
  },
  {
   "cell_type": "markdown",
   "id": "bf84886e",
   "metadata": {},
   "source": [
    "## Regions file"
   ]
  },
  {
   "cell_type": "code",
   "execution_count": 43,
   "id": "668a9070",
   "metadata": {},
   "outputs": [],
   "source": [
    "region_df=pd.read_csv(\"/Users/clemence/IRONHACK/Final Project/Autres datasets/Communes/region_2022.csv\")"
   ]
  },
  {
   "cell_type": "code",
   "execution_count": 45,
   "id": "c7adfee6",
   "metadata": {},
   "outputs": [
    {
     "data": {
      "text/html": [
       "<div>\n",
       "<style scoped>\n",
       "    .dataframe tbody tr th:only-of-type {\n",
       "        vertical-align: middle;\n",
       "    }\n",
       "\n",
       "    .dataframe tbody tr th {\n",
       "        vertical-align: top;\n",
       "    }\n",
       "\n",
       "    .dataframe thead th {\n",
       "        text-align: right;\n",
       "    }\n",
       "</style>\n",
       "<table border=\"1\" class=\"dataframe\">\n",
       "  <thead>\n",
       "    <tr style=\"text-align: right;\">\n",
       "      <th></th>\n",
       "      <th>REG</th>\n",
       "      <th>CHEFLIEU</th>\n",
       "      <th>TNCC</th>\n",
       "      <th>NCC</th>\n",
       "      <th>NCCENR</th>\n",
       "      <th>LIBELLE</th>\n",
       "    </tr>\n",
       "  </thead>\n",
       "  <tbody>\n",
       "    <tr>\n",
       "      <th>0</th>\n",
       "      <td>1</td>\n",
       "      <td>97105</td>\n",
       "      <td>3</td>\n",
       "      <td>GUADELOUPE</td>\n",
       "      <td>Guadeloupe</td>\n",
       "      <td>Guadeloupe</td>\n",
       "    </tr>\n",
       "    <tr>\n",
       "      <th>1</th>\n",
       "      <td>2</td>\n",
       "      <td>97209</td>\n",
       "      <td>3</td>\n",
       "      <td>MARTINIQUE</td>\n",
       "      <td>Martinique</td>\n",
       "      <td>Martinique</td>\n",
       "    </tr>\n",
       "    <tr>\n",
       "      <th>2</th>\n",
       "      <td>3</td>\n",
       "      <td>97302</td>\n",
       "      <td>3</td>\n",
       "      <td>GUYANE</td>\n",
       "      <td>Guyane</td>\n",
       "      <td>Guyane</td>\n",
       "    </tr>\n",
       "    <tr>\n",
       "      <th>3</th>\n",
       "      <td>4</td>\n",
       "      <td>97411</td>\n",
       "      <td>0</td>\n",
       "      <td>LA REUNION</td>\n",
       "      <td>La Réunion</td>\n",
       "      <td>La Réunion</td>\n",
       "    </tr>\n",
       "    <tr>\n",
       "      <th>4</th>\n",
       "      <td>6</td>\n",
       "      <td>97608</td>\n",
       "      <td>0</td>\n",
       "      <td>MAYOTTE</td>\n",
       "      <td>Mayotte</td>\n",
       "      <td>Mayotte</td>\n",
       "    </tr>\n",
       "  </tbody>\n",
       "</table>\n",
       "</div>"
      ],
      "text/plain": [
       "   REG CHEFLIEU  TNCC         NCC      NCCENR     LIBELLE\n",
       "0    1    97105     3  GUADELOUPE  Guadeloupe  Guadeloupe\n",
       "1    2    97209     3  MARTINIQUE  Martinique  Martinique\n",
       "2    3    97302     3      GUYANE      Guyane      Guyane\n",
       "3    4    97411     0  LA REUNION  La Réunion  La Réunion\n",
       "4    6    97608     0     MAYOTTE     Mayotte     Mayotte"
      ]
     },
     "execution_count": 45,
     "metadata": {},
     "output_type": "execute_result"
    }
   ],
   "source": [
    "region_df.head()"
   ]
  },
  {
   "cell_type": "code",
   "execution_count": 46,
   "id": "9e5be34b",
   "metadata": {},
   "outputs": [],
   "source": [
    "region_df.drop([\"CHEFLIEU\",\"TNCC\",\"NCC\",\"NCCENR\"],axis=1,inplace=True)"
   ]
  },
  {
   "cell_type": "code",
   "execution_count": 86,
   "id": "c58bb232",
   "metadata": {},
   "outputs": [
    {
     "data": {
      "text/html": [
       "<div>\n",
       "<style scoped>\n",
       "    .dataframe tbody tr th:only-of-type {\n",
       "        vertical-align: middle;\n",
       "    }\n",
       "\n",
       "    .dataframe tbody tr th {\n",
       "        vertical-align: top;\n",
       "    }\n",
       "\n",
       "    .dataframe thead th {\n",
       "        text-align: right;\n",
       "    }\n",
       "</style>\n",
       "<table border=\"1\" class=\"dataframe\">\n",
       "  <thead>\n",
       "    <tr style=\"text-align: right;\">\n",
       "      <th></th>\n",
       "      <th>id_reg</th>\n",
       "      <th>region_name</th>\n",
       "    </tr>\n",
       "  </thead>\n",
       "  <tbody>\n",
       "    <tr>\n",
       "      <th>0</th>\n",
       "      <td>1</td>\n",
       "      <td>Guadeloupe</td>\n",
       "    </tr>\n",
       "    <tr>\n",
       "      <th>1</th>\n",
       "      <td>2</td>\n",
       "      <td>Martinique</td>\n",
       "    </tr>\n",
       "    <tr>\n",
       "      <th>2</th>\n",
       "      <td>3</td>\n",
       "      <td>Guyane</td>\n",
       "    </tr>\n",
       "    <tr>\n",
       "      <th>3</th>\n",
       "      <td>4</td>\n",
       "      <td>La Réunion</td>\n",
       "    </tr>\n",
       "    <tr>\n",
       "      <th>4</th>\n",
       "      <td>6</td>\n",
       "      <td>Mayotte</td>\n",
       "    </tr>\n",
       "    <tr>\n",
       "      <th>5</th>\n",
       "      <td>11</td>\n",
       "      <td>Île-de-France</td>\n",
       "    </tr>\n",
       "    <tr>\n",
       "      <th>6</th>\n",
       "      <td>24</td>\n",
       "      <td>Centre-Val de Loire</td>\n",
       "    </tr>\n",
       "    <tr>\n",
       "      <th>7</th>\n",
       "      <td>27</td>\n",
       "      <td>Bourgogne-Franche-Comté</td>\n",
       "    </tr>\n",
       "    <tr>\n",
       "      <th>8</th>\n",
       "      <td>28</td>\n",
       "      <td>Normandie</td>\n",
       "    </tr>\n",
       "    <tr>\n",
       "      <th>9</th>\n",
       "      <td>32</td>\n",
       "      <td>Hauts-de-France</td>\n",
       "    </tr>\n",
       "    <tr>\n",
       "      <th>10</th>\n",
       "      <td>44</td>\n",
       "      <td>Grand Est</td>\n",
       "    </tr>\n",
       "    <tr>\n",
       "      <th>11</th>\n",
       "      <td>52</td>\n",
       "      <td>Pays de la Loire</td>\n",
       "    </tr>\n",
       "    <tr>\n",
       "      <th>12</th>\n",
       "      <td>53</td>\n",
       "      <td>Bretagne</td>\n",
       "    </tr>\n",
       "    <tr>\n",
       "      <th>13</th>\n",
       "      <td>75</td>\n",
       "      <td>Nouvelle-Aquitaine</td>\n",
       "    </tr>\n",
       "    <tr>\n",
       "      <th>14</th>\n",
       "      <td>76</td>\n",
       "      <td>Occitanie</td>\n",
       "    </tr>\n",
       "    <tr>\n",
       "      <th>15</th>\n",
       "      <td>84</td>\n",
       "      <td>Auvergne-Rhône-Alpes</td>\n",
       "    </tr>\n",
       "    <tr>\n",
       "      <th>16</th>\n",
       "      <td>93</td>\n",
       "      <td>Provence-Alpes-Côte d'Azur</td>\n",
       "    </tr>\n",
       "    <tr>\n",
       "      <th>17</th>\n",
       "      <td>94</td>\n",
       "      <td>Corse</td>\n",
       "    </tr>\n",
       "  </tbody>\n",
       "</table>\n",
       "</div>"
      ],
      "text/plain": [
       "    id_reg                 region_name\n",
       "0        1                  Guadeloupe\n",
       "1        2                  Martinique\n",
       "2        3                      Guyane\n",
       "3        4                  La Réunion\n",
       "4        6                     Mayotte\n",
       "5       11               Île-de-France\n",
       "6       24         Centre-Val de Loire\n",
       "7       27     Bourgogne-Franche-Comté\n",
       "8       28                   Normandie\n",
       "9       32             Hauts-de-France\n",
       "10      44                   Grand Est\n",
       "11      52            Pays de la Loire\n",
       "12      53                    Bretagne\n",
       "13      75          Nouvelle-Aquitaine\n",
       "14      76                   Occitanie\n",
       "15      84        Auvergne-Rhône-Alpes\n",
       "16      93  Provence-Alpes-Côte d'Azur\n",
       "17      94                       Corse"
      ]
     },
     "execution_count": 86,
     "metadata": {},
     "output_type": "execute_result"
    }
   ],
   "source": [
    "region_df"
   ]
  },
  {
   "cell_type": "code",
   "execution_count": 85,
   "id": "f937d7fd",
   "metadata": {},
   "outputs": [],
   "source": [
    "region_df.rename(columns={\"REG\":\"id_reg\",\"NAME\": \"region_name\"},inplace=True)"
   ]
  },
  {
   "cell_type": "code",
   "execution_count": 87,
   "id": "2b60e28e",
   "metadata": {},
   "outputs": [],
   "source": [
    "region_df.to_csv(\"/Users/clemence/IRONHACK/Final Project/Autres datasets/Communes/region.csv\")"
   ]
  },
  {
   "cell_type": "code",
   "execution_count": 162,
   "id": "a9d4fca1",
   "metadata": {},
   "outputs": [
    {
     "data": {
      "text/plain": [
       "18"
      ]
     },
     "execution_count": 162,
     "metadata": {},
     "output_type": "execute_result"
    }
   ],
   "source": [
    "region_df.to_sql('region', engine, 'Final_Project', if_exists='replace', index = False)"
   ]
  },
  {
   "cell_type": "markdown",
   "id": "a3fd372d",
   "metadata": {},
   "source": [
    "## Density type file"
   ]
  },
  {
   "cell_type": "code",
   "execution_count": 49,
   "id": "ea7480c4",
   "metadata": {},
   "outputs": [],
   "source": [
    "density_label=pd.read_excel(\"/Users/clemence/IRONHACK/Final Project/Autres datasets/Communes/grille_densite_7_niveaux_detaille_2022.xlsx\")"
   ]
  },
  {
   "cell_type": "code",
   "execution_count": 92,
   "id": "689de5f4",
   "metadata": {},
   "outputs": [],
   "source": [
    "density_label.rename(columns={\"Code commune\":\"id_city\",\"Libellé commune\": \"city_name\",\"Typo degré densité\":\"density_degree\",\"Libellé degré densité\":\"density_type\",\"Population \\nmunicipale \\n2019\":\"Total_pop_2019\"},inplace=True)"
   ]
  },
  {
   "cell_type": "code",
   "execution_count": 94,
   "id": "8d0ab42d",
   "metadata": {},
   "outputs": [],
   "source": [
    "density_label.rename(columns={\"Total_pop_2019\":\"total_pop_2019\"},inplace=True)"
   ]
  },
  {
   "cell_type": "code",
   "execution_count": 95,
   "id": "b71c426a",
   "metadata": {},
   "outputs": [
    {
     "data": {
      "text/html": [
       "<div>\n",
       "<style scoped>\n",
       "    .dataframe tbody tr th:only-of-type {\n",
       "        vertical-align: middle;\n",
       "    }\n",
       "\n",
       "    .dataframe tbody tr th {\n",
       "        vertical-align: top;\n",
       "    }\n",
       "\n",
       "    .dataframe thead th {\n",
       "        text-align: right;\n",
       "    }\n",
       "</style>\n",
       "<table border=\"1\" class=\"dataframe\">\n",
       "  <thead>\n",
       "    <tr style=\"text-align: right;\">\n",
       "      <th></th>\n",
       "      <th>id_city</th>\n",
       "      <th>city_name</th>\n",
       "      <th>density_degree</th>\n",
       "      <th>density_type</th>\n",
       "      <th>total_pop_2019</th>\n",
       "    </tr>\n",
       "  </thead>\n",
       "  <tbody>\n",
       "    <tr>\n",
       "      <th>0</th>\n",
       "      <td>01001</td>\n",
       "      <td>L'Abergement-Clémenciat</td>\n",
       "      <td>6</td>\n",
       "      <td>Rural à habitat dispersé</td>\n",
       "      <td>779</td>\n",
       "    </tr>\n",
       "    <tr>\n",
       "      <th>1</th>\n",
       "      <td>01002</td>\n",
       "      <td>L'Abergement-de-Varey</td>\n",
       "      <td>6</td>\n",
       "      <td>Rural à habitat dispersé</td>\n",
       "      <td>256</td>\n",
       "    </tr>\n",
       "    <tr>\n",
       "      <th>2</th>\n",
       "      <td>01004</td>\n",
       "      <td>Ambérieu-en-Bugey</td>\n",
       "      <td>2</td>\n",
       "      <td>Centres urbains intermédiaires</td>\n",
       "      <td>14134</td>\n",
       "    </tr>\n",
       "    <tr>\n",
       "      <th>3</th>\n",
       "      <td>01005</td>\n",
       "      <td>Ambérieux-en-Dombes</td>\n",
       "      <td>5</td>\n",
       "      <td>Bourgs ruraux</td>\n",
       "      <td>1751</td>\n",
       "    </tr>\n",
       "    <tr>\n",
       "      <th>4</th>\n",
       "      <td>01006</td>\n",
       "      <td>Ambléon</td>\n",
       "      <td>6</td>\n",
       "      <td>Rural à habitat dispersé</td>\n",
       "      <td>112</td>\n",
       "    </tr>\n",
       "  </tbody>\n",
       "</table>\n",
       "</div>"
      ],
      "text/plain": [
       "  id_city                city_name  density_degree  \\\n",
       "0   01001  L'Abergement-Clémenciat               6   \n",
       "1   01002    L'Abergement-de-Varey               6   \n",
       "2   01004        Ambérieu-en-Bugey               2   \n",
       "3   01005      Ambérieux-en-Dombes               5   \n",
       "4   01006                  Ambléon               6   \n",
       "\n",
       "                     density_type  total_pop_2019  \n",
       "0        Rural à habitat dispersé             779  \n",
       "1        Rural à habitat dispersé             256  \n",
       "2  Centres urbains intermédiaires           14134  \n",
       "3                   Bourgs ruraux            1751  \n",
       "4        Rural à habitat dispersé             112  "
      ]
     },
     "execution_count": 95,
     "metadata": {},
     "output_type": "execute_result"
    }
   ],
   "source": [
    "density_label.head()"
   ]
  },
  {
   "cell_type": "code",
   "execution_count": 111,
   "id": "97b2a4cc",
   "metadata": {},
   "outputs": [],
   "source": [
    "density_label.to_csv(\"/Users/clemence/IRONHACK/Final Project/Autres datasets/Communes/density_label.csv\")"
   ]
  },
  {
   "cell_type": "code",
   "execution_count": 130,
   "id": "16bd1eb0",
   "metadata": {},
   "outputs": [
    {
     "data": {
      "text/plain": [
       "34955"
      ]
     },
     "execution_count": 130,
     "metadata": {},
     "output_type": "execute_result"
    }
   ],
   "source": [
    "density_label.to_sql('density_labels', engine, 'Final_Project', if_exists='replace', index = True)"
   ]
  },
  {
   "cell_type": "code",
   "execution_count": 137,
   "id": "de2ec7ee",
   "metadata": {},
   "outputs": [
    {
     "data": {
      "text/plain": [
       "0"
      ]
     },
     "execution_count": 137,
     "metadata": {},
     "output_type": "execute_result"
    }
   ],
   "source": [
    "density_label[\"id_city\"].duplicated().sum()"
   ]
  },
  {
   "cell_type": "markdown",
   "id": "121c3977",
   "metadata": {},
   "source": [
    "## Home work commute"
   ]
  },
  {
   "cell_type": "code",
   "execution_count": 143,
   "id": "14571ca6",
   "metadata": {},
   "outputs": [
    {
     "name": "stderr",
     "output_type": "stream",
     "text": [
      "/var/folders/54/4cl_lcsx2v3_cd3ntyrh62340000gn/T/ipykernel_87638/599972091.py:1: DtypeWarning: Columns (0) have mixed types. Specify dtype option on import or set low_memory=False.\n",
      "  work_commute=pd.read_csv(\"/Users/clemence/IRONHACK/Final Project/Autres datasets/Communes/base-flux-mobilite-domicile-lieu-travail-2019.csv\",sep=\";\")\n"
     ]
    }
   ],
   "source": [
    "work_commute=pd.read_csv(\"/Users/clemence/IRONHACK/Final Project/Autres datasets/Communes/base-flux-mobilite-domicile-lieu-travail-2019.csv\",sep=\";\")"
   ]
  },
  {
   "cell_type": "code",
   "execution_count": 144,
   "id": "aaae86dc",
   "metadata": {},
   "outputs": [
    {
     "data": {
      "text/html": [
       "<div>\n",
       "<style scoped>\n",
       "    .dataframe tbody tr th:only-of-type {\n",
       "        vertical-align: middle;\n",
       "    }\n",
       "\n",
       "    .dataframe tbody tr th {\n",
       "        vertical-align: top;\n",
       "    }\n",
       "\n",
       "    .dataframe thead th {\n",
       "        text-align: right;\n",
       "    }\n",
       "</style>\n",
       "<table border=\"1\" class=\"dataframe\">\n",
       "  <thead>\n",
       "    <tr style=\"text-align: right;\">\n",
       "      <th></th>\n",
       "      <th>CODGEO</th>\n",
       "      <th>LIBGEO</th>\n",
       "      <th>DCLT</th>\n",
       "      <th>L_DCLT</th>\n",
       "      <th>NBFLUX_C19_ACTOCC15P</th>\n",
       "    </tr>\n",
       "  </thead>\n",
       "  <tbody>\n",
       "    <tr>\n",
       "      <th>0</th>\n",
       "      <td>1001</td>\n",
       "      <td>L'Abergement-Clémenciat</td>\n",
       "      <td>01001</td>\n",
       "      <td>L'Abergement-Clémenciat</td>\n",
       "      <td>77.008649</td>\n",
       "    </tr>\n",
       "    <tr>\n",
       "      <th>1</th>\n",
       "      <td>1001</td>\n",
       "      <td>L'Abergement-Clémenciat</td>\n",
       "      <td>01053</td>\n",
       "      <td>Bourg-en-Bresse</td>\n",
       "      <td>35.518950</td>\n",
       "    </tr>\n",
       "    <tr>\n",
       "      <th>2</th>\n",
       "      <td>1001</td>\n",
       "      <td>L'Abergement-Clémenciat</td>\n",
       "      <td>01093</td>\n",
       "      <td>Châtillon-sur-Chalaronne</td>\n",
       "      <td>55.487306</td>\n",
       "    </tr>\n",
       "    <tr>\n",
       "      <th>3</th>\n",
       "      <td>1001</td>\n",
       "      <td>L'Abergement-Clémenciat</td>\n",
       "      <td>01159</td>\n",
       "      <td>Feillens</td>\n",
       "      <td>4.954723</td>\n",
       "    </tr>\n",
       "    <tr>\n",
       "      <th>4</th>\n",
       "      <td>1001</td>\n",
       "      <td>L'Abergement-Clémenciat</td>\n",
       "      <td>01165</td>\n",
       "      <td>Francheleins</td>\n",
       "      <td>4.820431</td>\n",
       "    </tr>\n",
       "    <tr>\n",
       "      <th>5</th>\n",
       "      <td>1001</td>\n",
       "      <td>L'Abergement-Clémenciat</td>\n",
       "      <td>01194</td>\n",
       "      <td>Jassans-Riottier</td>\n",
       "      <td>5.234635</td>\n",
       "    </tr>\n",
       "    <tr>\n",
       "      <th>6</th>\n",
       "      <td>1001</td>\n",
       "      <td>L'Abergement-Clémenciat</td>\n",
       "      <td>01263</td>\n",
       "      <td>Montmerle-sur-Saône</td>\n",
       "      <td>4.954723</td>\n",
       "    </tr>\n",
       "    <tr>\n",
       "      <th>7</th>\n",
       "      <td>1001</td>\n",
       "      <td>L'Abergement-Clémenciat</td>\n",
       "      <td>01322</td>\n",
       "      <td>Reyrieux</td>\n",
       "      <td>4.954723</td>\n",
       "    </tr>\n",
       "    <tr>\n",
       "      <th>8</th>\n",
       "      <td>1001</td>\n",
       "      <td>L'Abergement-Clémenciat</td>\n",
       "      <td>01400</td>\n",
       "      <td>Seillonnaz</td>\n",
       "      <td>4.954723</td>\n",
       "    </tr>\n",
       "    <tr>\n",
       "      <th>9</th>\n",
       "      <td>1001</td>\n",
       "      <td>L'Abergement-Clémenciat</td>\n",
       "      <td>01420</td>\n",
       "      <td>Thoissey</td>\n",
       "      <td>4.954723</td>\n",
       "    </tr>\n",
       "    <tr>\n",
       "      <th>10</th>\n",
       "      <td>1001</td>\n",
       "      <td>L'Abergement-Clémenciat</td>\n",
       "      <td>01427</td>\n",
       "      <td>Trévoux</td>\n",
       "      <td>15.289700</td>\n",
       "    </tr>\n",
       "    <tr>\n",
       "      <th>11</th>\n",
       "      <td>1001</td>\n",
       "      <td>L'Abergement-Clémenciat</td>\n",
       "      <td>01443</td>\n",
       "      <td>Villars-les-Dombes</td>\n",
       "      <td>9.640862</td>\n",
       "    </tr>\n",
       "    <tr>\n",
       "      <th>12</th>\n",
       "      <td>1001</td>\n",
       "      <td>L'Abergement-Clémenciat</td>\n",
       "      <td>01451</td>\n",
       "      <td>Viriat</td>\n",
       "      <td>15.144080</td>\n",
       "    </tr>\n",
       "    <tr>\n",
       "      <th>13</th>\n",
       "      <td>1001</td>\n",
       "      <td>L'Abergement-Clémenciat</td>\n",
       "      <td>04209</td>\n",
       "      <td>Sisteron</td>\n",
       "      <td>5.380466</td>\n",
       "    </tr>\n",
       "    <tr>\n",
       "      <th>14</th>\n",
       "      <td>1001</td>\n",
       "      <td>L'Abergement-Clémenciat</td>\n",
       "      <td>35207</td>\n",
       "      <td>Noyal-sur-Vilaine</td>\n",
       "      <td>5.380466</td>\n",
       "    </tr>\n",
       "    <tr>\n",
       "      <th>15</th>\n",
       "      <td>1001</td>\n",
       "      <td>L'Abergement-Clémenciat</td>\n",
       "      <td>38455</td>\n",
       "      <td>Saint-Savin</td>\n",
       "      <td>5.234635</td>\n",
       "    </tr>\n",
       "    <tr>\n",
       "      <th>16</th>\n",
       "      <td>1001</td>\n",
       "      <td>L'Abergement-Clémenciat</td>\n",
       "      <td>69005</td>\n",
       "      <td>Ambérieux</td>\n",
       "      <td>5.092756</td>\n",
       "    </tr>\n",
       "    <tr>\n",
       "      <th>17</th>\n",
       "      <td>1001</td>\n",
       "      <td>L'Abergement-Clémenciat</td>\n",
       "      <td>69034</td>\n",
       "      <td>Caluire-et-Cuire</td>\n",
       "      <td>4.954723</td>\n",
       "    </tr>\n",
       "    <tr>\n",
       "      <th>18</th>\n",
       "      <td>1001</td>\n",
       "      <td>L'Abergement-Clémenciat</td>\n",
       "      <td>69043</td>\n",
       "      <td>Chaponost</td>\n",
       "      <td>5.234635</td>\n",
       "    </tr>\n",
       "    <tr>\n",
       "      <th>19</th>\n",
       "      <td>1001</td>\n",
       "      <td>L'Abergement-Clémenciat</td>\n",
       "      <td>69063</td>\n",
       "      <td>Collonges-au-Mont-d'Or</td>\n",
       "      <td>5.092756</td>\n",
       "    </tr>\n",
       "  </tbody>\n",
       "</table>\n",
       "</div>"
      ],
      "text/plain": [
       "   CODGEO                   LIBGEO   DCLT                    L_DCLT  \\\n",
       "0    1001  L'Abergement-Clémenciat  01001   L'Abergement-Clémenciat   \n",
       "1    1001  L'Abergement-Clémenciat  01053           Bourg-en-Bresse   \n",
       "2    1001  L'Abergement-Clémenciat  01093  Châtillon-sur-Chalaronne   \n",
       "3    1001  L'Abergement-Clémenciat  01159                  Feillens   \n",
       "4    1001  L'Abergement-Clémenciat  01165              Francheleins   \n",
       "5    1001  L'Abergement-Clémenciat  01194          Jassans-Riottier   \n",
       "6    1001  L'Abergement-Clémenciat  01263       Montmerle-sur-Saône   \n",
       "7    1001  L'Abergement-Clémenciat  01322                  Reyrieux   \n",
       "8    1001  L'Abergement-Clémenciat  01400                Seillonnaz   \n",
       "9    1001  L'Abergement-Clémenciat  01420                  Thoissey   \n",
       "10   1001  L'Abergement-Clémenciat  01427                   Trévoux   \n",
       "11   1001  L'Abergement-Clémenciat  01443        Villars-les-Dombes   \n",
       "12   1001  L'Abergement-Clémenciat  01451                    Viriat   \n",
       "13   1001  L'Abergement-Clémenciat  04209                  Sisteron   \n",
       "14   1001  L'Abergement-Clémenciat  35207         Noyal-sur-Vilaine   \n",
       "15   1001  L'Abergement-Clémenciat  38455               Saint-Savin   \n",
       "16   1001  L'Abergement-Clémenciat  69005                 Ambérieux   \n",
       "17   1001  L'Abergement-Clémenciat  69034          Caluire-et-Cuire   \n",
       "18   1001  L'Abergement-Clémenciat  69043                 Chaponost   \n",
       "19   1001  L'Abergement-Clémenciat  69063    Collonges-au-Mont-d'Or   \n",
       "\n",
       "    NBFLUX_C19_ACTOCC15P  \n",
       "0              77.008649  \n",
       "1              35.518950  \n",
       "2              55.487306  \n",
       "3               4.954723  \n",
       "4               4.820431  \n",
       "5               5.234635  \n",
       "6               4.954723  \n",
       "7               4.954723  \n",
       "8               4.954723  \n",
       "9               4.954723  \n",
       "10             15.289700  \n",
       "11              9.640862  \n",
       "12             15.144080  \n",
       "13              5.380466  \n",
       "14              5.380466  \n",
       "15              5.234635  \n",
       "16              5.092756  \n",
       "17              4.954723  \n",
       "18              5.234635  \n",
       "19              5.092756  "
      ]
     },
     "execution_count": 144,
     "metadata": {},
     "output_type": "execute_result"
    }
   ],
   "source": [
    "work_commute.head(20)"
   ]
  },
  {
   "cell_type": "code",
   "execution_count": 145,
   "id": "4a249827",
   "metadata": {},
   "outputs": [
    {
     "data": {
      "text/plain": [
       "CODGEO                   object\n",
       "LIBGEO                   object\n",
       "DCLT                     object\n",
       "L_DCLT                   object\n",
       "NBFLUX_C19_ACTOCC15P    float64\n",
       "dtype: object"
      ]
     },
     "execution_count": 145,
     "metadata": {},
     "output_type": "execute_result"
    }
   ],
   "source": [
    "work_commute.dtypes"
   ]
  },
  {
   "cell_type": "code",
   "execution_count": 146,
   "id": "6a2e580e",
   "metadata": {},
   "outputs": [],
   "source": [
    "#I keep only the lines with people working in the same city as they live (I'll calculate percentage of people working outside their city after)\n",
    "work_commute=work_commute[work_commute[\"LIBGEO\"]==work_commute[\"L_DCLT\"]]"
   ]
  },
  {
   "cell_type": "code",
   "execution_count": 147,
   "id": "fae4f9f6",
   "metadata": {},
   "outputs": [
    {
     "data": {
      "text/html": [
       "<div>\n",
       "<style scoped>\n",
       "    .dataframe tbody tr th:only-of-type {\n",
       "        vertical-align: middle;\n",
       "    }\n",
       "\n",
       "    .dataframe tbody tr th {\n",
       "        vertical-align: top;\n",
       "    }\n",
       "\n",
       "    .dataframe thead th {\n",
       "        text-align: right;\n",
       "    }\n",
       "</style>\n",
       "<table border=\"1\" class=\"dataframe\">\n",
       "  <thead>\n",
       "    <tr style=\"text-align: right;\">\n",
       "      <th></th>\n",
       "      <th>CODGEO</th>\n",
       "      <th>LIBGEO</th>\n",
       "      <th>DCLT</th>\n",
       "      <th>L_DCLT</th>\n",
       "      <th>NBFLUX_C19_ACTOCC15P</th>\n",
       "    </tr>\n",
       "  </thead>\n",
       "  <tbody>\n",
       "    <tr>\n",
       "      <th>0</th>\n",
       "      <td>1001</td>\n",
       "      <td>L'Abergement-Clémenciat</td>\n",
       "      <td>01001</td>\n",
       "      <td>L'Abergement-Clémenciat</td>\n",
       "      <td>77.008649</td>\n",
       "    </tr>\n",
       "    <tr>\n",
       "      <th>33</th>\n",
       "      <td>1002</td>\n",
       "      <td>L'Abergement-de-Varey</td>\n",
       "      <td>01002</td>\n",
       "      <td>L'Abergement-de-Varey</td>\n",
       "      <td>10.402373</td>\n",
       "    </tr>\n",
       "    <tr>\n",
       "      <th>50</th>\n",
       "      <td>1004</td>\n",
       "      <td>Ambérieu-en-Bugey</td>\n",
       "      <td>01004</td>\n",
       "      <td>Ambérieu-en-Bugey</td>\n",
       "      <td>2420.133858</td>\n",
       "    </tr>\n",
       "    <tr>\n",
       "      <th>243</th>\n",
       "      <td>1005</td>\n",
       "      <td>Ambérieux-en-Dombes</td>\n",
       "      <td>01005</td>\n",
       "      <td>Ambérieux-en-Dombes</td>\n",
       "      <td>152.303591</td>\n",
       "    </tr>\n",
       "    <tr>\n",
       "      <th>320</th>\n",
       "      <td>1007</td>\n",
       "      <td>Ambronay</td>\n",
       "      <td>01007</td>\n",
       "      <td>Ambronay</td>\n",
       "      <td>180.000000</td>\n",
       "    </tr>\n",
       "    <tr>\n",
       "      <th>398</th>\n",
       "      <td>1008</td>\n",
       "      <td>Ambutrix</td>\n",
       "      <td>01008</td>\n",
       "      <td>Ambutrix</td>\n",
       "      <td>30.483013</td>\n",
       "    </tr>\n",
       "    <tr>\n",
       "      <th>425</th>\n",
       "      <td>1009</td>\n",
       "      <td>Andert-et-Condon</td>\n",
       "      <td>01009</td>\n",
       "      <td>Andert-et-Condon</td>\n",
       "      <td>5.202547</td>\n",
       "    </tr>\n",
       "    <tr>\n",
       "      <th>438</th>\n",
       "      <td>1010</td>\n",
       "      <td>Anglefort</td>\n",
       "      <td>01010</td>\n",
       "      <td>Anglefort</td>\n",
       "      <td>108.778676</td>\n",
       "    </tr>\n",
       "    <tr>\n",
       "      <th>469</th>\n",
       "      <td>1011</td>\n",
       "      <td>Apremont</td>\n",
       "      <td>01011</td>\n",
       "      <td>Apremont</td>\n",
       "      <td>19.384836</td>\n",
       "    </tr>\n",
       "    <tr>\n",
       "      <th>482</th>\n",
       "      <td>1012</td>\n",
       "      <td>Aranc</td>\n",
       "      <td>01012</td>\n",
       "      <td>Aranc</td>\n",
       "      <td>30.236787</td>\n",
       "    </tr>\n",
       "  </tbody>\n",
       "</table>\n",
       "</div>"
      ],
      "text/plain": [
       "    CODGEO                   LIBGEO   DCLT                   L_DCLT  \\\n",
       "0     1001  L'Abergement-Clémenciat  01001  L'Abergement-Clémenciat   \n",
       "33    1002    L'Abergement-de-Varey  01002    L'Abergement-de-Varey   \n",
       "50    1004        Ambérieu-en-Bugey  01004        Ambérieu-en-Bugey   \n",
       "243   1005      Ambérieux-en-Dombes  01005      Ambérieux-en-Dombes   \n",
       "320   1007                 Ambronay  01007                 Ambronay   \n",
       "398   1008                 Ambutrix  01008                 Ambutrix   \n",
       "425   1009         Andert-et-Condon  01009         Andert-et-Condon   \n",
       "438   1010                Anglefort  01010                Anglefort   \n",
       "469   1011                 Apremont  01011                 Apremont   \n",
       "482   1012                    Aranc  01012                    Aranc   \n",
       "\n",
       "     NBFLUX_C19_ACTOCC15P  \n",
       "0               77.008649  \n",
       "33              10.402373  \n",
       "50            2420.133858  \n",
       "243            152.303591  \n",
       "320            180.000000  \n",
       "398             30.483013  \n",
       "425              5.202547  \n",
       "438            108.778676  \n",
       "469             19.384836  \n",
       "482             30.236787  "
      ]
     },
     "execution_count": 147,
     "metadata": {},
     "output_type": "execute_result"
    }
   ],
   "source": [
    "work_commute.head(10)"
   ]
  },
  {
   "cell_type": "code",
   "execution_count": 148,
   "id": "5d9c7ce2",
   "metadata": {},
   "outputs": [],
   "source": [
    "work_commute.drop([\"CODGEO\",\"L_DCLT\"],axis=1,inplace=True)"
   ]
  },
  {
   "cell_type": "code",
   "execution_count": 149,
   "id": "d5fdcfbd",
   "metadata": {},
   "outputs": [],
   "source": [
    "work_commute.rename(columns={\"LIBGEO\":\"city_name\",\"DCLT\":\"id_city\",\"NBFLUX_C19_ACTOCC15P\": \"no_commute_pop\"},inplace=True)"
   ]
  },
  {
   "cell_type": "code",
   "execution_count": 150,
   "id": "db4ced42",
   "metadata": {},
   "outputs": [
    {
     "data": {
      "text/html": [
       "<div>\n",
       "<style scoped>\n",
       "    .dataframe tbody tr th:only-of-type {\n",
       "        vertical-align: middle;\n",
       "    }\n",
       "\n",
       "    .dataframe tbody tr th {\n",
       "        vertical-align: top;\n",
       "    }\n",
       "\n",
       "    .dataframe thead th {\n",
       "        text-align: right;\n",
       "    }\n",
       "</style>\n",
       "<table border=\"1\" class=\"dataframe\">\n",
       "  <thead>\n",
       "    <tr style=\"text-align: right;\">\n",
       "      <th></th>\n",
       "      <th>city_name</th>\n",
       "      <th>id_city</th>\n",
       "      <th>no_commute_pop</th>\n",
       "    </tr>\n",
       "  </thead>\n",
       "  <tbody>\n",
       "    <tr>\n",
       "      <th>0</th>\n",
       "      <td>L'Abergement-Clémenciat</td>\n",
       "      <td>01001</td>\n",
       "      <td>77.008649</td>\n",
       "    </tr>\n",
       "    <tr>\n",
       "      <th>33</th>\n",
       "      <td>L'Abergement-de-Varey</td>\n",
       "      <td>01002</td>\n",
       "      <td>10.402373</td>\n",
       "    </tr>\n",
       "    <tr>\n",
       "      <th>50</th>\n",
       "      <td>Ambérieu-en-Bugey</td>\n",
       "      <td>01004</td>\n",
       "      <td>2420.133858</td>\n",
       "    </tr>\n",
       "    <tr>\n",
       "      <th>243</th>\n",
       "      <td>Ambérieux-en-Dombes</td>\n",
       "      <td>01005</td>\n",
       "      <td>152.303591</td>\n",
       "    </tr>\n",
       "    <tr>\n",
       "      <th>320</th>\n",
       "      <td>Ambronay</td>\n",
       "      <td>01007</td>\n",
       "      <td>180.000000</td>\n",
       "    </tr>\n",
       "    <tr>\n",
       "      <th>...</th>\n",
       "      <td>...</td>\n",
       "      <td>...</td>\n",
       "      <td>...</td>\n",
       "    </tr>\n",
       "    <tr>\n",
       "      <th>963797</th>\n",
       "      <td>Sainte-Suzanne</td>\n",
       "      <td>97420</td>\n",
       "      <td>2577.266615</td>\n",
       "    </tr>\n",
       "    <tr>\n",
       "      <th>963814</th>\n",
       "      <td>Salazie</td>\n",
       "      <td>97421</td>\n",
       "      <td>1075.000000</td>\n",
       "    </tr>\n",
       "    <tr>\n",
       "      <th>963865</th>\n",
       "      <td>Le Tampon</td>\n",
       "      <td>97422</td>\n",
       "      <td>13497.847437</td>\n",
       "    </tr>\n",
       "    <tr>\n",
       "      <th>963887</th>\n",
       "      <td>Les Trois-Bassins</td>\n",
       "      <td>97423</td>\n",
       "      <td>791.661137</td>\n",
       "    </tr>\n",
       "    <tr>\n",
       "      <th>963898</th>\n",
       "      <td>Cilaos</td>\n",
       "      <td>97424</td>\n",
       "      <td>1197.961497</td>\n",
       "    </tr>\n",
       "  </tbody>\n",
       "</table>\n",
       "<p>33147 rows × 3 columns</p>\n",
       "</div>"
      ],
      "text/plain": [
       "                      city_name id_city  no_commute_pop\n",
       "0       L'Abergement-Clémenciat   01001       77.008649\n",
       "33        L'Abergement-de-Varey   01002       10.402373\n",
       "50            Ambérieu-en-Bugey   01004     2420.133858\n",
       "243         Ambérieux-en-Dombes   01005      152.303591\n",
       "320                    Ambronay   01007      180.000000\n",
       "...                         ...     ...             ...\n",
       "963797           Sainte-Suzanne   97420     2577.266615\n",
       "963814                  Salazie   97421     1075.000000\n",
       "963865                Le Tampon   97422    13497.847437\n",
       "963887        Les Trois-Bassins   97423      791.661137\n",
       "963898                   Cilaos   97424     1197.961497\n",
       "\n",
       "[33147 rows x 3 columns]"
      ]
     },
     "execution_count": 150,
     "metadata": {},
     "output_type": "execute_result"
    }
   ],
   "source": [
    "work_commute"
   ]
  },
  {
   "cell_type": "code",
   "execution_count": 155,
   "id": "9710377f",
   "metadata": {},
   "outputs": [
    {
     "data": {
      "text/plain": [
       "0"
      ]
     },
     "execution_count": 155,
     "metadata": {},
     "output_type": "execute_result"
    }
   ],
   "source": [
    "work_commute.duplicated().sum()"
   ]
  },
  {
   "cell_type": "code",
   "execution_count": 158,
   "id": "6180e3be",
   "metadata": {},
   "outputs": [],
   "source": [
    "work_commute=work_commute[work_commute[\"id_city\"].duplicated()==False]"
   ]
  },
  {
   "cell_type": "code",
   "execution_count": 159,
   "id": "10c4495c",
   "metadata": {},
   "outputs": [
    {
     "data": {
      "text/plain": [
       "(33128, 3)"
      ]
     },
     "execution_count": 159,
     "metadata": {},
     "output_type": "execute_result"
    }
   ],
   "source": [
    "work_commute.shape"
   ]
  },
  {
   "cell_type": "code",
   "execution_count": 160,
   "id": "bc119bfd",
   "metadata": {},
   "outputs": [],
   "source": [
    "work_commute.to_csv(\"/Users/clemence/IRONHACK/Final Project/Autres datasets/Communes/no_commute_pop.csv\")"
   ]
  },
  {
   "cell_type": "code",
   "execution_count": 161,
   "id": "45206539",
   "metadata": {},
   "outputs": [
    {
     "data": {
      "text/plain": [
       "33128"
      ]
     },
     "execution_count": 161,
     "metadata": {},
     "output_type": "execute_result"
    }
   ],
   "source": [
    "work_commute.to_sql('work_commute', engine, 'Final_Project', if_exists='replace', index = True)"
   ]
  },
  {
   "cell_type": "code",
   "execution_count": null,
   "id": "1926e20a",
   "metadata": {},
   "outputs": [],
   "source": []
  }
 ],
 "metadata": {
  "kernelspec": {
   "display_name": "Python 3 (ipykernel)",
   "language": "python",
   "name": "python3"
  },
  "language_info": {
   "codemirror_mode": {
    "name": "ipython",
    "version": 3
   },
   "file_extension": ".py",
   "mimetype": "text/x-python",
   "name": "python",
   "nbconvert_exporter": "python",
   "pygments_lexer": "ipython3",
   "version": "3.9.13"
  }
 },
 "nbformat": 4,
 "nbformat_minor": 5
}
